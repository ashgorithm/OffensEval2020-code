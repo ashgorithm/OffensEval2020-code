{
 "cells": [
  {
   "cell_type": "markdown",
   "metadata": {},
   "source": [
    "[![Open In Colab](https://colab.research.google.com/assets/colab-badge.svg)](https://colab.research.google.com/github/cozek/OffensEval2020-code/blob/master/notebooks/Eng%20Task%20A%20-%20Ensemble%20DistilGPT2.ipynb)"
   ]
  },
  {
   "cell_type": "markdown",
   "metadata": {},
   "source": [
    "# Import Libraries\n",
    "\n",
    "At the time of our work, we used the following library versions\n",
    "- numpy 1.18.1\n",
    "- pandas 1.0.1\n",
    "- torch 1.2.0\n",
    "- Cuda 10.0\n",
    "- python 3.7.0\n",
    "- sklearn 0.22.1\n",
    "- tqdm 4.42.1\n",
    "- nltk 3.4.5"
   ]
  },
  {
   "cell_type": "code",
   "execution_count": null,
   "metadata": {},
   "outputs": [],
   "source": [
    "!git clone https://github.com/cozek/OffensEval2020-code/"
   ]
  },
  {
   "cell_type": "code",
   "execution_count": null,
   "metadata": {},
   "outputs": [],
   "source": [
    "!git clone https://github.com/huggingface/transformers\n",
    "!pip install /content/transformers/"
   ]
  },
  {
   "cell_type": "code",
   "execution_count": 211,
   "metadata": {},
   "outputs": [],
   "source": [
    "import sys\n",
    "sys.path.append('/content/OffensEval2020-code/src/')\n",
    "import collections\n",
    "from typing import Callable\n",
    "import numpy as np\n",
    "np.random.seed(42)\n",
    "import pandas as pd\n",
    "from tqdm import notebook\n",
    "import importlib\n",
    "import pprint\n",
    "import nltk\n",
    "import datetime\n",
    "import os\n",
    "from argparse import Namespace\n",
    "\n",
    "from collections import Counter"
   ]
  },
  {
   "cell_type": "code",
   "execution_count": 3,
   "metadata": {},
   "outputs": [],
   "source": [
    "import utils.data as data_utils\n",
    "import utils.trac2020 as trac_utils\n",
    "import utils.general as general_utils\n",
    "import utils.transformer.data as transformer_data_utils\n",
    "import utils.transformer.general as transformer_general_utils\n",
    "general_utils.set_seed_everywhere()"
   ]
  },
  {
   "cell_type": "code",
   "execution_count": 4,
   "metadata": {},
   "outputs": [],
   "source": [
    "import logging\n",
    "logging.basicConfig(level=logging.INFO) "
   ]
  },
  {
   "cell_type": "code",
   "execution_count": 5,
   "metadata": {},
   "outputs": [
    {
     "data": {
      "text/plain": [
       "'1.2.0'"
      ]
     },
     "execution_count": 5,
     "metadata": {},
     "output_type": "execute_result"
    }
   ],
   "source": [
    "import torch\n",
    "import torch.nn as nn\n",
    "import torch.nn.functional as F\n",
    "import torch.optim as optim\n",
    "from torch.utils.data import Dataset, DataLoader\n",
    "torch.__version__ # we used version 1.2.0\n"
   ]
  },
  {
   "cell_type": "code",
   "execution_count": 6,
   "metadata": {},
   "outputs": [],
   "source": [
    "# Import RAdam and Lookahead\n",
    "from radam.radam import RAdam\n",
    "from lookahead.optimizer import Lookahead\n"
   ]
  },
  {
   "cell_type": "code",
   "execution_count": 7,
   "metadata": {},
   "outputs": [
    {
     "name": "stderr",
     "output_type": "stream",
     "text": [
      "INFO:transformers.file_utils:PyTorch version 1.2.0 available.\n"
     ]
    }
   ],
   "source": [
    "from transformers import RobertaTokenizer, RobertaModel, RobertaForSequenceClassification"
   ]
  },
  {
   "cell_type": "code",
   "execution_count": 8,
   "metadata": {},
   "outputs": [],
   "source": [
    " args = Namespace(\n",
    "        #use cuda by default\n",
    "        device = 'cuda' if torch.cuda.is_available() else 'cpu',\n",
    "    \n",
    "        #set batch size and number of epochs\n",
    "        batch_size = 32,\n",
    "        num_epochs = 20,\n",
    "    \n",
    "        #set the learning rate\n",
    "        learning_rate = 0.0001,\n",
    "\n",
    "        #location of the train, dev and test csv\n",
    "        train_val_csv = '/content/OffensEval2020-code/data/eng/task_c_tiny.zip',\n",
    "        test_csv = '/content/OffensEval2020-code/data/test_data/test_a_tweets.tsv',\n",
    "    \n",
    "        #directory to save our models at\n",
    "        directory = './models/', \n",
    "        model_name = 'roberta_attn_trac_task_a.pt',\n",
    "     \n",
    "        date = datetime.datetime.now().strftime(\"%a_%d_%b_%Y/\"),\n",
    ")"
   ]
  },
  {
   "cell_type": "markdown",
   "metadata": {},
   "source": [
    "## Model save location"
   ]
  },
  {
   "cell_type": "code",
   "execution_count": 9,
   "metadata": {},
   "outputs": [
    {
     "name": "stdout",
     "output_type": "stream",
     "text": [
      "/home/kaushik.das/OffensEval2020/saved_models/Wed_11_Mar_2020//task_c/roberta_attn/\n"
     ]
    }
   ],
   "source": [
    "directory = args.directory + args.date\n",
    "if not os.path.exists(directory):\n",
    "    os.makedirs(directory)\n",
    "args.directory = directory\n",
    "print(args.directory)"
   ]
  },
  {
   "cell_type": "markdown",
   "metadata": {},
   "source": [
    "## Load the dataset"
   ]
  },
  {
   "cell_type": "code",
   "execution_count": 10,
   "metadata": {},
   "outputs": [
    {
     "name": "stdout",
     "output_type": "stream",
     "text": [
      "0    152562\n",
      "1     24917\n",
      "2     11494\n",
      "Name: label, dtype: int64\n",
      "train    179524\n",
      "val        9449\n",
      "Name: split, dtype: int64\n"
     ]
    }
   ],
   "source": [
    "data_df_task_c = pd.read_csv(args.data.offeval_data['en_task_c_presplit_final'])\n",
    "print(data_df_task_c.label.value_counts())\n",
    "print(data_df_task_c.split.value_counts())"
   ]
  },
  {
   "cell_type": "code",
   "execution_count": 11,
   "metadata": {},
   "outputs": [
    {
     "name": "stdout",
     "output_type": "stream",
     "text": [
      "                         id  \\\n",
      "5244    1186108554765312002   \n",
      "128115  1159291683755962368   \n",
      "140602  1159917247755800577   \n",
      "125749  1162469290085355520   \n",
      "84623   1188059686748033024   \n",
      "\n",
      "                                                                         text  \\\n",
      "5244    I be wanting a lil boo but then I remember everyone ain't shit          \n",
      "128115  What i gotta be some ice cream to get licked around dis bitch           \n",
      "140602  Fool really had his height in his twitter bio... lame ass nigga         \n",
      "125749  Bitch I’m the baby 🤷🏽‍♀️                                                \n",
      "84623   the fuck my country didn't even experience ly and syt im ugly sobbing   \n",
      "\n",
      "        split  label  \n",
      "5244    train  0      \n",
      "128115  train  0      \n",
      "140602  train  0      \n",
      "125749  train  0      \n",
      "84623   train  0      \n"
     ]
    }
   ],
   "source": [
    "with pd.option_context('display.max_colwidth', -1): \n",
    "    print(data_df_task_c.sample(5))"
   ]
  },
  {
   "cell_type": "markdown",
   "metadata": {},
   "source": [
    "## Importing the Roberta Tokeniker and Punkt sentence tokenizer"
   ]
  },
  {
   "cell_type": "code",
   "execution_count": 12,
   "metadata": {},
   "outputs": [],
   "source": [
    "class RobertaPreprocessor():\n",
    "    def __init__(self,transformer_tokenizer,sentence_detector):\n",
    "        self.transformer_tokenizer = transformer_tokenizer\n",
    "        self.sentence_detector = sentence_detector\n",
    "        self.bos_token = transformer_tokenizer.bos_token\n",
    "        self.sep_token = ' ' + transformer_tokenizer.sep_token + ' '\n",
    "    def add_special_tokens(self, text):\n",
    "        sentences = self.sentence_detector.tokenize(text)\n",
    "        eos_added_text  = self.sep_token.join(sentences) \n",
    "        return self.bos_token +' '+ eos_added_text + ' ' + self.transformer_tokenizer.sep_token"
   ]
  },
  {
   "cell_type": "code",
   "execution_count": null,
   "metadata": {},
   "outputs": [],
   "source": [
    "!python -c 'import nltk; nltk.download(\"punkt\")'"
   ]
  },
  {
   "cell_type": "code",
   "execution_count": 13,
   "metadata": {
    "scrolled": true
   },
   "outputs": [
    {
     "name": "stderr",
     "output_type": "stream",
     "text": [
      "INFO:transformers.tokenization_utils:loading file https://s3.amazonaws.com/models.huggingface.co/bert/distilroberta-base-vocab.json from cache at /home/kaushik.das/.cache/torch/transformers/5f11352d3c3e932888f3ba75bc24579eacb5d1596d39ce56166aeae8fd363df8.ef00af9e673c7160b4d41cfda1f48c5f4cba57d5142754525572a846a1ab1b9b\n",
      "INFO:transformers.tokenization_utils:loading file https://s3.amazonaws.com/models.huggingface.co/bert/distilroberta-base-merges.txt from cache at /home/kaushik.das/.cache/torch/transformers/01f63a14ad93494c050af2090c59930fb787bdfb347c4cad7ce9063e1a5fe140.70bec105b4158ed9a1747fea67a43f5dee97855c64d62b6ec3742f4cfdb5feda\n"
     ]
    }
   ],
   "source": [
    "roberta_tokenizer = tokenizer = RobertaTokenizer.from_pretrained('distilroberta-base')\n",
    "punkt_sentence_detector = nltk.data.load('tokenizers/punkt/english.pickle')"
   ]
  },
  {
   "cell_type": "code",
   "execution_count": 14,
   "metadata": {},
   "outputs": [],
   "source": [
    "roberta_preproc = RobertaPreprocessor(roberta_tokenizer, punkt_sentence_detector)"
   ]
  },
  {
   "cell_type": "code",
   "execution_count": 15,
   "metadata": {},
   "outputs": [],
   "source": [
    "#apply the preprocessor on the exploded dataframe\n",
    "data_df_task_c['text'] = data_df_task_c['text'].map(roberta_preproc.add_special_tokens)\n"
   ]
  },
  {
   "cell_type": "code",
   "execution_count": 16,
   "metadata": {},
   "outputs": [
    {
     "name": "stdout",
     "output_type": "stream",
     "text": [
      "                         id  \\\n",
      "49079   1188333271303753729   \n",
      "99777   1188514382696927233   \n",
      "135957  1159549527013109760   \n",
      "13851   1160664798293450752   \n",
      "35525   1187184205504991232   \n",
      "\n",
      "                                                                                                        text  \\\n",
      "49079   <s> I don't want shit that ain't mine </s>                                                             \n",
      "99777   <s> Good news! </s> That’s the end of Xhaka at Arsenal! </s> Useless piece of shit! </s>               \n",
      "135957  <s> Yo dick sucking game prolly dryer than lil Caesar's pizza crust, shut up talkin to me bitch </s>   \n",
      "13851   <s> bro fuck it ima make the thread i need this </s>                                                   \n",
      "35525   <s> @USER Omfg I woulda snatched her phone and robbed her ass too lmao </s>                            \n",
      "\n",
      "        split  label  \n",
      "49079   train  0      \n",
      "99777   train  0      \n",
      "135957  train  0      \n",
      "13851   train  0      \n",
      "35525   train  0      \n"
     ]
    }
   ],
   "source": [
    "with pd.option_context('display.max_colwidth', -1): \n",
    "    print(data_df_task_c.sample(5))"
   ]
  },
  {
   "cell_type": "markdown",
   "metadata": {},
   "source": [
    "### Here we create the dataset"
   ]
  },
  {
   "cell_type": "code",
   "execution_count": 68,
   "metadata": {},
   "outputs": [],
   "source": [
    "class SimpleVectorizer():\n",
    "    def __init__(self,tokenizer: Callable, max_seq_len: int):\n",
    "        \"\"\"\n",
    "        Args:\n",
    "            tokenizer (Callable): transformer tokenizer\n",
    "            max_seq_len (int): Maximum sequence lenght \n",
    "        \"\"\"\n",
    "        self.tokenizer = tokenizer\n",
    "        self._max_seq_len = max_seq_len\n",
    "\n",
    "    def vectorize(self,text :str):\n",
    "        \n",
    "        encoded = self.tokenizer.encode_plus(\n",
    "            text,\n",
    "            add_special_tokens=False, #already added by preproc\n",
    "            max_length = self._max_seq_len,\n",
    "            pad_to_max_length = True,\n",
    "        )\n",
    "        ids =  np.array(encoded['input_ids'], dtype=np.int64)\n",
    "        attn = np.array(encoded['attention_mask'], dtype=np.int64)\n",
    "        \n",
    "        return ids, attn\n",
    "\n",
    "class Vectorizer():\n",
    "    def __init__(self,tokenizer: Callable, max_seq_len: int ):\n",
    "        \"\"\"\n",
    "        Args:\n",
    "            tokenizer (Callable): transformer tokenizer\n",
    "            max_seq_len (int): Maximum sequence lenght \n",
    "        \"\"\"\n",
    "        self.tokenizer = tokenizer\n",
    "        self._max_seq_len = max_seq_len\n",
    "\n",
    "    def vectorize(self,text :str, mask_prob=0.50, mask_amount:int=0.30):\n",
    "        \n",
    "        encoded = self.tokenizer.encode_plus(\n",
    "            text,\n",
    "            add_special_tokens=False, #already added by preproc\n",
    "            max_length = self._max_seq_len,\n",
    "            pad_to_max_length = True,\n",
    "        )\n",
    "        ids =  np.array(encoded['input_ids'], dtype=np.int64)\n",
    "        attn = np.array(encoded['attention_mask'], dtype=np.int64)\n",
    "        prob = np.random.rand(1)[0]\n",
    "#         print(prob)\n",
    "        if  prob <= mask_prob:\n",
    "#             print(attn)\n",
    "            len_of_sent = np.where(ids==tokenizer.pad_token_id)[0][0]\n",
    "            amount_to_mask = max(int(len_of_sent * mask_amount ) , 1)\n",
    "            ids_to_not_attend = [np.random.randint(low=0, high=len_of_sent ) for i in range(amount_to_mask)]\n",
    "#             print(amount_to_mask)\n",
    "#             print(len_of_sent)\n",
    "#             print(ids_to_not_attend)\n",
    "            attn[ids_to_not_attend]=0\n",
    "            ids[ids_to_not_attend] = tokenizer.mask_token_id\n",
    "#             print(attn)\n",
    "        return ids, attn"
   ]
  },
  {
   "cell_type": "code",
   "execution_count": 18,
   "metadata": {},
   "outputs": [],
   "source": [
    "v = Vectorizer(roberta_tokenizer, 15)"
   ]
  },
  {
   "cell_type": "code",
   "execution_count": 19,
   "metadata": {},
   "outputs": [
    {
     "data": {
      "text/plain": [
       "(array([  100,   524, 30103, 11051,     6, 33976,  4022,    59,   162,\n",
       "            1,     1,     1,     1,     1,     1]),\n",
       " array([1, 1, 1, 1, 1, 1, 1, 1, 1, 0, 0, 0, 0, 0, 0]))"
      ]
     },
     "execution_count": 19,
     "metadata": {},
     "output_type": "execute_result"
    }
   ],
   "source": [
    "sent = \"I am alright bro, dont worry about me\"\n",
    "v.vectorize(sent)"
   ]
  },
  {
   "cell_type": "code",
   "execution_count": 80,
   "metadata": {},
   "outputs": [],
   "source": [
    "class HateDataset(Dataset):\n",
    "    def __init__(\n",
    "        self,\n",
    "        data_df: pd.DataFrame,\n",
    "        tokenizer: Callable,\n",
    "        max_seq_length:int = None,\n",
    "    ):\n",
    "        \"\"\"\n",
    "        Args:\n",
    "            data_df (pandas.DataFrame): df containing the labels and text\n",
    "            tokenizer (tokenizer module for the transformer)\n",
    "        \"\"\"\n",
    "        self.data_df = data_df\n",
    "        self.tokenizer = tokenizer\n",
    "\n",
    "        if max_seq_length is None:\n",
    "            self._max_seq_length = self._get_max_len(data_df,tokenizer)\n",
    "        else:\n",
    "            self._max_seq_length = max_seq_length\n",
    "\n",
    "        self.train_df = self.data_df[self.data_df.split == 'train']\n",
    "        self.train_size = len(self.train_df)\n",
    "\n",
    "        self.val_df = self.data_df[self.data_df.split == 'val']\n",
    "        self.val_size = len(self.val_df)\n",
    "\n",
    "        self.test_df = self.data_df[self.data_df.split == 'test']\n",
    "        self.test_size = len(self.test_df)\n",
    "        \n",
    "        self.simple_vectorize = False,\n",
    "        self._simple_vectorizer = SimpleVectorizer(tokenizer, self._max_seq_length)\n",
    "        self._vectorizer = Vectorizer(tokenizer, self._max_seq_length)\n",
    "        \n",
    "        self._lookup_dict = {\n",
    "            'train': (self.train_df, self.train_size),\n",
    "            'val': (self.val_df, self.val_size),\n",
    "            'test': (self.test_df, self.test_size)\n",
    "        }\n",
    "\n",
    "        self.set_split('train')\n",
    "\n",
    "        class_counts = data_df.label.value_counts().to_dict()\n",
    "         #sorted on the basis of class label,eg, 0,1,2..\n",
    "        cts = sorted([(lbl,cts) for lbl,cts in class_counts.items()], key=lambda x: x[0])\n",
    "        freq = [ x[1] for x in cts ]\n",
    "        # print(freq,cts)\n",
    "        self.class_weights = 1.0/ torch.tensor(freq, dtype=torch.float32)\n",
    "    \n",
    "    def flip_simple_vectorizer(self) :\n",
    "        if self.simple_vectorize:\n",
    "            self.simple_vectorize=False\n",
    "        else:\n",
    "            self.simple_vectorize= True\n",
    "    \n",
    "    def _get_max_len(self,data_df: pd.DataFrame, tokenizer: Callable):\n",
    "        len_func = lambda x: len(self.tokenizer.encode_plus(x)['input_ids'])\n",
    "        max_len = data_df.text.map(len_func).max() \n",
    "        return max_len\n",
    "\n",
    "    def set_split(self, split=\"train\"):\n",
    "        \"\"\" selects the splits in the dataset using a column in the dataframe \"\"\"\n",
    "        self._target_split = split\n",
    "        self._target_df, self._target_size = self._lookup_dict[split]\n",
    "    \n",
    "    def __len__(self):\n",
    "        return self._target_size\n",
    "    \n",
    "    def __getitem__(self, index):\n",
    "        \"\"\"the primary entry point method for PyTorch datasets\n",
    "        \n",
    "        Args:\n",
    "            index (int): the index to the data point \n",
    "        Returns:\n",
    "            a dictionary holding the data point's features (x_data) and label (y_target)\n",
    "        \"\"\"\n",
    "        row = self._target_df.iloc[index]\n",
    "        \n",
    "        if self.simple_vectorize:\n",
    "            indices, attention_masks = self._simple_vectorizer.vectorize(row.text)\n",
    "        else:\n",
    "            indices, attention_masks = self._vectorizer.vectorize(row.text)\n",
    "            \n",
    "        label = row.label\n",
    "        return {'x_data': indices,\n",
    "                'x_attn_mask': attention_masks,\n",
    "                'x_index': index,\n",
    "                'y_target': label}\n",
    "    \n",
    "    def get_num_batches(self, batch_size):\n",
    "        \"\"\"Given a batch size, return the number of batches in the dataset\n",
    "        \n",
    "        Args:\n",
    "            batch_size (int)\n",
    "        Returns:\n",
    "            number of batches in the dataset\n",
    "        \"\"\"\n",
    "        return len(self) // batch_size"
   ]
  },
  {
   "cell_type": "code",
   "execution_count": 23,
   "metadata": {},
   "outputs": [],
   "source": [
    "def generate_batches(dataset, batch_size, shuffle=True,\n",
    "                     drop_last=False, device=\"cpu\", pinned_memory = False, n_workers = 0): \n",
    "    \"\"\"\n",
    "    A generator function which wraps the PyTorch DataLoader. It will \n",
    "      ensure each tensor is on the write device location.\n",
    "    \"\"\"\n",
    "    dataloader = DataLoader(dataset=dataset, batch_size=batch_size,\n",
    "                            shuffle=shuffle, drop_last=drop_last,\n",
    "                            pin_memory= pinned_memory,\n",
    "                            num_workers = n_workers,\n",
    "                            )\n",
    "    \n",
    "    for data_dict in dataloader:\n",
    "        out_data_dict = {}\n",
    "        out_data_dict['x_data'] = data_dict['x_data'].to(\n",
    "            device, non_blocking= (True if pinned_memory else False) \n",
    "        )\n",
    "        out_data_dict['x_attn_mask'] = data_dict['x_attn_mask'].to(\n",
    "            device, non_blocking= (True if pinned_memory else False) \n",
    "        )\n",
    "        out_data_dict['x_index'] = data_dict['x_index']\n",
    "        out_data_dict['y_target'] = data_dict['y_target'].to(\n",
    "            device, non_blocking= (True if pinned_memory else False) \n",
    "        )\n",
    "        yield out_data_dict"
   ]
  },
  {
   "cell_type": "code",
   "execution_count": 24,
   "metadata": {},
   "outputs": [],
   "source": [
    "dataset = HateDataset(\n",
    "    data_df = data_df_task_c,\n",
    "    tokenizer = roberta_tokenizer\n",
    ")"
   ]
  },
  {
   "cell_type": "code",
   "execution_count": 25,
   "metadata": {
    "scrolled": true
   },
   "outputs": [
    {
     "data": {
      "text/plain": [
       "245"
      ]
     },
     "execution_count": 25,
     "metadata": {},
     "output_type": "execute_result"
    }
   ],
   "source": [
    "dataset._max_seq_length # make sure its safe enough for our model"
   ]
  },
  {
   "cell_type": "markdown",
   "metadata": {},
   "source": [
    "# Initialize the Roberta+ Attention model"
   ]
  },
  {
   "cell_type": "code",
   "execution_count": 27,
   "metadata": {
    "scrolled": false
   },
   "outputs": [
    {
     "name": "stderr",
     "output_type": "stream",
     "text": [
      "INFO:transformers.configuration_utils:loading configuration file https://s3.amazonaws.com/models.huggingface.co/bert/distilroberta-base-config.json from cache at /home/kaushik.das/.cache/torch/transformers/d52ced8fd31ba6aa311b6eeeae65178cca00ddd6333c087be4601dc46c20bd96.deeb956b92b63ef883f183df980353df2c982e37e78a00189cf9146088df28dd\n",
      "INFO:transformers.configuration_utils:Model config RobertaConfig {\n",
      "  \"architectures\": [\n",
      "    \"RobertaForMaskedLM\"\n",
      "  ],\n",
      "  \"attention_probs_dropout_prob\": 0.1,\n",
      "  \"bos_token_id\": null,\n",
      "  \"do_sample\": false,\n",
      "  \"eos_token_ids\": null,\n",
      "  \"finetuning_task\": null,\n",
      "  \"hidden_act\": \"gelu\",\n",
      "  \"hidden_dropout_prob\": 0.1,\n",
      "  \"hidden_size\": 768,\n",
      "  \"id2label\": {\n",
      "    \"0\": \"LABEL_0\",\n",
      "    \"1\": \"LABEL_1\"\n",
      "  },\n",
      "  \"initializer_range\": 0.02,\n",
      "  \"intermediate_size\": 3072,\n",
      "  \"is_decoder\": false,\n",
      "  \"label2id\": {\n",
      "    \"LABEL_0\": 0,\n",
      "    \"LABEL_1\": 1\n",
      "  },\n",
      "  \"layer_norm_eps\": 1e-05,\n",
      "  \"length_penalty\": 1.0,\n",
      "  \"max_length\": 20,\n",
      "  \"max_position_embeddings\": 514,\n",
      "  \"model_type\": \"roberta\",\n",
      "  \"num_attention_heads\": 12,\n",
      "  \"num_beams\": 1,\n",
      "  \"num_hidden_layers\": 6,\n",
      "  \"num_labels\": 3,\n",
      "  \"num_return_sequences\": 1,\n",
      "  \"output_attentions\": false,\n",
      "  \"output_hidden_states\": false,\n",
      "  \"output_past\": true,\n",
      "  \"pad_token_id\": null,\n",
      "  \"pruned_heads\": {},\n",
      "  \"repetition_penalty\": 1.0,\n",
      "  \"temperature\": 1.0,\n",
      "  \"top_k\": 50,\n",
      "  \"top_p\": 1.0,\n",
      "  \"torchscript\": false,\n",
      "  \"type_vocab_size\": 1,\n",
      "  \"use_bfloat16\": false,\n",
      "  \"vocab_size\": 50265\n",
      "}\n",
      "\n",
      "INFO:transformers.modeling_utils:loading weights file https://s3.amazonaws.com/models.huggingface.co/bert/distilroberta-base-pytorch_model.bin from cache at /home/kaushik.das/.cache/torch/transformers/98d2960e6de3e0a3a34b8566dff60ab2fa946e85134dd5e4722c54ff58044a96.52b6ec356fb91985b3940e086d1b2ebf8cd40f8df0ba1cabf4cac27769dee241\n",
      "INFO:transformers.modeling_utils:Weights of RobertaForSequenceClassification not initialized from pretrained model: ['classifier.dense.weight', 'classifier.dense.bias', 'classifier.out_proj.weight', 'classifier.out_proj.bias']\n",
      "INFO:transformers.modeling_utils:Weights from pretrained model not used in RobertaForSequenceClassification: ['lm_head.bias', 'lm_head.dense.weight', 'lm_head.dense.bias', 'lm_head.layer_norm.weight', 'lm_head.layer_norm.bias', 'lm_head.decoder.weight']\n"
     ]
    }
   ],
   "source": [
    "model = RobertaForSequenceClassification.from_pretrained(\n",
    "    'distilroberta-base',\n",
    "    num_labels=len(set(data_df_task_c.label)),\n",
    ")"
   ]
  },
  {
   "cell_type": "code",
   "execution_count": 29,
   "metadata": {
    "scrolled": true
   },
   "outputs": [
    {
     "data": {
      "text/plain": [
       "RobertaForSequenceClassification(\n",
       "  (roberta): RobertaModel(\n",
       "    (embeddings): RobertaEmbeddings(\n",
       "      (word_embeddings): Embedding(50265, 768, padding_idx=1)\n",
       "      (position_embeddings): Embedding(514, 768, padding_idx=1)\n",
       "      (token_type_embeddings): Embedding(1, 768)\n",
       "      (LayerNorm): LayerNorm((768,), eps=1e-05, elementwise_affine=True)\n",
       "      (dropout): Dropout(p=0.1, inplace=False)\n",
       "    )\n",
       "    (encoder): BertEncoder(\n",
       "      (layer): ModuleList(\n",
       "        (0): BertLayer(\n",
       "          (attention): BertAttention(\n",
       "            (self): BertSelfAttention(\n",
       "              (query): Linear(in_features=768, out_features=768, bias=True)\n",
       "              (key): Linear(in_features=768, out_features=768, bias=True)\n",
       "              (value): Linear(in_features=768, out_features=768, bias=True)\n",
       "              (dropout): Dropout(p=0.1, inplace=False)\n",
       "            )\n",
       "            (output): BertSelfOutput(\n",
       "              (dense): Linear(in_features=768, out_features=768, bias=True)\n",
       "              (LayerNorm): LayerNorm((768,), eps=1e-05, elementwise_affine=True)\n",
       "              (dropout): Dropout(p=0.1, inplace=False)\n",
       "            )\n",
       "          )\n",
       "          (intermediate): BertIntermediate(\n",
       "            (dense): Linear(in_features=768, out_features=3072, bias=True)\n",
       "          )\n",
       "          (output): BertOutput(\n",
       "            (dense): Linear(in_features=3072, out_features=768, bias=True)\n",
       "            (LayerNorm): LayerNorm((768,), eps=1e-05, elementwise_affine=True)\n",
       "            (dropout): Dropout(p=0.1, inplace=False)\n",
       "          )\n",
       "        )\n",
       "        (1): BertLayer(\n",
       "          (attention): BertAttention(\n",
       "            (self): BertSelfAttention(\n",
       "              (query): Linear(in_features=768, out_features=768, bias=True)\n",
       "              (key): Linear(in_features=768, out_features=768, bias=True)\n",
       "              (value): Linear(in_features=768, out_features=768, bias=True)\n",
       "              (dropout): Dropout(p=0.1, inplace=False)\n",
       "            )\n",
       "            (output): BertSelfOutput(\n",
       "              (dense): Linear(in_features=768, out_features=768, bias=True)\n",
       "              (LayerNorm): LayerNorm((768,), eps=1e-05, elementwise_affine=True)\n",
       "              (dropout): Dropout(p=0.1, inplace=False)\n",
       "            )\n",
       "          )\n",
       "          (intermediate): BertIntermediate(\n",
       "            (dense): Linear(in_features=768, out_features=3072, bias=True)\n",
       "          )\n",
       "          (output): BertOutput(\n",
       "            (dense): Linear(in_features=3072, out_features=768, bias=True)\n",
       "            (LayerNorm): LayerNorm((768,), eps=1e-05, elementwise_affine=True)\n",
       "            (dropout): Dropout(p=0.1, inplace=False)\n",
       "          )\n",
       "        )\n",
       "        (2): BertLayer(\n",
       "          (attention): BertAttention(\n",
       "            (self): BertSelfAttention(\n",
       "              (query): Linear(in_features=768, out_features=768, bias=True)\n",
       "              (key): Linear(in_features=768, out_features=768, bias=True)\n",
       "              (value): Linear(in_features=768, out_features=768, bias=True)\n",
       "              (dropout): Dropout(p=0.1, inplace=False)\n",
       "            )\n",
       "            (output): BertSelfOutput(\n",
       "              (dense): Linear(in_features=768, out_features=768, bias=True)\n",
       "              (LayerNorm): LayerNorm((768,), eps=1e-05, elementwise_affine=True)\n",
       "              (dropout): Dropout(p=0.1, inplace=False)\n",
       "            )\n",
       "          )\n",
       "          (intermediate): BertIntermediate(\n",
       "            (dense): Linear(in_features=768, out_features=3072, bias=True)\n",
       "          )\n",
       "          (output): BertOutput(\n",
       "            (dense): Linear(in_features=3072, out_features=768, bias=True)\n",
       "            (LayerNorm): LayerNorm((768,), eps=1e-05, elementwise_affine=True)\n",
       "            (dropout): Dropout(p=0.1, inplace=False)\n",
       "          )\n",
       "        )\n",
       "        (3): BertLayer(\n",
       "          (attention): BertAttention(\n",
       "            (self): BertSelfAttention(\n",
       "              (query): Linear(in_features=768, out_features=768, bias=True)\n",
       "              (key): Linear(in_features=768, out_features=768, bias=True)\n",
       "              (value): Linear(in_features=768, out_features=768, bias=True)\n",
       "              (dropout): Dropout(p=0.1, inplace=False)\n",
       "            )\n",
       "            (output): BertSelfOutput(\n",
       "              (dense): Linear(in_features=768, out_features=768, bias=True)\n",
       "              (LayerNorm): LayerNorm((768,), eps=1e-05, elementwise_affine=True)\n",
       "              (dropout): Dropout(p=0.1, inplace=False)\n",
       "            )\n",
       "          )\n",
       "          (intermediate): BertIntermediate(\n",
       "            (dense): Linear(in_features=768, out_features=3072, bias=True)\n",
       "          )\n",
       "          (output): BertOutput(\n",
       "            (dense): Linear(in_features=3072, out_features=768, bias=True)\n",
       "            (LayerNorm): LayerNorm((768,), eps=1e-05, elementwise_affine=True)\n",
       "            (dropout): Dropout(p=0.1, inplace=False)\n",
       "          )\n",
       "        )\n",
       "        (4): BertLayer(\n",
       "          (attention): BertAttention(\n",
       "            (self): BertSelfAttention(\n",
       "              (query): Linear(in_features=768, out_features=768, bias=True)\n",
       "              (key): Linear(in_features=768, out_features=768, bias=True)\n",
       "              (value): Linear(in_features=768, out_features=768, bias=True)\n",
       "              (dropout): Dropout(p=0.1, inplace=False)\n",
       "            )\n",
       "            (output): BertSelfOutput(\n",
       "              (dense): Linear(in_features=768, out_features=768, bias=True)\n",
       "              (LayerNorm): LayerNorm((768,), eps=1e-05, elementwise_affine=True)\n",
       "              (dropout): Dropout(p=0.1, inplace=False)\n",
       "            )\n",
       "          )\n",
       "          (intermediate): BertIntermediate(\n",
       "            (dense): Linear(in_features=768, out_features=3072, bias=True)\n",
       "          )\n",
       "          (output): BertOutput(\n",
       "            (dense): Linear(in_features=3072, out_features=768, bias=True)\n",
       "            (LayerNorm): LayerNorm((768,), eps=1e-05, elementwise_affine=True)\n",
       "            (dropout): Dropout(p=0.1, inplace=False)\n",
       "          )\n",
       "        )\n",
       "        (5): BertLayer(\n",
       "          (attention): BertAttention(\n",
       "            (self): BertSelfAttention(\n",
       "              (query): Linear(in_features=768, out_features=768, bias=True)\n",
       "              (key): Linear(in_features=768, out_features=768, bias=True)\n",
       "              (value): Linear(in_features=768, out_features=768, bias=True)\n",
       "              (dropout): Dropout(p=0.1, inplace=False)\n",
       "            )\n",
       "            (output): BertSelfOutput(\n",
       "              (dense): Linear(in_features=768, out_features=768, bias=True)\n",
       "              (LayerNorm): LayerNorm((768,), eps=1e-05, elementwise_affine=True)\n",
       "              (dropout): Dropout(p=0.1, inplace=False)\n",
       "            )\n",
       "          )\n",
       "          (intermediate): BertIntermediate(\n",
       "            (dense): Linear(in_features=768, out_features=3072, bias=True)\n",
       "          )\n",
       "          (output): BertOutput(\n",
       "            (dense): Linear(in_features=3072, out_features=768, bias=True)\n",
       "            (LayerNorm): LayerNorm((768,), eps=1e-05, elementwise_affine=True)\n",
       "            (dropout): Dropout(p=0.1, inplace=False)\n",
       "          )\n",
       "        )\n",
       "      )\n",
       "    )\n",
       "    (pooler): BertPooler(\n",
       "      (dense): Linear(in_features=768, out_features=768, bias=True)\n",
       "      (activation): Tanh()\n",
       "    )\n",
       "  )\n",
       "  (classifier): RobertaClassificationHead(\n",
       "    (dense): Linear(in_features=768, out_features=768, bias=True)\n",
       "    (dropout): Dropout(p=0.1, inplace=False)\n",
       "    (out_proj): Linear(in_features=768, out_features=3, bias=True)\n",
       "  )\n",
       ")"
      ]
     },
     "execution_count": 29,
     "metadata": {},
     "output_type": "execute_result"
    }
   ],
   "source": [
    "# for name,param in model.roberta.named_parameters():\n",
    "# #     print(name)\n",
    "#     param.required_grad = False\n",
    "\n",
    "model.to(args.device)"
   ]
  },
  {
   "cell_type": "code",
   "execution_count": 30,
   "metadata": {},
   "outputs": [],
   "source": [
    "early_stopping = transformer_general_utils.EarlyStopping(patience=4)"
   ]
  },
  {
   "cell_type": "code",
   "execution_count": 31,
   "metadata": {},
   "outputs": [],
   "source": [
    "args.num_epochs = 50\n",
    "args.batch_size = 120"
   ]
  },
  {
   "cell_type": "code",
   "execution_count": 32,
   "metadata": {
    "scrolled": false
   },
   "outputs": [
    {
     "name": "stdout",
     "output_type": "stream",
     "text": [
      "Using LR:0.0001\n"
     ]
    }
   ],
   "source": [
    "loss_func = nn.CrossEntropyLoss()\n",
    "\n",
    "print(f'Using LR:{args.learning_rate}')\n",
    "base_optimizer = RAdam(model.parameters(), lr = args.learning_rate)\n",
    "optimizer = Lookahead(optimizer = base_optimizer, k = 5, alpha=0.5 )\n",
    "scheduler = optim.lr_scheduler.ReduceLROnPlateau(\n",
    "    optimizer=optimizer.optimizer, factor =0.1 ,mode='max',\n",
    ")"
   ]
  },
  {
   "cell_type": "markdown",
   "metadata": {},
   "source": [
    "# Begin Training"
   ]
  },
  {
   "cell_type": "code",
   "execution_count": 33,
   "metadata": {},
   "outputs": [
    {
     "data": {
      "text/plain": [
       "dict_keys(['train_preds', 'train_indexes', 'train_targets', 'train_accuracies', 'train_f1s', 'train_losses', 'val_preds', 'val_indexes', 'val_targets', 'val_accuracies', 'val_f1s', 'val_losses', 'test_preds', 'test_indexes', 'test_targets', 'test_accuracies', 'test_f1s', 'test_losses', 'batch_preds', 'batch_targets', 'batch_indexes', 'epoch_index'])"
      ]
     },
     "execution_count": 33,
     "metadata": {},
     "output_type": "execute_result"
    }
   ],
   "source": [
    "train_state = general_utils.make_train_state()\n",
    "train_state.keys()\n"
   ]
  },
  {
   "cell_type": "code",
   "execution_count": 34,
   "metadata": {
    "scrolled": false
   },
   "outputs": [
    {
     "data": {
      "application/vnd.jupyter.widget-view+json": {
       "model_id": "60b8069845e24d438c53efc3f3e4fa2d",
       "version_major": 2,
       "version_minor": 0
      },
      "text/plain": [
       "HBox(children=(FloatProgress(value=0.0, description='training_routine', max=50.0, style=ProgressStyle(descript…"
      ]
     },
     "metadata": {},
     "output_type": "display_data"
    },
    {
     "data": {
      "application/vnd.jupyter.widget-view+json": {
       "model_id": "78528e53f6ab4dfa9687477c82acb81d",
       "version_major": 2,
       "version_minor": 0
      },
      "text/plain": [
       "HBox(children=(FloatProgress(value=0.0, description='split=train ', max=1496.0, style=ProgressStyle(descriptio…"
      ]
     },
     "metadata": {},
     "output_type": "display_data"
    },
    {
     "data": {
      "application/vnd.jupyter.widget-view+json": {
       "model_id": "e9b1504b31894260a0c518cd376da3a0",
       "version_major": 2,
       "version_minor": 0
      },
      "text/plain": [
       "HBox(children=(FloatProgress(value=0.0, description='split=eval', max=78.0, style=ProgressStyle(description_wi…"
      ]
     },
     "metadata": {},
     "output_type": "display_data"
    },
    {
     "name": "stderr",
     "output_type": "stream",
     "text": [
      "IOPub message rate exceeded.\n",
      "The notebook server will temporarily stop sending output\n",
      "to the client in order to avoid crashing it.\n",
      "To change this limit, set the config variable\n",
      "`--NotebookApp.iopub_msg_rate_limit`.\n",
      "\n",
      "Current values:\n",
      "NotebookApp.iopub_msg_rate_limit=1000.0 (msgs/sec)\n",
      "NotebookApp.rate_limit_window=3.0 (secs)\n",
      "\n",
      "IOPub message rate exceeded.\n",
      "The notebook server will temporarily stop sending output\n",
      "to the client in order to avoid crashing it.\n",
      "To change this limit, set the config variable\n",
      "`--NotebookApp.iopub_msg_rate_limit`.\n",
      "\n",
      "Current values:\n",
      "NotebookApp.iopub_msg_rate_limit=1000.0 (msgs/sec)\n",
      "NotebookApp.rate_limit_window=3.0 (secs)\n",
      "\n",
      "IOPub message rate exceeded.\n",
      "The notebook server will temporarily stop sending output\n",
      "to the client in order to avoid crashing it.\n",
      "To change this limit, set the config variable\n",
      "`--NotebookApp.iopub_msg_rate_limit`.\n",
      "\n",
      "Current values:\n",
      "NotebookApp.iopub_msg_rate_limit=1000.0 (msgs/sec)\n",
      "NotebookApp.rate_limit_window=3.0 (secs)\n",
      "\n"
     ]
    },
    {
     "name": "stdout",
     "output_type": "stream",
     "text": [
      "EarlyStopping counter: 2 out of 4\n",
      "EarlyStopping counter: 3 out of 4\n",
      "EarlyStopping counter: 4 out of 4\n",
      "Early stopping\n"
     ]
    }
   ],
   "source": [
    "epoch_bar = notebook.tqdm(\n",
    "    desc = 'training_routine',\n",
    "    total = args.num_epochs,\n",
    "    position=0,\n",
    "    leave = True,\n",
    ")\n",
    "dataset.set_split('train')\n",
    "train_bar = notebook.tqdm(\n",
    "    desc = 'split=train ',\n",
    "    total=dataset.get_num_batches(args.batch_size),\n",
    "    position=0,\n",
    "    leave=True,\n",
    ")\n",
    "dataset.set_split('val')\n",
    "eval_bar = notebook.tqdm(\n",
    "    desc = 'split=eval',\n",
    "    total=dataset.get_num_batches(args.batch_size),\n",
    "    position=0,\n",
    "    leave=True,\n",
    ")\n",
    "\n",
    "old_val_acc = 0\n",
    "old_f1 = 0\n",
    "model_state = None\n",
    "for epoch_index in range(args.num_epochs):\n",
    "    train_state['epoch_in'] = epoch_index\n",
    "\n",
    "    dataset.set_split('train')\n",
    "\n",
    "    batch_generator = generate_batches(\n",
    "        dataset= dataset, batch_size= args.batch_size, shuffle=True,\n",
    "        device = args.device, drop_last=False,\n",
    "        pinned_memory = True, n_workers = 3, \n",
    "    )\n",
    "\n",
    "    running_loss = 0.0\n",
    "    running_acc = 0.0\n",
    "    running_f1 = 0.0\n",
    "    model.train()\n",
    "\n",
    "    train_bar.reset(\n",
    "        total=dataset.get_num_batches(args.batch_size),\n",
    "    )\n",
    "\n",
    "    for batch_index, batch_dict in enumerate(batch_generator):\n",
    "        optimizer.zero_grad()\n",
    "        \n",
    "        loss,y_pred = model(\n",
    "            input_ids = batch_dict['x_data'],\n",
    "            attention_mask =  batch_dict['x_attn_mask'],\n",
    "            labels= batch_dict['y_target'].unsqueeze(1),\n",
    "        )[:2]\n",
    "        \n",
    "        y_pred = y_pred.view(-1, len(set(dataset.data_df.label)))\n",
    "                             \n",
    "#         scheduler.step()\n",
    "        loss.backward()\n",
    "        optimizer.step()\n",
    "                             \n",
    "        loss_t = loss.item()\n",
    "        running_loss += (loss_t - running_loss) / (batch_index + 1)\n",
    "                             \n",
    "        y_pred = y_pred.detach().cpu()\n",
    "        batch_dict['y_target'] = batch_dict['y_target'].cpu()\n",
    "        \n",
    "        acc_t = transformer_general_utils \\\n",
    "            .compute_accuracy(y_pred, batch_dict['y_target'])\n",
    "        \n",
    "        f1_t = transformer_general_utils \\\n",
    "            .compute_macro_f1(y_pred, batch_dict['y_target'])\n",
    "\n",
    "        train_state['batch_preds'].append(y_pred)\n",
    "        train_state['batch_targets'].append(batch_dict['y_target'])\n",
    "        train_state['batch_indexes'].append(batch_dict['x_index'])\n",
    "\n",
    "        running_acc += (acc_t - running_acc) / (batch_index + 1)\n",
    "        running_f1 += (f1_t - running_f1) / (batch_index + 1)\n",
    "\n",
    "        train_bar.set_postfix(loss = running_loss, f1 = running_f1, acc=running_acc,\n",
    "                             epoch=epoch_index)\n",
    "\n",
    "        train_bar.update()\n",
    "\n",
    "    if torch.cuda.is_available():\n",
    "        torch.cuda.empty_cache()\n",
    "    \n",
    "    train_state['train_accuracies'].append(running_acc)\n",
    "    train_state['train_losses'].append(running_loss)\n",
    "    \n",
    "    train_state['train_preds'].append(\n",
    "        torch.cat(train_state['batch_preds']).cpu()\n",
    "    )\n",
    "    train_state['train_targets'].append(\n",
    "        torch.cat(train_state['batch_targets']).cpu()\n",
    "    )\n",
    "    train_state['train_indexes'].append(\n",
    "        torch.cat(train_state['batch_indexes']).cpu()\n",
    "    )\n",
    "    train_f1 = transformer_general_utils \\\n",
    "                .compute_macro_f1(train_state['train_preds'][-1],\n",
    "                                  train_state['train_targets'][-1],\n",
    "                                 )\n",
    "                                 \n",
    "    train_state['train_f1s'].append(train_f1)\n",
    "    \n",
    "    train_state['batch_preds'] = []\n",
    "    train_state['batch_targets'] = []\n",
    "    train_state['batch_indexes'] = []\n",
    "    \n",
    "    \n",
    "    dataset.set_split('val')\n",
    "    batch_generator = generate_batches(\n",
    "        dataset= dataset, batch_size= args.batch_size, shuffle=True,\n",
    "        device = args.device, drop_last=False,\n",
    "        pinned_memory = True, n_workers = 2, \n",
    "    )\n",
    "    eval_bar.reset(\n",
    "        total=dataset.get_num_batches(args.batch_size),\n",
    "    )\n",
    "    running_loss = 0.0\n",
    "    running_acc = 0.0\n",
    "    running_f1 = 0.0\n",
    "    \n",
    "    model.eval()\n",
    "    with torch.no_grad():\n",
    "        optimizer._backup_and_load_cache()\n",
    "        for batch_index, batch_dict in enumerate(batch_generator):\n",
    "            loss, y_pred = model(\n",
    "                input_ids = batch_dict['x_data'],\n",
    "                attention_mask =  batch_dict['x_attn_mask'],\n",
    "                labels= batch_dict['y_target'].unsqueeze(1),\n",
    "            )[:2]\n",
    "            y_pred = y_pred.view(-1, len(set(dataset.data_df.label)))\n",
    "            \n",
    "            loss_t = loss.item()\n",
    "            running_loss += (loss_t - running_loss) / (batch_index + 1)\n",
    "\n",
    "            y_pred = y_pred.detach()\n",
    "            batch_dict['y_target'] = batch_dict['y_target'].cpu()\n",
    "            \n",
    "            acc_t = transformer_general_utils\\\n",
    "                .compute_accuracy(y_pred, batch_dict['y_target'])\n",
    "            f1_t = transformer_general_utils \\\n",
    "                .compute_macro_f1(y_pred, batch_dict['y_target'])\n",
    "\n",
    "            train_state['batch_preds'].append(y_pred.cpu())\n",
    "            train_state['batch_targets'].append(batch_dict['y_target'].cpu())\n",
    "            train_state['batch_indexes'].append(batch_dict['x_index'].cpu())\n",
    "\n",
    "            running_acc += (acc_t - running_acc) / (batch_index + 1)\n",
    "            running_f1 += (f1_t - running_f1) / (batch_index + 1)\n",
    "            \n",
    "\n",
    "            eval_bar.set_postfix(loss = running_loss, f1 = running_f1, acc=running_acc,\n",
    "                                 epoch=epoch_index)\n",
    "            eval_bar.update()\n",
    "            \n",
    "    train_state['val_accuracies'].append(running_acc)\n",
    "    train_state['val_losses'].append(running_loss)\n",
    "    \n",
    "        \n",
    "    train_state['val_preds'].append(\n",
    "        torch.cat(train_state['batch_preds']).cpu()\n",
    "    )\n",
    "\n",
    "    train_state['val_targets'].append(\n",
    "        torch.cat(train_state['batch_targets']).cpu()\n",
    "    )\n",
    "    train_state['val_indexes'].append(\n",
    "        torch.cat(train_state['batch_indexes']).cpu()\n",
    "    )\n",
    "    val_f1 = transformer_general_utils \\\n",
    "                .compute_macro_f1(train_state['val_preds'][-1],\n",
    "                                  train_state['val_targets'][-1],\n",
    "                                 )\n",
    "                                 \n",
    "    train_state['val_f1s'].append(val_f1)\n",
    "    \n",
    "    train_state['batch_preds'] = []\n",
    "    train_state['batch_targets'] = []\n",
    "    train_state['batch_indexes'] = []\n",
    "    \n",
    "    torch.save(\n",
    "        {\n",
    "            'model':model.state_dict(),\n",
    "        },\n",
    "        args.directory + f'_epoc_{epoch_index}_' + args.model_name,\n",
    "    )\n",
    "    \n",
    "    scheduler.step(val_f1)\n",
    "    early_stopping(val_f1, model)\n",
    "    optimizer._clear_and_load_backup()\n",
    "    epoch_bar.set_postfix( best_f1 = early_stopping.best_score, current = val_f1)\n",
    "    epoch_bar.update()    \n",
    "    \n",
    "    if early_stopping.early_stop:\n",
    "        print(\"Early stopping\")\n",
    "        break\n"
   ]
  },
  {
   "cell_type": "code",
   "execution_count": 35,
   "metadata": {},
   "outputs": [
    {
     "data": {
      "text/plain": [
       "9"
      ]
     },
     "execution_count": 35,
     "metadata": {},
     "output_type": "execute_result"
    }
   ],
   "source": [
    "epoch_index"
   ]
  },
  {
   "cell_type": "code",
   "execution_count": 46,
   "metadata": {
    "scrolled": true
   },
   "outputs": [
    {
     "name": "stdout",
     "output_type": "stream",
     "text": [
      "[0.7434965204141823, 0.7505651120587791, 0.7692071080698577, 0.755785881435914, 0.7698018627331286, 0.7778388042128456, 0.7727479807203751, 0.7666622259214374, 0.7730406310762795, 0.759795332840237]\n"
     ]
    }
   ],
   "source": [
    "print(train_state['val_f1s'])"
   ]
  },
  {
   "cell_type": "code",
   "execution_count": 37,
   "metadata": {},
   "outputs": [],
   "source": [
    "from sklearn.metrics import classification_report\n",
    "from sklearn.metrics import confusion_matrix\n",
    "from sklearn.metrics import accuracy_score\n",
    "from sklearn.metrics import f1_score"
   ]
  },
  {
   "cell_type": "code",
   "execution_count": 39,
   "metadata": {},
   "outputs": [
    {
     "name": "stdout",
     "output_type": "stream",
     "text": [
      "Train:               precision    recall  f1-score   support\n",
      "\n",
      "           0     0.9695    0.9809    0.9751    144934\n",
      "           1     0.9074    0.8733    0.8900     23671\n",
      "           2     0.8436    0.7802    0.8107     10919\n",
      "\n",
      "    accuracy                         0.9545    179524\n",
      "   macro avg     0.9068    0.8781    0.8920    179524\n",
      "weighted avg     0.9536    0.9545    0.9539    179524\n",
      "\n",
      "Dev:               precision    recall  f1-score   support\n",
      "\n",
      "           0     0.9496    0.9457    0.9477      7628\n",
      "           1     0.7584    0.8010    0.7791      1246\n",
      "           2     0.5728    0.5339    0.5527       575\n",
      "\n",
      "    accuracy                         0.9016      9449\n",
      "   macro avg     0.7602    0.7602    0.7598      9449\n",
      "weighted avg     0.9014    0.9016    0.9014      9449\n",
      "\n"
     ]
    }
   ],
   "source": [
    "\n",
    "print('Train:',classification_report(\n",
    "    y_pred=(torch.argmax(train_state['train_preds'][-1],dim=1) ).cpu().long().numpy(),\n",
    "    y_true= train_state['train_targets'][-1].cpu().numpy(), \n",
    "    digits=4)\n",
    ")\n",
    "print('Dev:',classification_report(\n",
    "    y_pred=(torch.argmax(train_state['val_preds'][-1],dim=1) ).cpu().long().numpy(),\n",
    "    y_true= train_state['val_targets'][-1].cpu().numpy(), \n",
    "    digits=4)\n",
    ")\n"
   ]
  },
  {
   "cell_type": "code",
   "execution_count": 41,
   "metadata": {},
   "outputs": [
    {
     "name": "stdout",
     "output_type": "stream",
     "text": [
      "Train:               precision    recall  f1-score   support\n",
      "\n",
      "           0     0.9574    0.9739    0.9655    144934\n",
      "           1     0.8650    0.8298    0.8471     23671\n",
      "           2     0.7689    0.6608    0.7107     10919\n",
      "\n",
      "    accuracy                         0.9358    179524\n",
      "   macro avg     0.8638    0.8215    0.8411    179524\n",
      "weighted avg     0.9337    0.9358    0.9344    179524\n",
      "\n",
      "Dev:               precision    recall  f1-score   support\n",
      "\n",
      "           0     0.9488    0.9567    0.9527      7628\n",
      "           1     0.8029    0.7648    0.7834      1246\n",
      "           2     0.6000    0.5948    0.5974       575\n",
      "\n",
      "    accuracy                         0.9094      9449\n",
      "   macro avg     0.7839    0.7721    0.7778      9449\n",
      "weighted avg     0.9083    0.9094    0.9088      9449\n",
      "\n"
     ]
    }
   ],
   "source": [
    "best_run_index = train_state['val_f1s'].index(max(train_state['val_f1s']))\n",
    "print('Train:',classification_report(\n",
    "    y_pred=(torch.argmax(train_state['train_preds'][best_run_index],dim=1) ).cpu().long().numpy(),\n",
    "    y_true= train_state['train_targets'][best_run_index].cpu().numpy(), \n",
    "    digits=4)\n",
    ")\n",
    "print('Dev:',classification_report(\n",
    "    y_pred=(torch.argmax(train_state['val_preds'][best_run_index],dim=1) ).cpu().long().numpy(),\n",
    "    y_true= train_state['val_targets'][best_run_index].cpu().numpy(), \n",
    "    digits=4)\n",
    ")"
   ]
  },
  {
   "cell_type": "code",
   "execution_count": 42,
   "metadata": {},
   "outputs": [],
   "source": [
    "def sort_preds(indexes, preds):\n",
    "    \"\"\"Sorts the predictions in order, to reverse the effects of shuffle\n",
    "    done by dataloader\"\"\"\n",
    "    indexes = indexes.cpu().numpy().reshape(-1,1)\n",
    "    preds = preds.cpu().numpy()\n",
    "    arr_concat = np.hstack((indexes,preds)) #concat the preds and their indexes\n",
    "    sort_arr = arr_concat[ arr_concat[:,0].argsort()] #sort based on the indexes\n",
    "    sorted_preds = np.delete(sort_arr,0,axis=1)\n",
    "    return sorted_preds"
   ]
  },
  {
   "cell_type": "code",
   "execution_count": 96,
   "metadata": {},
   "outputs": [],
   "source": [
    "def get_optimal_models(train_state, split, reverse=False ):\n",
    "    trgts= sort_preds(train_state[f'{split}_indexes'][-1],train_state[f'{split}_targets'][-1].reshape(-1,1))\n",
    "    total_preds = len(train_state[f'{split}_indexes'])\n",
    "    init = np.zeros(train_state[f'{split}_preds'][-1].shape)\n",
    "    max_f1 = 0\n",
    "    idxes = []\n",
    "    rng = range(0,total_preds)\n",
    "    if reverse:\n",
    "        rng = reversed(rng)\n",
    "    for i in rng:\n",
    "        temp = sort_preds(train_state[f'{split}_indexes'][i],train_state[f'{split}_preds'][i])\n",
    "        temp2 = init+temp\n",
    "        f1 = f1_score(\n",
    "            y_pred=temp2.argmax(axis=1),\n",
    "            y_true= trgts, average ='macro'\n",
    "        )\n",
    "        if f1 > max_f1:\n",
    "            max_f1 = f1\n",
    "            init = init+temp\n",
    "            idxes.append(i)\n",
    "    print(f'Taking preds from {idxes} | Dev f1:{f1}')\n",
    "    return idxes"
   ]
  },
  {
   "cell_type": "code",
   "execution_count": 54,
   "metadata": {
    "scrolled": true
   },
   "outputs": [
    {
     "name": "stdout",
     "output_type": "stream",
     "text": [
      "Taking preds from [9, 8, 7, 6, 5, 4, 2, 1] | Dev f1:0.8180580972703804\n"
     ]
    }
   ],
   "source": [
    "optimal_emsemble = get_optimal_models(train_state,'val')"
   ]
  },
  {
   "cell_type": "code",
   "execution_count": 55,
   "metadata": {},
   "outputs": [
    {
     "data": {
      "text/plain": [
       "[9, 8, 7, 6, 5, 4, 2, 1]"
      ]
     },
     "execution_count": 55,
     "metadata": {},
     "output_type": "execute_result"
    }
   ],
   "source": [
    "optimal_emsemble"
   ]
  },
  {
   "cell_type": "markdown",
   "metadata": {},
   "source": [
    "# Making sure AttenMask Dropout works"
   ]
  },
  {
   "cell_type": "code",
   "execution_count": 134,
   "metadata": {},
   "outputs": [],
   "source": [
    "def evaluate(model, state, dataset, split,args):\n",
    "    \"\"\"Returns the final layer output of our transformer model\n",
    "    Puts them in the '{split}_*' keys in the state dict\n",
    "    Args:\n",
    "        model: A pytorch transformers model\n",
    "        state: dict to store outputs\n",
    "        dataset: A pytorch Dataset\n",
    "        split: The split on which to evaluate the model on\n",
    "        args: Arguments from namespace, etc\n",
    "    Returns:\n",
    "        state: all evaluated output stored in the \"test\" key\n",
    "    \"\"\"\n",
    "    eval_bar = notebook.tqdm(\n",
    "        desc = 'evaluation progress: ',\n",
    "        total=dataset.get_num_batches(args.batch_size),\n",
    "        position=0,\n",
    "        leave=False,\n",
    "    )\n",
    "    dataset.set_split(split)\n",
    "    batch_generator = generate_batches(\n",
    "        dataset= dataset, batch_size= args.batch_size, shuffle=False,\n",
    "        device = args.device, drop_last=False,\n",
    "        pinned_memory = True, n_workers = 2, \n",
    "    )\n",
    "    eval_bar.reset(\n",
    "        total=dataset.get_num_batches(args.batch_size),\n",
    "    )\n",
    "    model.eval()\n",
    "    with torch.no_grad():\n",
    "        for batch_index, batch_dict in enumerate(batch_generator):\n",
    "            _, y_pred = model(\n",
    "                input_ids = batch_dict['x_data'],\n",
    "                attention_mask =  batch_dict['x_attn_mask'],\n",
    "                labels= batch_dict['y_target'].unsqueeze(1),\n",
    "            )[:2]\n",
    "            y_pred = y_pred.view(-1, len(set(dataset.data_df.label)))\n",
    "            \n",
    "\n",
    "            y_pred = y_pred.detach()\n",
    "            \n",
    "            batch_dict['y_target'] = batch_dict['y_target'].cpu()\n",
    "            \n",
    "            acc_t = transformer_general_utils\\\n",
    "                .compute_accuracy(y_pred, batch_dict['y_target'])\n",
    "            f1_t = transformer_general_utils \\\n",
    "                .compute_macro_f1(y_pred, batch_dict['y_target'])\n",
    "\n",
    "            state['batch_preds'].append(y_pred.cpu())\n",
    "            state['batch_targets'].append(batch_dict['y_target'].cpu())\n",
    "            state['batch_indexes'].append(batch_dict['x_index'].cpu())\n",
    "            \n",
    "            eval_bar.update()\n",
    "            \n",
    "        if torch.cuda.is_available():\n",
    "            torch.cuda.empty_cache()\n",
    "    \n",
    "    state[f'{split}_preds'].append(\n",
    "        torch.cat(state['batch_preds']).cpu()\n",
    "    )\n",
    "    state[f'{split}_targets'].append(\n",
    "        torch.cat(state['batch_targets']).cpu()\n",
    "    )\n",
    "    state[f'{split}_indexes'].append(\n",
    "        torch.cat(state['batch_indexes']).cpu()\n",
    "    )\n",
    "    _f1 = transformer_general_utils \\\n",
    "                .compute_macro_f1(state[f'{split}_preds'][-1],\n",
    "                                  state[f'{split}_targets'][-1],\n",
    "                                 )\n",
    "                                 \n",
    "    state[f'{split}_f1s'].append(_f1)\n",
    "#     print(state[f'{split}_f1s'][-1])\n",
    "    \n",
    "    state['batch_preds'] = []\n",
    "    state['batch_targets'] = []\n",
    "    state['batch_indexes'] = []\n",
    "    \n",
    "    eval_bar.close()\n",
    "    return state"
   ]
  },
  {
   "cell_type": "code",
   "execution_count": 87,
   "metadata": {},
   "outputs": [
    {
     "data": {
      "text/plain": [
       "'/home/kaushik.das/OffensEval2020/saved_models/Wed_11_Mar_2020//task_c/roberta_attn/'"
      ]
     },
     "execution_count": 87,
     "metadata": {},
     "output_type": "execute_result"
    }
   ],
   "source": [
    "args.directory"
   ]
  },
  {
   "cell_type": "code",
   "execution_count": 88,
   "metadata": {
    "scrolled": true
   },
   "outputs": [
    {
     "data": {
      "text/plain": [
       "['_epoc_0_roberta_attn_trac_task_a.pt',\n",
       " '_epoc_1_roberta_attn_trac_task_a.pt',\n",
       " '_epoc_2_roberta_attn_trac_task_a.pt',\n",
       " '_epoc_3_roberta_attn_trac_task_a.pt',\n",
       " '_epoc_4_roberta_attn_trac_task_a.pt',\n",
       " '_epoc_5_roberta_attn_trac_task_a.pt',\n",
       " '_epoc_6_roberta_attn_trac_task_a.pt',\n",
       " '_epoc_7_roberta_attn_trac_task_a.pt',\n",
       " '_epoc_8_roberta_attn_trac_task_a.pt',\n",
       " '_epoc_9_roberta_attn_trac_task_a.pt']"
      ]
     },
     "execution_count": 88,
     "metadata": {},
     "output_type": "execute_result"
    }
   ],
   "source": [
    "os.listdir(args.directory)"
   ]
  },
  {
   "cell_type": "code",
   "execution_count": 89,
   "metadata": {
    "scrolled": true
   },
   "outputs": [
    {
     "data": {
      "text/plain": [
       "['_epoc_9_roberta_attn_trac_task_a.pt',\n",
       " '_epoc_8_roberta_attn_trac_task_a.pt',\n",
       " '_epoc_7_roberta_attn_trac_task_a.pt',\n",
       " '_epoc_6_roberta_attn_trac_task_a.pt',\n",
       " '_epoc_5_roberta_attn_trac_task_a.pt',\n",
       " '_epoc_4_roberta_attn_trac_task_a.pt',\n",
       " '_epoc_2_roberta_attn_trac_task_a.pt',\n",
       " '_epoc_1_roberta_attn_trac_task_a.pt']"
      ]
     },
     "execution_count": 89,
     "metadata": {},
     "output_type": "execute_result"
    }
   ],
   "source": [
    "selected_models = [os.listdir(args.directory)[i] for i in optimal_emsemble]\n",
    "selected_models"
   ]
  },
  {
   "cell_type": "code",
   "execution_count": 90,
   "metadata": {},
   "outputs": [
    {
     "data": {
      "text/plain": [
       "['/home/kaushik.das/OffensEval2020/saved_models/Wed_11_Mar_2020//task_c/roberta_attn/_epoc_9_roberta_attn_trac_task_a.pt',\n",
       " '/home/kaushik.das/OffensEval2020/saved_models/Wed_11_Mar_2020//task_c/roberta_attn/_epoc_8_roberta_attn_trac_task_a.pt',\n",
       " '/home/kaushik.das/OffensEval2020/saved_models/Wed_11_Mar_2020//task_c/roberta_attn/_epoc_7_roberta_attn_trac_task_a.pt',\n",
       " '/home/kaushik.das/OffensEval2020/saved_models/Wed_11_Mar_2020//task_c/roberta_attn/_epoc_6_roberta_attn_trac_task_a.pt',\n",
       " '/home/kaushik.das/OffensEval2020/saved_models/Wed_11_Mar_2020//task_c/roberta_attn/_epoc_5_roberta_attn_trac_task_a.pt',\n",
       " '/home/kaushik.das/OffensEval2020/saved_models/Wed_11_Mar_2020//task_c/roberta_attn/_epoc_4_roberta_attn_trac_task_a.pt',\n",
       " '/home/kaushik.das/OffensEval2020/saved_models/Wed_11_Mar_2020//task_c/roberta_attn/_epoc_2_roberta_attn_trac_task_a.pt',\n",
       " '/home/kaushik.das/OffensEval2020/saved_models/Wed_11_Mar_2020//task_c/roberta_attn/_epoc_1_roberta_attn_trac_task_a.pt']"
      ]
     },
     "execution_count": 90,
     "metadata": {},
     "output_type": "execute_result"
    }
   ],
   "source": [
    "selected_models_paths = [os.path.join(args.directory,i ) for i in selected_models]\n",
    "selected_models_paths"
   ]
  },
  {
   "cell_type": "code",
   "execution_count": 102,
   "metadata": {},
   "outputs": [
    {
     "data": {
      "text/plain": [
       "['/home/kaushik.das/OffensEval2020/saved_models/Wed_11_Mar_2020//task_c/roberta_attn/_epoc_0_roberta_attn_trac_task_a.pt',\n",
       " '/home/kaushik.das/OffensEval2020/saved_models/Wed_11_Mar_2020//task_c/roberta_attn/_epoc_1_roberta_attn_trac_task_a.pt',\n",
       " '/home/kaushik.das/OffensEval2020/saved_models/Wed_11_Mar_2020//task_c/roberta_attn/_epoc_2_roberta_attn_trac_task_a.pt',\n",
       " '/home/kaushik.das/OffensEval2020/saved_models/Wed_11_Mar_2020//task_c/roberta_attn/_epoc_3_roberta_attn_trac_task_a.pt',\n",
       " '/home/kaushik.das/OffensEval2020/saved_models/Wed_11_Mar_2020//task_c/roberta_attn/_epoc_4_roberta_attn_trac_task_a.pt',\n",
       " '/home/kaushik.das/OffensEval2020/saved_models/Wed_11_Mar_2020//task_c/roberta_attn/_epoc_5_roberta_attn_trac_task_a.pt',\n",
       " '/home/kaushik.das/OffensEval2020/saved_models/Wed_11_Mar_2020//task_c/roberta_attn/_epoc_6_roberta_attn_trac_task_a.pt',\n",
       " '/home/kaushik.das/OffensEval2020/saved_models/Wed_11_Mar_2020//task_c/roberta_attn/_epoc_7_roberta_attn_trac_task_a.pt',\n",
       " '/home/kaushik.das/OffensEval2020/saved_models/Wed_11_Mar_2020//task_c/roberta_attn/_epoc_8_roberta_attn_trac_task_a.pt',\n",
       " '/home/kaushik.das/OffensEval2020/saved_models/Wed_11_Mar_2020//task_c/roberta_attn/_epoc_9_roberta_attn_trac_task_a.pt']"
      ]
     },
     "execution_count": 102,
     "metadata": {},
     "output_type": "execute_result"
    }
   ],
   "source": [
    "all_model_paths = [os.path.join(args.directory,i ) for i in os.listdir(args.directory)]\n",
    "all_model_paths"
   ]
  },
  {
   "cell_type": "code",
   "execution_count": 81,
   "metadata": {},
   "outputs": [],
   "source": [
    "val_dataset = HateDataset(\n",
    "    data_df = data_df_task_c[data_df_task_c.split == 'val'],\n",
    "    tokenizer = roberta_tokenizer\n",
    ")"
   ]
  },
  {
   "cell_type": "code",
   "execution_count": 120,
   "metadata": {},
   "outputs": [],
   "source": [
    "val_dataset.simple_vectorize = True\n",
    "assert val_dataset.simple_vectorize == True"
   ]
  },
  {
   "cell_type": "code",
   "execution_count": 135,
   "metadata": {},
   "outputs": [],
   "source": [
    "val_state = general_utils.make_train_state()"
   ]
  },
  {
   "cell_type": "code",
   "execution_count": 136,
   "metadata": {},
   "outputs": [],
   "source": [
    "val_state_with_f1 = general_utils.make_train_state()"
   ]
  },
  {
   "cell_type": "code",
   "execution_count": 137,
   "metadata": {
    "scrolled": true
   },
   "outputs": [
    {
     "data": {
      "application/vnd.jupyter.widget-view+json": {
       "model_id": "7edb710956a24ef095292e7e1c4e3323",
       "version_major": 2,
       "version_minor": 0
      },
      "text/plain": [
       "HBox(children=(FloatProgress(value=0.0, max=8.0), HTML(value='')))"
      ]
     },
     "metadata": {},
     "output_type": "display_data"
    },
    {
     "data": {
      "application/vnd.jupyter.widget-view+json": {
       "model_id": "",
       "version_major": 2,
       "version_minor": 0
      },
      "text/plain": [
       "HBox(children=(FloatProgress(value=0.0, description='evaluation progress: ', max=78.0, style=ProgressStyle(des…"
      ]
     },
     "metadata": {},
     "output_type": "display_data"
    },
    {
     "name": "stdout",
     "output_type": "stream",
     "text": [
      "\r"
     ]
    },
    {
     "data": {
      "application/vnd.jupyter.widget-view+json": {
       "model_id": "",
       "version_major": 2,
       "version_minor": 0
      },
      "text/plain": [
       "HBox(children=(FloatProgress(value=0.0, description='evaluation progress: ', max=78.0, style=ProgressStyle(des…"
      ]
     },
     "metadata": {},
     "output_type": "display_data"
    },
    {
     "name": "stdout",
     "output_type": "stream",
     "text": [
      "\r"
     ]
    },
    {
     "data": {
      "application/vnd.jupyter.widget-view+json": {
       "model_id": "",
       "version_major": 2,
       "version_minor": 0
      },
      "text/plain": [
       "HBox(children=(FloatProgress(value=0.0, description='evaluation progress: ', max=78.0, style=ProgressStyle(des…"
      ]
     },
     "metadata": {},
     "output_type": "display_data"
    },
    {
     "name": "stdout",
     "output_type": "stream",
     "text": [
      "\r"
     ]
    },
    {
     "data": {
      "application/vnd.jupyter.widget-view+json": {
       "model_id": "",
       "version_major": 2,
       "version_minor": 0
      },
      "text/plain": [
       "HBox(children=(FloatProgress(value=0.0, description='evaluation progress: ', max=78.0, style=ProgressStyle(des…"
      ]
     },
     "metadata": {},
     "output_type": "display_data"
    },
    {
     "name": "stdout",
     "output_type": "stream",
     "text": [
      "\r"
     ]
    },
    {
     "data": {
      "application/vnd.jupyter.widget-view+json": {
       "model_id": "",
       "version_major": 2,
       "version_minor": 0
      },
      "text/plain": [
       "HBox(children=(FloatProgress(value=0.0, description='evaluation progress: ', max=78.0, style=ProgressStyle(des…"
      ]
     },
     "metadata": {},
     "output_type": "display_data"
    },
    {
     "name": "stdout",
     "output_type": "stream",
     "text": [
      "\r"
     ]
    },
    {
     "data": {
      "application/vnd.jupyter.widget-view+json": {
       "model_id": "",
       "version_major": 2,
       "version_minor": 0
      },
      "text/plain": [
       "HBox(children=(FloatProgress(value=0.0, description='evaluation progress: ', max=78.0, style=ProgressStyle(des…"
      ]
     },
     "metadata": {},
     "output_type": "display_data"
    },
    {
     "name": "stdout",
     "output_type": "stream",
     "text": [
      "\r"
     ]
    },
    {
     "data": {
      "application/vnd.jupyter.widget-view+json": {
       "model_id": "",
       "version_major": 2,
       "version_minor": 0
      },
      "text/plain": [
       "HBox(children=(FloatProgress(value=0.0, description='evaluation progress: ', max=78.0, style=ProgressStyle(des…"
      ]
     },
     "metadata": {},
     "output_type": "display_data"
    },
    {
     "name": "stdout",
     "output_type": "stream",
     "text": [
      "\r"
     ]
    },
    {
     "data": {
      "application/vnd.jupyter.widget-view+json": {
       "model_id": "",
       "version_major": 2,
       "version_minor": 0
      },
      "text/plain": [
       "HBox(children=(FloatProgress(value=0.0, description='evaluation progress: ', max=78.0, style=ProgressStyle(des…"
      ]
     },
     "metadata": {},
     "output_type": "display_data"
    },
    {
     "name": "stdout",
     "output_type": "stream",
     "text": [
      "\r\n"
     ]
    }
   ],
   "source": [
    "for path in notebook.tqdm(selected_models_paths, total = len(selected_models_paths)):\n",
    "    model.load_state_dict(torch.load(path)['model'])\n",
    "    val_state = evaluate(model, val_state, val_dataset, 'val',args)"
   ]
  },
  {
   "cell_type": "code",
   "execution_count": 138,
   "metadata": {},
   "outputs": [
    {
     "data": {
      "text/plain": [
       "[0.7993532557548972,\n",
       " 0.8037430562303842,\n",
       " 0.8052549980779805,\n",
       " 0.8148503858889021,\n",
       " 0.8130260230239558,\n",
       " 0.8142116805229819,\n",
       " 0.8053864980648223,\n",
       " 0.7879739969055087]"
      ]
     },
     "execution_count": 138,
     "metadata": {},
     "output_type": "execute_result"
    }
   ],
   "source": [
    "val_state['val_f1s']"
   ]
  },
  {
   "cell_type": "code",
   "execution_count": 139,
   "metadata": {
    "scrolled": true
   },
   "outputs": [
    {
     "data": {
      "application/vnd.jupyter.widget-view+json": {
       "model_id": "7981032767ed451d8e0aa5a53e8d5dcf",
       "version_major": 2,
       "version_minor": 0
      },
      "text/plain": [
       "HBox(children=(FloatProgress(value=0.0, max=10.0), HTML(value='')))"
      ]
     },
     "metadata": {},
     "output_type": "display_data"
    },
    {
     "data": {
      "application/vnd.jupyter.widget-view+json": {
       "model_id": "",
       "version_major": 2,
       "version_minor": 0
      },
      "text/plain": [
       "HBox(children=(FloatProgress(value=0.0, description='evaluation progress: ', max=78.0, style=ProgressStyle(des…"
      ]
     },
     "metadata": {},
     "output_type": "display_data"
    },
    {
     "name": "stdout",
     "output_type": "stream",
     "text": [
      "\r"
     ]
    },
    {
     "data": {
      "application/vnd.jupyter.widget-view+json": {
       "model_id": "",
       "version_major": 2,
       "version_minor": 0
      },
      "text/plain": [
       "HBox(children=(FloatProgress(value=0.0, description='evaluation progress: ', max=78.0, style=ProgressStyle(des…"
      ]
     },
     "metadata": {},
     "output_type": "display_data"
    },
    {
     "name": "stdout",
     "output_type": "stream",
     "text": [
      "\r"
     ]
    },
    {
     "data": {
      "application/vnd.jupyter.widget-view+json": {
       "model_id": "",
       "version_major": 2,
       "version_minor": 0
      },
      "text/plain": [
       "HBox(children=(FloatProgress(value=0.0, description='evaluation progress: ', max=78.0, style=ProgressStyle(des…"
      ]
     },
     "metadata": {},
     "output_type": "display_data"
    },
    {
     "name": "stdout",
     "output_type": "stream",
     "text": [
      "\r"
     ]
    },
    {
     "data": {
      "application/vnd.jupyter.widget-view+json": {
       "model_id": "",
       "version_major": 2,
       "version_minor": 0
      },
      "text/plain": [
       "HBox(children=(FloatProgress(value=0.0, description='evaluation progress: ', max=78.0, style=ProgressStyle(des…"
      ]
     },
     "metadata": {},
     "output_type": "display_data"
    },
    {
     "name": "stdout",
     "output_type": "stream",
     "text": [
      "\r"
     ]
    },
    {
     "data": {
      "application/vnd.jupyter.widget-view+json": {
       "model_id": "",
       "version_major": 2,
       "version_minor": 0
      },
      "text/plain": [
       "HBox(children=(FloatProgress(value=0.0, description='evaluation progress: ', max=78.0, style=ProgressStyle(des…"
      ]
     },
     "metadata": {},
     "output_type": "display_data"
    },
    {
     "name": "stdout",
     "output_type": "stream",
     "text": [
      "\r"
     ]
    },
    {
     "data": {
      "application/vnd.jupyter.widget-view+json": {
       "model_id": "",
       "version_major": 2,
       "version_minor": 0
      },
      "text/plain": [
       "HBox(children=(FloatProgress(value=0.0, description='evaluation progress: ', max=78.0, style=ProgressStyle(des…"
      ]
     },
     "metadata": {},
     "output_type": "display_data"
    },
    {
     "name": "stdout",
     "output_type": "stream",
     "text": [
      "\r"
     ]
    },
    {
     "data": {
      "application/vnd.jupyter.widget-view+json": {
       "model_id": "",
       "version_major": 2,
       "version_minor": 0
      },
      "text/plain": [
       "HBox(children=(FloatProgress(value=0.0, description='evaluation progress: ', max=78.0, style=ProgressStyle(des…"
      ]
     },
     "metadata": {},
     "output_type": "display_data"
    },
    {
     "name": "stdout",
     "output_type": "stream",
     "text": [
      "\r"
     ]
    },
    {
     "data": {
      "application/vnd.jupyter.widget-view+json": {
       "model_id": "",
       "version_major": 2,
       "version_minor": 0
      },
      "text/plain": [
       "HBox(children=(FloatProgress(value=0.0, description='evaluation progress: ', max=78.0, style=ProgressStyle(des…"
      ]
     },
     "metadata": {},
     "output_type": "display_data"
    },
    {
     "name": "stdout",
     "output_type": "stream",
     "text": [
      "\r"
     ]
    },
    {
     "data": {
      "application/vnd.jupyter.widget-view+json": {
       "model_id": "",
       "version_major": 2,
       "version_minor": 0
      },
      "text/plain": [
       "HBox(children=(FloatProgress(value=0.0, description='evaluation progress: ', max=78.0, style=ProgressStyle(des…"
      ]
     },
     "metadata": {},
     "output_type": "display_data"
    },
    {
     "name": "stdout",
     "output_type": "stream",
     "text": [
      "\r"
     ]
    },
    {
     "data": {
      "application/vnd.jupyter.widget-view+json": {
       "model_id": "",
       "version_major": 2,
       "version_minor": 0
      },
      "text/plain": [
       "HBox(children=(FloatProgress(value=0.0, description='evaluation progress: ', max=78.0, style=ProgressStyle(des…"
      ]
     },
     "metadata": {},
     "output_type": "display_data"
    },
    {
     "name": "stdout",
     "output_type": "stream",
     "text": [
      "\r\n"
     ]
    }
   ],
   "source": [
    "for path in notebook.tqdm(all_model_paths, total = len(all_model_paths)):\n",
    "    model.load_state_dict(torch.load(path)['model'])\n",
    "    val_state_with_f1 = evaluate(model, val_state_with_f1, val_dataset, 'val',args)"
   ]
  },
  {
   "cell_type": "code",
   "execution_count": 140,
   "metadata": {
    "scrolled": true
   },
   "outputs": [
    {
     "data": {
      "text/plain": [
       "[0.76904619801307,\n",
       " 0.7879739969055087,\n",
       " 0.8053864980648223,\n",
       " 0.8066677119594804,\n",
       " 0.8142116805229819,\n",
       " 0.8130260230239558,\n",
       " 0.8148503858889021,\n",
       " 0.8052549980779805,\n",
       " 0.8037430562303842,\n",
       " 0.7993532557548972]"
      ]
     },
     "execution_count": 140,
     "metadata": {},
     "output_type": "execute_result"
    }
   ],
   "source": [
    "val_state_with_f1['val_f1s']"
   ]
  },
  {
   "cell_type": "code",
   "execution_count": 115,
   "metadata": {
    "scrolled": false
   },
   "outputs": [
    {
     "name": "stdout",
     "output_type": "stream",
     "text": [
      "Taking preds from [7, 6, 5, 4] | Dev f1:0.8202963455196183\n"
     ]
    },
    {
     "data": {
      "text/plain": [
       "[7, 6, 5, 4]"
      ]
     },
     "execution_count": 115,
     "metadata": {},
     "output_type": "execute_result"
    }
   ],
   "source": [
    "get_optimal_models(val_state,'val',reverse=True)"
   ]
  },
  {
   "cell_type": "code",
   "execution_count": 118,
   "metadata": {},
   "outputs": [
    {
     "name": "stdout",
     "output_type": "stream",
     "text": [
      "Taking preds from [0, 1, 2, 3, 4, 5] | Dev f1:0.8225497357779874\n"
     ]
    },
    {
     "data": {
      "text/plain": [
       "[0, 1, 2, 3, 4, 5]"
      ]
     },
     "execution_count": 118,
     "metadata": {},
     "output_type": "execute_result"
    }
   ],
   "source": [
    "get_optimal_models(val_state_with_f1,'val',reverse=False)"
   ]
  },
  {
   "cell_type": "code",
   "execution_count": 119,
   "metadata": {},
   "outputs": [
    {
     "data": {
      "text/plain": [
       "[]"
      ]
     },
     "execution_count": 119,
     "metadata": {},
     "output_type": "execute_result"
    }
   ],
   "source": [
    "val_state[\"val_f1s\"]"
   ]
  },
  {
   "cell_type": "code",
   "execution_count": 141,
   "metadata": {},
   "outputs": [],
   "source": [
    "val_state_best = val_state.copy()\n",
    "val_state_all = val_state_with_f1.copy()"
   ]
  },
  {
   "cell_type": "code",
   "execution_count": 154,
   "metadata": {},
   "outputs": [
    {
     "name": "stdout",
     "output_type": "stream",
     "text": [
      "[(0.8148503858889021, 6), (0.8142116805229819, 4), (0.8130260230239558, 5), (0.8066677119594804, 3), (0.8053864980648223, 2), (0.8052549980779805, 7), (0.8037430562303842, 8), (0.7993532557548972, 9), (0.7879739969055087, 1), (0.76904619801307, 0)]\n",
      "[6, 4, 5, 3, 2, 7, 8, 9, 1, 0]\n"
     ]
    }
   ],
   "source": [
    "l = zip(val_state_all['val_f1s'], range(len(val_state_all['val_f1s'])))\n",
    "sorted_vals = sorted(l, key = lambda x:x[0], reverse=True)\n",
    "model_idxes = [i[1] for i in sorted_vals]\n",
    "print(sorted_vals)\n",
    "print(model_idxes)\n"
   ]
  },
  {
   "cell_type": "code",
   "execution_count": 155,
   "metadata": {},
   "outputs": [],
   "source": [
    "def get_optimal_models_v2(train_state, split):\n",
    "    l = zip(train_state[f'{split}_f1s'], range(len(train_state[f'{split}_f1s'])))\n",
    "    sorted_vals = sorted(l, key = lambda x:x[0], reverse=True)\n",
    "    model_idxes = [i[1] for i in sorted_vals]\n",
    "    \n",
    "    trgts= sort_preds(train_state[f'{split}_indexes'][-1],train_state[f'{split}_targets'][-1].reshape(-1,1))\n",
    "    total_preds = len(train_state[f'{split}_indexes'])\n",
    "    init = np.zeros(train_state[f'{split}_preds'][-1].shape)\n",
    "    max_f1 = 0\n",
    "    idxes = []\n",
    "    for i in model_idxes:\n",
    "        temp = sort_preds(train_state[f'{split}_indexes'][i],train_state[f'{split}_preds'][i])\n",
    "        temp2 = init+temp\n",
    "        f1 = f1_score(\n",
    "            y_pred=temp2.argmax(axis=1),\n",
    "            y_true= trgts, average ='macro'\n",
    "        )\n",
    "        if f1 > max_f1:\n",
    "            max_f1 = f1\n",
    "            init = init+temp\n",
    "            idxes.append(i)\n",
    "    print(f'Taking preds from {idxes} | Dev f1:{f1}')\n",
    "    return idxes"
   ]
  },
  {
   "cell_type": "code",
   "execution_count": 157,
   "metadata": {
    "scrolled": true
   },
   "outputs": [
    {
     "name": "stdout",
     "output_type": "stream",
     "text": [
      "Taking preds from [6, 4, 5, 3, 1, 0] | Dev f1:0.8281869746692267\n"
     ]
    },
    {
     "data": {
      "text/plain": [
       "[6, 4, 5, 3, 1, 0]"
      ]
     },
     "execution_count": 157,
     "metadata": {},
     "output_type": "execute_result"
    }
   ],
   "source": [
    "final_optimal_models = get_optimal_models_v2(val_state_all, 'val')\n",
    "final_optimal_models"
   ]
  },
  {
   "cell_type": "code",
   "execution_count": 158,
   "metadata": {
    "scrolled": true
   },
   "outputs": [
    {
     "data": {
      "text/plain": [
       "train    179524\n",
       "val        9449\n",
       "Name: split, dtype: int64"
      ]
     },
     "execution_count": 158,
     "metadata": {},
     "output_type": "execute_result"
    }
   ],
   "source": [
    "data_df_task_c.split.value_counts()"
   ]
  },
  {
   "cell_type": "code",
   "execution_count": 1,
   "metadata": {},
   "outputs": [
    {
     "data": {
      "text/plain": [
       "188973"
      ]
     },
     "execution_count": 1,
     "metadata": {},
     "output_type": "execute_result"
    }
   ],
   "source": [
    "179524 + 9449"
   ]
  },
  {
   "cell_type": "code",
   "execution_count": 189,
   "metadata": {},
   "outputs": [
    {
     "data": {
      "text/plain": [
       "['/home/kaushik.das/OffensEval2020/saved_models/Wed_11_Mar_2020//task_c/roberta_attn/_epoc_6_roberta_attn_trac_task_a.pt',\n",
       " '/home/kaushik.das/OffensEval2020/saved_models/Wed_11_Mar_2020//task_c/roberta_attn/_epoc_4_roberta_attn_trac_task_a.pt',\n",
       " '/home/kaushik.das/OffensEval2020/saved_models/Wed_11_Mar_2020//task_c/roberta_attn/_epoc_5_roberta_attn_trac_task_a.pt',\n",
       " '/home/kaushik.das/OffensEval2020/saved_models/Wed_11_Mar_2020//task_c/roberta_attn/_epoc_3_roberta_attn_trac_task_a.pt',\n",
       " '/home/kaushik.das/OffensEval2020/saved_models/Wed_11_Mar_2020//task_c/roberta_attn/_epoc_1_roberta_attn_trac_task_a.pt',\n",
       " '/home/kaushik.das/OffensEval2020/saved_models/Wed_11_Mar_2020//task_c/roberta_attn/_epoc_0_roberta_attn_trac_task_a.pt']"
      ]
     },
     "execution_count": 189,
     "metadata": {},
     "output_type": "execute_result"
    }
   ],
   "source": [
    "[all_model_paths[i] for i in final_optimal_models]"
   ]
  },
  {
   "cell_type": "markdown",
   "metadata": {},
   "source": [
    "# Making preds on the given test set"
   ]
  },
  {
   "cell_type": "code",
   "execution_count": 162,
   "metadata": {},
   "outputs": [
    {
     "name": "stdout",
     "output_type": "stream",
     "text": [
      "readme-offenseval-testsetC-english.txt\ttest_c_tweets.tsv\r\n"
     ]
    }
   ],
   "source": [
    "!ls /home/kaushik.das/OffensEval2020/data/OffenseEval2020Data/English/public_data_task_C/"
   ]
  },
  {
   "cell_type": "code",
   "execution_count": null,
   "metadata": {},
   "outputs": [],
   "source": [
    "test_set"
   ]
  },
  {
   "cell_type": "code",
   "execution_count": 170,
   "metadata": {},
   "outputs": [],
   "source": [
    "\n",
    "test_set_loc = \\\n",
    "'/home/kaushik.das/OffensEval2020/data/OffenseEval2020Data/English/public_data_task_C/test_c_tweets.tsv'\n"
   ]
  },
  {
   "cell_type": "code",
   "execution_count": 171,
   "metadata": {},
   "outputs": [],
   "source": [
    "test_df = pd.read_csv(test_set_loc,sep='\\t')"
   ]
  },
  {
   "cell_type": "code",
   "execution_count": 172,
   "metadata": {},
   "outputs": [
    {
     "data": {
      "text/html": [
       "<div>\n",
       "<style scoped>\n",
       "    .dataframe tbody tr th:only-of-type {\n",
       "        vertical-align: middle;\n",
       "    }\n",
       "\n",
       "    .dataframe tbody tr th {\n",
       "        vertical-align: top;\n",
       "    }\n",
       "\n",
       "    .dataframe thead th {\n",
       "        text-align: right;\n",
       "    }\n",
       "</style>\n",
       "<table border=\"1\" class=\"dataframe\">\n",
       "  <thead>\n",
       "    <tr style=\"text-align: right;\">\n",
       "      <th></th>\n",
       "      <th>id</th>\n",
       "      <th>tweet</th>\n",
       "    </tr>\n",
       "  </thead>\n",
       "  <tbody>\n",
       "    <tr>\n",
       "      <th>276</th>\n",
       "      <td>BC603</td>\n",
       "      <td>@USER i hate how people are acting like he did...</td>\n",
       "    </tr>\n",
       "    <tr>\n",
       "      <th>761</th>\n",
       "      <td>BC1688</td>\n",
       "      <td>@USER @USER @USER @USER @USER --says every lib...</td>\n",
       "    </tr>\n",
       "    <tr>\n",
       "      <th>34</th>\n",
       "      <td>BC87</td>\n",
       "      <td>You can be sleep on a nigga chest, whole time ...</td>\n",
       "    </tr>\n",
       "    <tr>\n",
       "      <th>406</th>\n",
       "      <td>BC904</td>\n",
       "      <td>niggas be 45 talking about ima get my life tog...</td>\n",
       "    </tr>\n",
       "    <tr>\n",
       "      <th>495</th>\n",
       "      <td>BC1112</td>\n",
       "      <td>@USER Why waste your sweet cum I'll suck your ...</td>\n",
       "    </tr>\n",
       "  </tbody>\n",
       "</table>\n",
       "</div>"
      ],
      "text/plain": [
       "         id                                              tweet\n",
       "276   BC603  @USER i hate how people are acting like he did...\n",
       "761  BC1688  @USER @USER @USER @USER @USER --says every lib...\n",
       "34     BC87  You can be sleep on a nigga chest, whole time ...\n",
       "406   BC904  niggas be 45 talking about ima get my life tog...\n",
       "495  BC1112  @USER Why waste your sweet cum I'll suck your ..."
      ]
     },
     "execution_count": 172,
     "metadata": {},
     "output_type": "execute_result"
    }
   ],
   "source": [
    "test_df.sample(5)"
   ]
  },
  {
   "cell_type": "code",
   "execution_count": 174,
   "metadata": {},
   "outputs": [
    {
     "data": {
      "text/html": [
       "<div>\n",
       "<style scoped>\n",
       "    .dataframe tbody tr th:only-of-type {\n",
       "        vertical-align: middle;\n",
       "    }\n",
       "\n",
       "    .dataframe tbody tr th {\n",
       "        vertical-align: top;\n",
       "    }\n",
       "\n",
       "    .dataframe thead th {\n",
       "        text-align: right;\n",
       "    }\n",
       "</style>\n",
       "<table border=\"1\" class=\"dataframe\">\n",
       "  <thead>\n",
       "    <tr style=\"text-align: right;\">\n",
       "      <th></th>\n",
       "      <th>id</th>\n",
       "      <th>tweet</th>\n",
       "      <th>text</th>\n",
       "      <th>split</th>\n",
       "      <th>label</th>\n",
       "    </tr>\n",
       "  </thead>\n",
       "  <tbody>\n",
       "    <tr>\n",
       "      <th>143</th>\n",
       "      <td>BC345</td>\n",
       "      <td>@USER i should block you for disrespecting the...</td>\n",
       "      <td>&lt;s&gt; @USER i should block you for disrespecting...</td>\n",
       "      <td>test</td>\n",
       "      <td>-1</td>\n",
       "    </tr>\n",
       "    <tr>\n",
       "      <th>528</th>\n",
       "      <td>BC1199</td>\n",
       "      <td>@USER Because Trumpets would totally be listen...</td>\n",
       "      <td>&lt;s&gt; @USER Because Trumpets would totally be li...</td>\n",
       "      <td>test</td>\n",
       "      <td>-1</td>\n",
       "    </tr>\n",
       "    <tr>\n",
       "      <th>751</th>\n",
       "      <td>BC1666</td>\n",
       "      <td>@USER I fuckin hate this just have a fuckin sh...</td>\n",
       "      <td>&lt;s&gt; @USER I fuckin hate this just have a fucki...</td>\n",
       "      <td>test</td>\n",
       "      <td>-1</td>\n",
       "    </tr>\n",
       "    <tr>\n",
       "      <th>283</th>\n",
       "      <td>BC624</td>\n",
       "      <td>@USER said the angry bitch. #PartTimePM</td>\n",
       "      <td>&lt;s&gt; @USER said the angry bitch. &lt;/s&gt; #PartTime...</td>\n",
       "      <td>test</td>\n",
       "      <td>-1</td>\n",
       "    </tr>\n",
       "    <tr>\n",
       "      <th>171</th>\n",
       "      <td>BC397</td>\n",
       "      <td>Suck mine and I will suck yours</td>\n",
       "      <td>&lt;s&gt; Suck mine and I will suck yours &lt;/s&gt;</td>\n",
       "      <td>test</td>\n",
       "      <td>-1</td>\n",
       "    </tr>\n",
       "  </tbody>\n",
       "</table>\n",
       "</div>"
      ],
      "text/plain": [
       "         id                                              tweet  \\\n",
       "143   BC345  @USER i should block you for disrespecting the...   \n",
       "528  BC1199  @USER Because Trumpets would totally be listen...   \n",
       "751  BC1666  @USER I fuckin hate this just have a fuckin sh...   \n",
       "283   BC624            @USER said the angry bitch. #PartTimePM   \n",
       "171   BC397                    Suck mine and I will suck yours   \n",
       "\n",
       "                                                  text split  label  \n",
       "143  <s> @USER i should block you for disrespecting...  test     -1  \n",
       "528  <s> @USER Because Trumpets would totally be li...  test     -1  \n",
       "751  <s> @USER I fuckin hate this just have a fucki...  test     -1  \n",
       "283  <s> @USER said the angry bitch. </s> #PartTime...  test     -1  \n",
       "171           <s> Suck mine and I will suck yours </s>  test     -1  "
      ]
     },
     "execution_count": 174,
     "metadata": {},
     "output_type": "execute_result"
    }
   ],
   "source": [
    "test_df['text'] = test_df['tweet'].map(roberta_preproc.add_special_tokens)\n",
    "test_df['split'] = 'test'  #dummy label\n",
    "test_df['label'] = -1  #dummy label\n",
    "test_df.sample(5)"
   ]
  },
  {
   "cell_type": "code",
   "execution_count": 175,
   "metadata": {},
   "outputs": [],
   "source": [
    "test_dataset = HateDataset(\n",
    "    data_df = test_df,\n",
    "    tokenizer = roberta_tokenizer\n",
    ")\n",
    "test_dataset.set_split('test')\n"
   ]
  },
  {
   "cell_type": "code",
   "execution_count": 190,
   "metadata": {},
   "outputs": [
    {
     "data": {
      "text/html": [
       "<div>\n",
       "<style scoped>\n",
       "    .dataframe tbody tr th:only-of-type {\n",
       "        vertical-align: middle;\n",
       "    }\n",
       "\n",
       "    .dataframe tbody tr th {\n",
       "        vertical-align: top;\n",
       "    }\n",
       "\n",
       "    .dataframe thead th {\n",
       "        text-align: right;\n",
       "    }\n",
       "</style>\n",
       "<table border=\"1\" class=\"dataframe\">\n",
       "  <thead>\n",
       "    <tr style=\"text-align: right;\">\n",
       "      <th></th>\n",
       "      <th>id</th>\n",
       "      <th>tweet</th>\n",
       "      <th>text</th>\n",
       "      <th>split</th>\n",
       "      <th>label</th>\n",
       "    </tr>\n",
       "  </thead>\n",
       "  <tbody>\n",
       "    <tr>\n",
       "      <th>345</th>\n",
       "      <td>BC756</td>\n",
       "      <td>what the fuck there was a loud ass noise comin...</td>\n",
       "      <td>&lt;s&gt; what the fuck there was a loud ass noise c...</td>\n",
       "      <td>test</td>\n",
       "      <td>-1</td>\n",
       "    </tr>\n",
       "    <tr>\n",
       "      <th>511</th>\n",
       "      <td>BC1156</td>\n",
       "      <td>@USER I knew some human are stupid but this gu...</td>\n",
       "      <td>&lt;s&gt; @USER I knew some human are stupid but thi...</td>\n",
       "      <td>test</td>\n",
       "      <td>-1</td>\n",
       "    </tr>\n",
       "    <tr>\n",
       "      <th>216</th>\n",
       "      <td>BC483</td>\n",
       "      <td>@USER Well how about taking some money from yo...</td>\n",
       "      <td>&lt;s&gt; @USER Well how about taking some money fro...</td>\n",
       "      <td>test</td>\n",
       "      <td>-1</td>\n",
       "    </tr>\n",
       "    <tr>\n",
       "      <th>420</th>\n",
       "      <td>BC940</td>\n",
       "      <td>@USER bitch needs to clean her glasses and ste...</td>\n",
       "      <td>&lt;s&gt; @USER bitch needs to clean her glasses and...</td>\n",
       "      <td>test</td>\n",
       "      <td>-1</td>\n",
       "    </tr>\n",
       "    <tr>\n",
       "      <th>789</th>\n",
       "      <td>BC1747</td>\n",
       "      <td>@USER Dudes is too aggressive smh what if shor...</td>\n",
       "      <td>&lt;s&gt; @USER Dudes is too aggressive smh what if ...</td>\n",
       "      <td>test</td>\n",
       "      <td>-1</td>\n",
       "    </tr>\n",
       "  </tbody>\n",
       "</table>\n",
       "</div>"
      ],
      "text/plain": [
       "         id                                              tweet  \\\n",
       "345   BC756  what the fuck there was a loud ass noise comin...   \n",
       "511  BC1156  @USER I knew some human are stupid but this gu...   \n",
       "216   BC483  @USER Well how about taking some money from yo...   \n",
       "420   BC940  @USER bitch needs to clean her glasses and ste...   \n",
       "789  BC1747  @USER Dudes is too aggressive smh what if shor...   \n",
       "\n",
       "                                                  text split  label  \n",
       "345  <s> what the fuck there was a loud ass noise c...  test     -1  \n",
       "511  <s> @USER I knew some human are stupid but thi...  test     -1  \n",
       "216  <s> @USER Well how about taking some money fro...  test     -1  \n",
       "420  <s> @USER bitch needs to clean her glasses and...  test     -1  \n",
       "789  <s> @USER Dudes is too aggressive smh what if ...  test     -1  "
      ]
     },
     "execution_count": 190,
     "metadata": {},
     "output_type": "execute_result"
    }
   ],
   "source": [
    "test_dataset._target_df.sample(5)"
   ]
  },
  {
   "cell_type": "code",
   "execution_count": 176,
   "metadata": {},
   "outputs": [],
   "source": [
    "test_dataset.simple_vectorize = True\n",
    "assert test_dataset.simple_vectorize == True"
   ]
  },
  {
   "cell_type": "code",
   "execution_count": 183,
   "metadata": {},
   "outputs": [
    {
     "name": "stdout",
     "output_type": "stream",
     "text": [
      "850\n",
      "test    850\n",
      "Name: split, dtype: int64\n"
     ]
    }
   ],
   "source": [
    "print(len(test_df))\n",
    "print(test_dataset._target_df.split.value_counts())"
   ]
  },
  {
   "cell_type": "code",
   "execution_count": 197,
   "metadata": {},
   "outputs": [],
   "source": [
    "def evaluate_testset(model, state, dataset, split,args):\n",
    "    \"\"\"Returns the final layer output of our transformer model\n",
    "    Puts them in the '{split}_*' keys in the state dict\n",
    "    Args:\n",
    "        model: A pytorch transformers model\n",
    "        state: dict to store outputs\n",
    "        dataset: A pytorch Dataset\n",
    "        split: The split on which to evaluate the model on\n",
    "        args: Arguments from namespace, etc\n",
    "    Returns:\n",
    "        state: all evaluated output stored in the \"test\" key\n",
    "    \"\"\"\n",
    "    eval_bar = notebook.tqdm(\n",
    "        desc = 'evaluation progress: ',\n",
    "        total=dataset.get_num_batches(args.batch_size),\n",
    "        position=0,\n",
    "        leave=False,\n",
    "    )\n",
    "    dataset.set_split(split)\n",
    "    batch_generator = generate_batches(\n",
    "        dataset= dataset, batch_size= args.batch_size, shuffle=False,\n",
    "        device = args.device, drop_last=False,\n",
    "        pinned_memory = True, n_workers = 2, \n",
    "    )\n",
    "    eval_bar.reset(\n",
    "        total=dataset.get_num_batches(args.batch_size),\n",
    "    )\n",
    "    model.eval()\n",
    "    with torch.no_grad():\n",
    "        for batch_index, batch_dict in enumerate(batch_generator):\n",
    "            y_pred = model(\n",
    "                input_ids = batch_dict['x_data'],\n",
    "                attention_mask =  batch_dict['x_attn_mask'],\n",
    "            )[0]\n",
    "            y_pred = y_pred.view(-1, 3)\n",
    "\n",
    "            y_pred = y_pred.detach()\n",
    "            \n",
    "            state['batch_preds'].append(y_pred.cpu())\n",
    "            state['batch_indexes'].append(batch_dict['x_index'].cpu())\n",
    "            \n",
    "            eval_bar.update()\n",
    "            \n",
    "        if torch.cuda.is_available():\n",
    "            torch.cuda.empty_cache()\n",
    "    \n",
    "    state[f'{split}_preds'].append(\n",
    "        torch.cat(state['batch_preds']).cpu()\n",
    "    )\n",
    "    state[f'{split}_indexes'].append(\n",
    "        torch.cat(state['batch_indexes']).cpu()\n",
    "    )\n",
    "    \n",
    "    state['batch_preds'] = []\n",
    "    state['batch_indexes'] = []\n",
    "    \n",
    "    eval_bar.close()\n",
    "    return state"
   ]
  },
  {
   "cell_type": "code",
   "execution_count": 198,
   "metadata": {},
   "outputs": [],
   "source": [
    "chosen_models = [all_model_paths[i] for i in final_optimal_models]"
   ]
  },
  {
   "cell_type": "code",
   "execution_count": 199,
   "metadata": {},
   "outputs": [
    {
     "data": {
      "application/vnd.jupyter.widget-view+json": {
       "model_id": "20b1411040ae4dcdb90ef9b9ec7427c4",
       "version_major": 2,
       "version_minor": 0
      },
      "text/plain": [
       "HBox(children=(FloatProgress(value=0.0, max=6.0), HTML(value='')))"
      ]
     },
     "metadata": {},
     "output_type": "display_data"
    },
    {
     "data": {
      "application/vnd.jupyter.widget-view+json": {
       "model_id": "",
       "version_major": 2,
       "version_minor": 0
      },
      "text/plain": [
       "HBox(children=(FloatProgress(value=0.0, description='evaluation progress: ', max=7.0, style=ProgressStyle(desc…"
      ]
     },
     "metadata": {},
     "output_type": "display_data"
    },
    {
     "name": "stdout",
     "output_type": "stream",
     "text": [
      "\r"
     ]
    },
    {
     "data": {
      "application/vnd.jupyter.widget-view+json": {
       "model_id": "",
       "version_major": 2,
       "version_minor": 0
      },
      "text/plain": [
       "HBox(children=(FloatProgress(value=0.0, description='evaluation progress: ', max=7.0, style=ProgressStyle(desc…"
      ]
     },
     "metadata": {},
     "output_type": "display_data"
    },
    {
     "name": "stdout",
     "output_type": "stream",
     "text": [
      "\r"
     ]
    },
    {
     "data": {
      "application/vnd.jupyter.widget-view+json": {
       "model_id": "",
       "version_major": 2,
       "version_minor": 0
      },
      "text/plain": [
       "HBox(children=(FloatProgress(value=0.0, description='evaluation progress: ', max=7.0, style=ProgressStyle(desc…"
      ]
     },
     "metadata": {},
     "output_type": "display_data"
    },
    {
     "name": "stdout",
     "output_type": "stream",
     "text": [
      "\r"
     ]
    },
    {
     "data": {
      "application/vnd.jupyter.widget-view+json": {
       "model_id": "",
       "version_major": 2,
       "version_minor": 0
      },
      "text/plain": [
       "HBox(children=(FloatProgress(value=0.0, description='evaluation progress: ', max=7.0, style=ProgressStyle(desc…"
      ]
     },
     "metadata": {},
     "output_type": "display_data"
    },
    {
     "name": "stdout",
     "output_type": "stream",
     "text": [
      "\r"
     ]
    },
    {
     "data": {
      "application/vnd.jupyter.widget-view+json": {
       "model_id": "",
       "version_major": 2,
       "version_minor": 0
      },
      "text/plain": [
       "HBox(children=(FloatProgress(value=0.0, description='evaluation progress: ', max=7.0, style=ProgressStyle(desc…"
      ]
     },
     "metadata": {},
     "output_type": "display_data"
    },
    {
     "name": "stdout",
     "output_type": "stream",
     "text": [
      "\r"
     ]
    },
    {
     "data": {
      "application/vnd.jupyter.widget-view+json": {
       "model_id": "",
       "version_major": 2,
       "version_minor": 0
      },
      "text/plain": [
       "HBox(children=(FloatProgress(value=0.0, description='evaluation progress: ', max=7.0, style=ProgressStyle(desc…"
      ]
     },
     "metadata": {},
     "output_type": "display_data"
    },
    {
     "name": "stdout",
     "output_type": "stream",
     "text": [
      "\r\n"
     ]
    }
   ],
   "source": [
    "test_state = general_utils.make_train_state()\n",
    "for model_path in notebook.tqdm(chosen_models, total=len(chosen_models)):\n",
    "    model.load_state_dict(torch.load(model_path)['model'])\n",
    "    test_state = evaluate_testset(model, test_state, test_dataset, 'test',args)"
   ]
  },
  {
   "cell_type": "code",
   "execution_count": 201,
   "metadata": {},
   "outputs": [
    {
     "data": {
      "text/plain": [
       "torch.Size([850, 3])"
      ]
     },
     "execution_count": 201,
     "metadata": {},
     "output_type": "execute_result"
    }
   ],
   "source": [
    "test_state['test_preds'][-1].shape"
   ]
  },
  {
   "cell_type": "code",
   "execution_count": 202,
   "metadata": {},
   "outputs": [
    {
     "data": {
      "text/plain": [
       "[torch.Size([850, 3]),\n",
       " torch.Size([850, 3]),\n",
       " torch.Size([850, 3]),\n",
       " torch.Size([850, 3]),\n",
       " torch.Size([850, 3]),\n",
       " torch.Size([850, 3])]"
      ]
     },
     "execution_count": 202,
     "metadata": {},
     "output_type": "execute_result"
    }
   ],
   "source": [
    "[test_state['test_preds'][i].size() for i in range(len(test_state['test_preds']))]"
   ]
  },
  {
   "cell_type": "code",
   "execution_count": 203,
   "metadata": {},
   "outputs": [
    {
     "data": {
      "text/plain": [
       "850"
      ]
     },
     "execution_count": 203,
     "metadata": {},
     "output_type": "execute_result"
    }
   ],
   "source": [
    "len(test_dataset._target_df)"
   ]
  },
  {
   "cell_type": "code",
   "execution_count": 206,
   "metadata": {},
   "outputs": [
    {
     "data": {
      "text/plain": [
       "torch.Size([850, 3])"
      ]
     },
     "execution_count": 206,
     "metadata": {},
     "output_type": "execute_result"
    }
   ],
   "source": [
    "torch.zeros_like(test_state['test_preds'][0]).size()"
   ]
  },
  {
   "cell_type": "code",
   "execution_count": 207,
   "metadata": {},
   "outputs": [],
   "source": [
    "ensemble_pred = torch.zeros_like(test_state['test_preds'][0])\n",
    "for i in test_state['test_preds']:\n",
    "    ensemble_pred += i"
   ]
  },
  {
   "cell_type": "code",
   "execution_count": null,
   "metadata": {},
   "outputs": [],
   "source": [
    "# label_dict[\"IND\"] = 0\n",
    "# label_dict[\"GRP\"] = 1\n",
    "# label_dict[\"OTH\"] = 2\n",
    "#ref utils/offeval2020.py"
   ]
  },
  {
   "cell_type": "code",
   "execution_count": 209,
   "metadata": {},
   "outputs": [],
   "source": [
    "int_to_label = { 0: 'IND', 1:'GRP', 2:'OTH'}"
   ]
  },
  {
   "cell_type": "code",
   "execution_count": 212,
   "metadata": {},
   "outputs": [
    {
     "data": {
      "text/plain": [
       "Counter({'IND': 653, 'GRP': 171, 'OTH': 26})"
      ]
     },
     "execution_count": 212,
     "metadata": {},
     "output_type": "execute_result"
    }
   ],
   "source": [
    "t = []\n",
    "for i in torch.argmax(ensemble_pred, dim=1):\n",
    "    t.append(int_to_label[i.item()])\n",
    "\n",
    "collections.Counter(t)"
   ]
  },
  {
   "cell_type": "code",
   "execution_count": 213,
   "metadata": {},
   "outputs": [],
   "source": [
    "assert len(t) == len(test_df)"
   ]
  },
  {
   "cell_type": "code",
   "execution_count": 214,
   "metadata": {},
   "outputs": [],
   "source": [
    "offeval_task_c_run_2_pred_analysis_df = pd.DataFrame(\n",
    "    data={\n",
    "        'id':test_df.id,\n",
    "        'text':test_df.tweet,\n",
    "        'label':t,\n",
    "    }\n",
    ")"
   ]
  },
  {
   "cell_type": "code",
   "execution_count": 215,
   "metadata": {},
   "outputs": [],
   "source": [
    "offeval_task_c_run_2_pred_label_df = pd.DataFrame(\n",
    "    data={\n",
    "        'id':test_df.id,\n",
    "        'label':t,\n",
    "    }\n",
    ")"
   ]
  },
  {
   "cell_type": "code",
   "execution_count": 216,
   "metadata": {},
   "outputs": [],
   "source": [
    "offeval_task_c_run_2_pred_analysis_df.to_csv(\n",
    "    'offeval_task_c_run_2_pred_analysis.csv',index=False,\n",
    ")"
   ]
  },
  {
   "cell_type": "code",
   "execution_count": 217,
   "metadata": {},
   "outputs": [],
   "source": [
    "offeval_task_c_run_2_pred_label_df.to_csv(\n",
    "    'offeval_task_c_run_2_pred_label.csv', index=False, header=False,\n",
    ")"
   ]
  },
  {
   "cell_type": "code",
   "execution_count": 218,
   "metadata": {},
   "outputs": [
    {
     "data": {
      "text/plain": [
       "IND    653\n",
       "GRP    171\n",
       "OTH     26\n",
       "Name: label, dtype: int64"
      ]
     },
     "execution_count": 218,
     "metadata": {},
     "output_type": "execute_result"
    }
   ],
   "source": [
    "offeval_task_c_run_2_pred_label_df.label.value_counts()\n"
   ]
  },
  {
   "cell_type": "code",
   "execution_count": 220,
   "metadata": {},
   "outputs": [
    {
     "data": {
      "text/plain": [
       "IND    653\n",
       "GRP    171\n",
       "OTH     26\n",
       "Name: label, dtype: int64"
      ]
     },
     "execution_count": 220,
     "metadata": {},
     "output_type": "execute_result"
    }
   ],
   "source": [
    "offeval_task_c_run_2_pred_analysis_df.label.value_counts()"
   ]
  },
  {
   "cell_type": "code",
   "execution_count": null,
   "metadata": {},
   "outputs": [],
   "source": []
  }
 ],
 "metadata": {
  "kernelspec": {
   "display_name": "Python 3",
   "language": "python",
   "name": "python3"
  },
  "language_info": {
   "codemirror_mode": {
    "name": "ipython",
    "version": 3
   },
   "file_extension": ".py",
   "mimetype": "text/x-python",
   "name": "python",
   "nbconvert_exporter": "python",
   "pygments_lexer": "ipython3",
   "version": "3.7.0"
  },
  "widgets": {
   "application/vnd.jupyter.widget-state+json": {
    "state": {
     "00662df72e4a445dadf62e289bde3465": {
      "model_module": "@jupyter-widgets/base",
      "model_module_version": "1.2.0",
      "model_name": "LayoutModel",
      "state": {}
     },
     "008a5a23b322466e8f9a12d87d621938": {
      "model_module": "@jupyter-widgets/controls",
      "model_module_version": "1.5.0",
      "model_name": "ProgressStyleModel",
      "state": {
       "description_width": "initial"
      }
     },
     "00c08dec528b4c99b02444ad046393e2": {
      "model_module": "@jupyter-widgets/base",
      "model_module_version": "1.2.0",
      "model_name": "LayoutModel",
      "state": {}
     },
     "00d397d6d0eb41b6b3ffacc1a0dc1d7d": {
      "model_module": "@jupyter-widgets/controls",
      "model_module_version": "1.5.0",
      "model_name": "DescriptionStyleModel",
      "state": {
       "description_width": ""
      }
     },
     "0102dba56c98425da2321b3e7005ef98": {
      "model_module": "@jupyter-widgets/base",
      "model_module_version": "1.2.0",
      "model_name": "LayoutModel",
      "state": {}
     },
     "0102df6a46c24b3c999239b91a319db3": {
      "model_module": "@jupyter-widgets/controls",
      "model_module_version": "1.5.0",
      "model_name": "ProgressStyleModel",
      "state": {
       "description_width": "initial"
      }
     },
     "013a90569a8a4532ad4b40ff7bdedc5a": {
      "model_module": "@jupyter-widgets/controls",
      "model_module_version": "1.5.0",
      "model_name": "HBoxModel",
      "state": {
       "children": [
        "IPY_MODEL_07310c0bd78f4b37be56bf96520b569d",
        "IPY_MODEL_cf4165c7049a4252b93159a5fd5b9cca"
       ],
       "layout": "IPY_MODEL_3f95a7ddcd334ec5bc1df293539c6aea"
      }
     },
     "0141cd209fe949afb5db30549d17df00": {
      "model_module": "@jupyter-widgets/controls",
      "model_module_version": "1.5.0",
      "model_name": "ProgressStyleModel",
      "state": {
       "description_width": "initial"
      }
     },
     "017eb7a21f81422ea33da6e15a97a4c5": {
      "model_module": "@jupyter-widgets/base",
      "model_module_version": "1.2.0",
      "model_name": "LayoutModel",
      "state": {}
     },
     "01a86243eb8b42e2a3e749382785693d": {
      "model_module": "@jupyter-widgets/base",
      "model_module_version": "1.2.0",
      "model_name": "LayoutModel",
      "state": {}
     },
     "01b64ccc019a45768e866c5e8ac81982": {
      "model_module": "@jupyter-widgets/base",
      "model_module_version": "1.2.0",
      "model_name": "LayoutModel",
      "state": {}
     },
     "01cc48e0a7d3419cb25b9e5c7f9ba8bd": {
      "model_module": "@jupyter-widgets/base",
      "model_module_version": "1.2.0",
      "model_name": "LayoutModel",
      "state": {}
     },
     "0238aaae26224a678bbf5d9784375fe2": {
      "model_module": "@jupyter-widgets/controls",
      "model_module_version": "1.5.0",
      "model_name": "HTMLModel",
      "state": {
       "layout": "IPY_MODEL_c35ad2f827ee49cdba0e7262d6d15d95",
       "style": "IPY_MODEL_fbdc933d367e48ac8af2d2398e531d1f",
       "value": " 29/5610 [00:28&lt;1:30:33,  1.03it/s, acc=0.234, epoch=0, f1=0.179, loss=1.1]"
      }
     },
     "031b8134790146678b676fa8a99698e5": {
      "model_module": "@jupyter-widgets/controls",
      "model_module_version": "1.5.0",
      "model_name": "DescriptionStyleModel",
      "state": {
       "description_width": ""
      }
     },
     "03a2e3f6a7534d978336c768f03add6a": {
      "model_module": "@jupyter-widgets/controls",
      "model_module_version": "1.5.0",
      "model_name": "FloatProgressModel",
      "state": {
       "description": "evaluation progress: ",
       "layout": "IPY_MODEL_cd2f8fcd3771423d87ca4db6eaf6e720",
       "max": 78,
       "style": "IPY_MODEL_283b6b0dbd4b4cb6843ede3824debd53",
       "value": 78
      }
     },
     "03bb3238af92495d9349184b98124c60": {
      "model_module": "@jupyter-widgets/controls",
      "model_module_version": "1.5.0",
      "model_name": "DescriptionStyleModel",
      "state": {
       "description_width": ""
      }
     },
     "03c76503e8974f66a548b23f28a4e28e": {
      "model_module": "@jupyter-widgets/controls",
      "model_module_version": "1.5.0",
      "model_name": "ProgressStyleModel",
      "state": {
       "description_width": "initial"
      }
     },
     "03d316f4c64e4dbc824837db3682b843": {
      "model_module": "@jupyter-widgets/base",
      "model_module_version": "1.2.0",
      "model_name": "LayoutModel",
      "state": {}
     },
     "049c7a3836f243f9a33e8f8c2833d79f": {
      "model_module": "@jupyter-widgets/controls",
      "model_module_version": "1.5.0",
      "model_name": "FloatProgressModel",
      "state": {
       "description": "evaluation progress: ",
       "layout": "IPY_MODEL_6e2851454bb949b08cc777d84173d475",
       "max": 78,
       "style": "IPY_MODEL_72b8808d55e94058946adb184808e2c9",
       "value": 78
      }
     },
     "04b084177cd54b9a86a6697eb658d1df": {
      "model_module": "@jupyter-widgets/controls",
      "model_module_version": "1.5.0",
      "model_name": "FloatProgressModel",
      "state": {
       "description": "evaluation progress: ",
       "layout": "IPY_MODEL_c5a3086d736e4bb6a3320d4a408ab1be",
       "max": 78,
       "style": "IPY_MODEL_982ec189393c4a6cafd040992cf61bcf",
       "value": 78
      }
     },
     "04dc036acc22433a8cc9efb66b7cdb26": {
      "model_module": "@jupyter-widgets/controls",
      "model_module_version": "1.5.0",
      "model_name": "DescriptionStyleModel",
      "state": {
       "description_width": ""
      }
     },
     "053c4eb926cc4728a33dc487e6691648": {
      "model_module": "@jupyter-widgets/controls",
      "model_module_version": "1.5.0",
      "model_name": "ProgressStyleModel",
      "state": {
       "description_width": "initial"
      }
     },
     "056f03b21862441a9a105ad748c8f5cd": {
      "model_module": "@jupyter-widgets/controls",
      "model_module_version": "1.5.0",
      "model_name": "DescriptionStyleModel",
      "state": {
       "description_width": ""
      }
     },
     "059955fc21bd4f7582822978b816227d": {
      "model_module": "@jupyter-widgets/base",
      "model_module_version": "1.2.0",
      "model_name": "LayoutModel",
      "state": {}
     },
     "05facc4bcca845148d076517f21a7b03": {
      "model_module": "@jupyter-widgets/base",
      "model_module_version": "1.2.0",
      "model_name": "LayoutModel",
      "state": {}
     },
     "06ae7287304b4201ade65204aa13fbbf": {
      "model_module": "@jupyter-widgets/base",
      "model_module_version": "1.2.0",
      "model_name": "LayoutModel",
      "state": {}
     },
     "06e48dea736e4969bc733dea6255a413": {
      "model_module": "@jupyter-widgets/controls",
      "model_module_version": "1.5.0",
      "model_name": "HTMLModel",
      "state": {
       "layout": "IPY_MODEL_48de600e719841cc93946f15fc08d9fd",
       "style": "IPY_MODEL_80518c633afa42ccbeb3117b430cc194",
       "value": " 79/? [00:12&lt;00:00,  7.32it/s]"
      }
     },
     "06eed71c602c43edb415d355caa58e1c": {
      "model_module": "@jupyter-widgets/base",
      "model_module_version": "1.2.0",
      "model_name": "LayoutModel",
      "state": {}
     },
     "07310c0bd78f4b37be56bf96520b569d": {
      "model_module": "@jupyter-widgets/controls",
      "model_module_version": "1.5.0",
      "model_name": "FloatProgressModel",
      "state": {
       "bar_style": "info",
       "description": "evaluation progress:   0%",
       "layout": "IPY_MODEL_a40a50db73514afbb14bfbbf45dfb41d",
       "max": 78,
       "style": "IPY_MODEL_46c00b3937244277a39c34778065e0b3"
      }
     },
     "075010ef3d9d4309b348bf670dc2adb3": {
      "model_module": "@jupyter-widgets/controls",
      "model_module_version": "1.5.0",
      "model_name": "HBoxModel",
      "state": {
       "children": [
        "IPY_MODEL_6d8b5a1aa940448f888afef3e4a653cb",
        "IPY_MODEL_0238aaae26224a678bbf5d9784375fe2"
       ],
       "layout": "IPY_MODEL_c25ca6d2c49945e1aaeb35a8e6ca05d0"
      }
     },
     "077ff13aa92149e3afd6f12fd1bfcb69": {
      "model_module": "@jupyter-widgets/base",
      "model_module_version": "1.2.0",
      "model_name": "LayoutModel",
      "state": {}
     },
     "07c5e87ca945495b8b76e68f4179dcbf": {
      "model_module": "@jupyter-widgets/controls",
      "model_module_version": "1.5.0",
      "model_name": "DescriptionStyleModel",
      "state": {
       "description_width": ""
      }
     },
     "08868625e2ba441ba2e4738945f9b93b": {
      "model_module": "@jupyter-widgets/controls",
      "model_module_version": "1.5.0",
      "model_name": "HBoxModel",
      "state": {
       "children": [
        "IPY_MODEL_e0facbd749d9456e88750e948d0c5095",
        "IPY_MODEL_125ef426c0fa4337b6fff810986ecfab"
       ],
       "layout": "IPY_MODEL_b08dc686ddb04b53b78871409499f9dc"
      }
     },
     "095933bc44d34dfb923925cbe65140d8": {
      "model_module": "@jupyter-widgets/base",
      "model_module_version": "1.2.0",
      "model_name": "LayoutModel",
      "state": {}
     },
     "096165af6d654853ab98a06a97e337b2": {
      "model_module": "@jupyter-widgets/controls",
      "model_module_version": "1.5.0",
      "model_name": "DescriptionStyleModel",
      "state": {
       "description_width": ""
      }
     },
     "09903e25bc7e495ca594aac162afd6ed": {
      "model_module": "@jupyter-widgets/base",
      "model_module_version": "1.2.0",
      "model_name": "LayoutModel",
      "state": {}
     },
     "09aa84dbc0e5449985044252cd1ef020": {
      "model_module": "@jupyter-widgets/base",
      "model_module_version": "1.2.0",
      "model_name": "LayoutModel",
      "state": {}
     },
     "09dffa9713924829b49bfe017fc2e754": {
      "model_module": "@jupyter-widgets/controls",
      "model_module_version": "1.5.0",
      "model_name": "DescriptionStyleModel",
      "state": {
       "description_width": ""
      }
     },
     "0b8a1b83ce2148cda8f82bd78a9dc498": {
      "model_module": "@jupyter-widgets/base",
      "model_module_version": "1.2.0",
      "model_name": "LayoutModel",
      "state": {}
     },
     "0ba2e61c627d4a37bcf198893dc793f1": {
      "model_module": "@jupyter-widgets/controls",
      "model_module_version": "1.5.0",
      "model_name": "ProgressStyleModel",
      "state": {
       "description_width": "initial"
      }
     },
     "0bb51df35b58445fab52b994669bef30": {
      "model_module": "@jupyter-widgets/controls",
      "model_module_version": "1.5.0",
      "model_name": "ProgressStyleModel",
      "state": {
       "description_width": "initial"
      }
     },
     "0bd038324ff4420bbb9ac842f316b3b2": {
      "model_module": "@jupyter-widgets/controls",
      "model_module_version": "1.5.0",
      "model_name": "ProgressStyleModel",
      "state": {
       "description_width": "initial"
      }
     },
     "0be7c864f70a497b93c6c24f156285aa": {
      "model_module": "@jupyter-widgets/base",
      "model_module_version": "1.2.0",
      "model_name": "LayoutModel",
      "state": {}
     },
     "0c2476e1ba604362a81142e49fca1427": {
      "model_module": "@jupyter-widgets/controls",
      "model_module_version": "1.5.0",
      "model_name": "FloatProgressModel",
      "state": {
       "description": "training_routine:   0%",
       "layout": "IPY_MODEL_ecbbcb05bac14e1a9c5b3a2912e20b98",
       "max": 50,
       "style": "IPY_MODEL_11859de348994c45b7569aac4991f420"
      }
     },
     "0c928ab2f1324a8eaf1ea1d00e62dfe3": {
      "model_module": "@jupyter-widgets/controls",
      "model_module_version": "1.5.0",
      "model_name": "ProgressStyleModel",
      "state": {
       "description_width": "initial"
      }
     },
     "0cf81953ce6f42e6999e7981b8d855ca": {
      "model_module": "@jupyter-widgets/base",
      "model_module_version": "1.2.0",
      "model_name": "LayoutModel",
      "state": {}
     },
     "0d8fc6d67fc248b0a29280f442c20451": {
      "model_module": "@jupyter-widgets/base",
      "model_module_version": "1.2.0",
      "model_name": "LayoutModel",
      "state": {}
     },
     "0dade90d7016449f8ca1a06f2e3f26bc": {
      "model_module": "@jupyter-widgets/controls",
      "model_module_version": "1.5.0",
      "model_name": "FloatProgressModel",
      "state": {
       "description": "evaluation progress: ",
       "layout": "IPY_MODEL_9d7f588ba5694575a62d812f490e9ddc",
       "max": 78,
       "style": "IPY_MODEL_8b5fe3a90f7c493da5e6bcd0b8c3aaaf",
       "value": 78
      }
     },
     "0dbb558d5c6740218aaf375363dada89": {
      "model_module": "@jupyter-widgets/controls",
      "model_module_version": "1.5.0",
      "model_name": "ProgressStyleModel",
      "state": {
       "description_width": "initial"
      }
     },
     "0dea57db7dfd490698661a4e10095cc0": {
      "model_module": "@jupyter-widgets/base",
      "model_module_version": "1.2.0",
      "model_name": "LayoutModel",
      "state": {}
     },
     "0dedac04bd2d458e88d984b71523b873": {
      "model_module": "@jupyter-widgets/base",
      "model_module_version": "1.2.0",
      "model_name": "LayoutModel",
      "state": {}
     },
     "0e621ceb66994f1e9108483a0e4100af": {
      "model_module": "@jupyter-widgets/controls",
      "model_module_version": "1.5.0",
      "model_name": "DescriptionStyleModel",
      "state": {
       "description_width": ""
      }
     },
     "0ea86e1f036d40529e104c77a0d82296": {
      "model_module": "@jupyter-widgets/base",
      "model_module_version": "1.2.0",
      "model_name": "LayoutModel",
      "state": {}
     },
     "0ef1548de823458a9637b792c25564eb": {
      "model_module": "@jupyter-widgets/base",
      "model_module_version": "1.2.0",
      "model_name": "LayoutModel",
      "state": {}
     },
     "0ffcf5b846a6465aa1ac35065b973a41": {
      "model_module": "@jupyter-widgets/controls",
      "model_module_version": "1.5.0",
      "model_name": "ProgressStyleModel",
      "state": {
       "description_width": "initial"
      }
     },
     "1004680e4f7348b595db3f2ec9ea422e": {
      "model_module": "@jupyter-widgets/base",
      "model_module_version": "1.2.0",
      "model_name": "LayoutModel",
      "state": {}
     },
     "107d781bc9ee451195e48f766f4e46a8": {
      "model_module": "@jupyter-widgets/base",
      "model_module_version": "1.2.0",
      "model_name": "LayoutModel",
      "state": {}
     },
     "108de67423ad4a3ca5c772c841edaa15": {
      "model_module": "@jupyter-widgets/controls",
      "model_module_version": "1.5.0",
      "model_name": "ProgressStyleModel",
      "state": {
       "description_width": "initial"
      }
     },
     "10a2ce59992d4da6a597bca0a1483057": {
      "model_module": "@jupyter-widgets/base",
      "model_module_version": "1.2.0",
      "model_name": "LayoutModel",
      "state": {}
     },
     "10c272fee78d47238db3f7df840e11e6": {
      "model_module": "@jupyter-widgets/base",
      "model_module_version": "1.2.0",
      "model_name": "LayoutModel",
      "state": {}
     },
     "10c57bfe92374bd093a0dfcfd7571fe6": {
      "model_module": "@jupyter-widgets/base",
      "model_module_version": "1.2.0",
      "model_name": "LayoutModel",
      "state": {}
     },
     "112f375508024e8e9cefa1650221a881": {
      "model_module": "@jupyter-widgets/controls",
      "model_module_version": "1.5.0",
      "model_name": "FloatProgressModel",
      "state": {
       "description": "evaluation progress: ",
       "layout": "IPY_MODEL_1133a72b91364c7884dad479de3977c8",
       "max": 78,
       "style": "IPY_MODEL_7b7c949043c245a78218e6a419315b51",
       "value": 78
      }
     },
     "1133a72b91364c7884dad479de3977c8": {
      "model_module": "@jupyter-widgets/base",
      "model_module_version": "1.2.0",
      "model_name": "LayoutModel",
      "state": {}
     },
     "11370611d5ae41eea4eae19ec0987e40": {
      "model_module": "@jupyter-widgets/controls",
      "model_module_version": "1.5.0",
      "model_name": "FloatProgressModel",
      "state": {
       "description": "evaluation progress: ",
       "layout": "IPY_MODEL_e031649f89344650805b29f140f2e075",
       "max": 78,
       "style": "IPY_MODEL_9521ab93510048e68d73ad80f5d5fcb2",
       "value": 78
      }
     },
     "113e77bc1bd14a3d8f15ea745d7e256b": {
      "model_module": "@jupyter-widgets/base",
      "model_module_version": "1.2.0",
      "model_name": "LayoutModel",
      "state": {}
     },
     "11859de348994c45b7569aac4991f420": {
      "model_module": "@jupyter-widgets/controls",
      "model_module_version": "1.5.0",
      "model_name": "ProgressStyleModel",
      "state": {
       "description_width": "initial"
      }
     },
     "125ef426c0fa4337b6fff810986ecfab": {
      "model_module": "@jupyter-widgets/controls",
      "model_module_version": "1.5.0",
      "model_name": "HTMLModel",
      "state": {
       "layout": "IPY_MODEL_dc71323b713d4ec7b61a26cf74b9d202",
       "style": "IPY_MODEL_c136a5b6972347d59f3bca4dbdd2c66b",
       "value": " 10/10 [03:47&lt;00:00, 22.74s/it]"
      }
     },
     "1439fadf9dc44fe2bea074b7b5010241": {
      "model_module": "@jupyter-widgets/controls",
      "model_module_version": "1.5.0",
      "model_name": "FloatProgressModel",
      "state": {
       "description": "evaluation progress: ",
       "layout": "IPY_MODEL_d894d2643b814d058ad44b8f26e5552f",
       "max": 78,
       "style": "IPY_MODEL_e8a430b935cf40569c880e7d874c0c26",
       "value": 78
      }
     },
     "1443eeaf2d9e48eabec6b2cc93f05e9e": {
      "model_module": "@jupyter-widgets/controls",
      "model_module_version": "1.5.0",
      "model_name": "FloatProgressModel",
      "state": {
       "description": "evaluation progress: ",
       "layout": "IPY_MODEL_426ffe8c054247778f486343923c75f6",
       "max": 78,
       "style": "IPY_MODEL_e204761e39e34e3bb8edc7724f30a2d4",
       "value": 78
      }
     },
     "1542e7afa43249519a19300991f8cf79": {
      "model_module": "@jupyter-widgets/controls",
      "model_module_version": "1.5.0",
      "model_name": "HTMLModel",
      "state": {
       "layout": "IPY_MODEL_57d7c09c2ac041bc901c378dea628f53",
       "style": "IPY_MODEL_d7128c7b3b5c47558d82e9d6a312c5b5",
       "value": " 79/? [00:12&lt;00:00,  7.31it/s]"
      }
     },
     "15c8fdc45bc84f6abdb95af902929d1f": {
      "model_module": "@jupyter-widgets/base",
      "model_module_version": "1.2.0",
      "model_name": "LayoutModel",
      "state": {}
     },
     "161e576b85274b978ed4e25d33d5f087": {
      "model_module": "@jupyter-widgets/controls",
      "model_module_version": "1.5.0",
      "model_name": "FloatProgressModel",
      "state": {
       "description": "split=train :  99%",
       "layout": "IPY_MODEL_3225bc94e686462f9dfd90d064e719c9",
       "max": 1402,
       "style": "IPY_MODEL_d665d0f9d5e64cbabc9897b177e20d8b",
       "value": 1390
      }
     },
     "1640777de0784c7992c979e6c0c21891": {
      "model_module": "@jupyter-widgets/base",
      "model_module_version": "1.2.0",
      "model_name": "LayoutModel",
      "state": {}
     },
     "17024c16626448cf90d09781c140f941": {
      "model_module": "@jupyter-widgets/controls",
      "model_module_version": "1.5.0",
      "model_name": "HTMLModel",
      "state": {
       "layout": "IPY_MODEL_b22a4d65457d4520a65d9ee0779574c2",
       "style": "IPY_MODEL_d98d57510d314837bce63c75e7c4e8d7",
       "value": " 79/? [00:12&lt;00:00,  7.34it/s]"
      }
     },
     "17114bca36b3481299da20f8136f81ad": {
      "model_module": "@jupyter-widgets/controls",
      "model_module_version": "1.5.0",
      "model_name": "HTMLModel",
      "state": {
       "layout": "IPY_MODEL_7959378a99354bdaabfeecfbfe6ea2d1",
       "style": "IPY_MODEL_bd5821f0be9b450b95b3cfec6e36a111",
       "value": " 79/? [00:12&lt;00:00,  7.33it/s]"
      }
     },
     "174cd35cf82e4016beea8bc1f4100976": {
      "model_module": "@jupyter-widgets/controls",
      "model_module_version": "1.5.0",
      "model_name": "FloatProgressModel",
      "state": {
       "bar_style": "success",
       "description": "100%",
       "layout": "IPY_MODEL_c3e19ae539d74c7aa55445bb328619d6",
       "max": 8,
       "style": "IPY_MODEL_0141cd209fe949afb5db30549d17df00",
       "value": 8
      }
     },
     "178da94768df4de78c2b53a6032403b9": {
      "model_module": "@jupyter-widgets/base",
      "model_module_version": "1.2.0",
      "model_name": "LayoutModel",
      "state": {}
     },
     "17daac9d5e9549bea00d657c7523d9ba": {
      "model_module": "@jupyter-widgets/base",
      "model_module_version": "1.2.0",
      "model_name": "LayoutModel",
      "state": {}
     },
     "183d9b80d5e543608144839579559fc2": {
      "model_module": "@jupyter-widgets/controls",
      "model_module_version": "1.5.0",
      "model_name": "HTMLModel",
      "state": {
       "layout": "IPY_MODEL_655b85dbb77849f0a5b43718e0c55dd2",
       "style": "IPY_MODEL_4e914d49d2874413b2560fece37ab56f",
       "value": " 79/? [00:12&lt;00:00,  7.33it/s]"
      }
     },
     "18aef5752674464dbc03db8a9450b01c": {
      "model_module": "@jupyter-widgets/controls",
      "model_module_version": "1.5.0",
      "model_name": "FloatProgressModel",
      "state": {
       "bar_style": "danger",
       "description": " 12%",
       "layout": "IPY_MODEL_d1b0de95ea4f42d583ce70e77d24d883",
       "max": 8,
       "style": "IPY_MODEL_c29bc7e0e2ac42ce894e230367c59a7d",
       "value": 1
      }
     },
     "18d35c72f8c14841837aceae60c95cf5": {
      "model_module": "@jupyter-widgets/controls",
      "model_module_version": "1.5.0",
      "model_name": "ProgressStyleModel",
      "state": {
       "description_width": "initial"
      }
     },
     "18eaa70b2768495c8ba7091bb8a462e1": {
      "model_module": "@jupyter-widgets/controls",
      "model_module_version": "1.5.0",
      "model_name": "FloatProgressModel",
      "state": {
       "description": "evaluation progress: ",
       "layout": "IPY_MODEL_c3882f9dc9e54f8db20f67a1d472f0e2",
       "max": 78,
       "style": "IPY_MODEL_83a3adc05c224cdf97ba854d9847dd28",
       "value": 78
      }
     },
     "18ecc3aca92746159620391ae86bb2c7": {
      "model_module": "@jupyter-widgets/controls",
      "model_module_version": "1.5.0",
      "model_name": "ProgressStyleModel",
      "state": {
       "description_width": "initial"
      }
     },
     "18f42ea5fe0b485ea0020dd6371c60bc": {
      "model_module": "@jupyter-widgets/base",
      "model_module_version": "1.2.0",
      "model_name": "LayoutModel",
      "state": {}
     },
     "19f0102ab32343cc9f24cf9762b5aa0a": {
      "model_module": "@jupyter-widgets/controls",
      "model_module_version": "1.5.0",
      "model_name": "DescriptionStyleModel",
      "state": {
       "description_width": ""
      }
     },
     "1a987d0364b445e7b3d47a33cd41b391": {
      "model_module": "@jupyter-widgets/controls",
      "model_module_version": "1.5.0",
      "model_name": "ProgressStyleModel",
      "state": {
       "description_width": "initial"
      }
     },
     "1a9aec61bd724ec2bb5d74c4097add85": {
      "model_module": "@jupyter-widgets/controls",
      "model_module_version": "1.5.0",
      "model_name": "FloatProgressModel",
      "state": {
       "description": "evaluation progress: ",
       "layout": "IPY_MODEL_9b2ce9b6fd8e484e84e0539da2162be0",
       "max": 78,
       "style": "IPY_MODEL_dd324e677a60425db4f81881cb5166c9",
       "value": 78
      }
     },
     "1acc7425c0d742cdadd566485c6b2f82": {
      "model_module": "@jupyter-widgets/base",
      "model_module_version": "1.2.0",
      "model_name": "LayoutModel",
      "state": {}
     },
     "1aeb7ca917b14a5db76758eabd244145": {
      "model_module": "@jupyter-widgets/controls",
      "model_module_version": "1.5.0",
      "model_name": "HTMLModel",
      "state": {
       "layout": "IPY_MODEL_8721564e2bc849328a2ae1c94dcddb96",
       "style": "IPY_MODEL_e8d024843ca34f9995cbcb172c54ea84",
       "value": " 8/? [00:01&lt;00:00,  6.69it/s]"
      }
     },
     "1b79c077bb3141fe93316f19817e5346": {
      "model_module": "@jupyter-widgets/controls",
      "model_module_version": "1.5.0",
      "model_name": "HTMLModel",
      "state": {
       "layout": "IPY_MODEL_baa9c05be03149a595f69d828846f018",
       "style": "IPY_MODEL_210125b7e79345b3be475b84a7e0538e",
       "value": " 79/? [00:11&lt;00:00,  7.32it/s]"
      }
     },
     "1bb73e17de1c41ee93e703fa41f604dd": {
      "model_module": "@jupyter-widgets/controls",
      "model_module_version": "1.5.0",
      "model_name": "HTMLModel",
      "state": {
       "layout": "IPY_MODEL_ed33778ac371456d9d07001008b9bfc8",
       "style": "IPY_MODEL_415ef1685644488faab2c80b67630e52",
       "value": " 8/? [00:01&lt;00:00,  6.78it/s]"
      }
     },
     "1c0529c845804117b3861979d5b7f6ad": {
      "model_module": "@jupyter-widgets/base",
      "model_module_version": "1.2.0",
      "model_name": "LayoutModel",
      "state": {}
     },
     "1c4c2074309d4d75920a4a4e7f178c03": {
      "model_module": "@jupyter-widgets/base",
      "model_module_version": "1.2.0",
      "model_name": "LayoutModel",
      "state": {}
     },
     "1c923da2649848f9b07600e0e8bbf821": {
      "model_module": "@jupyter-widgets/controls",
      "model_module_version": "1.5.0",
      "model_name": "ProgressStyleModel",
      "state": {
       "description_width": "initial"
      }
     },
     "1d146b8615004b7f820ce1c35f60c13b": {
      "model_module": "@jupyter-widgets/base",
      "model_module_version": "1.2.0",
      "model_name": "LayoutModel",
      "state": {}
     },
     "1de050b77af044329c11925410f60a5d": {
      "model_module": "@jupyter-widgets/controls",
      "model_module_version": "1.5.0",
      "model_name": "DescriptionStyleModel",
      "state": {
       "description_width": ""
      }
     },
     "1df9a605261040caa7333737f9d681c2": {
      "model_module": "@jupyter-widgets/controls",
      "model_module_version": "1.5.0",
      "model_name": "FloatProgressModel",
      "state": {
       "description": "evaluation progress: ",
       "layout": "IPY_MODEL_3090ba9468664fa88261497783997ca9",
       "max": 78,
       "style": "IPY_MODEL_cce7bd888a8a42a2b6caa9c8b50b0525",
       "value": 78
      }
     },
     "1eee9b667ae440629955021c00fca1a6": {
      "model_module": "@jupyter-widgets/controls",
      "model_module_version": "1.5.0",
      "model_name": "ProgressStyleModel",
      "state": {
       "description_width": "initial"
      }
     },
     "1f16a062fd9045df9a39b4f8911d4658": {
      "model_module": "@jupyter-widgets/controls",
      "model_module_version": "1.5.0",
      "model_name": "HTMLModel",
      "state": {
       "layout": "IPY_MODEL_fed1333d8689454487eb26b1eb54e2dd",
       "style": "IPY_MODEL_2cd9a64d4f584817acc0ef76d60f0bf9",
       "value": " 79/? [00:12&lt;00:00,  7.32it/s]"
      }
     },
     "1f4b52ceb00347b18e5a8f478fdcd3e8": {
      "model_module": "@jupyter-widgets/controls",
      "model_module_version": "1.5.0",
      "model_name": "HBoxModel",
      "state": {
       "children": [
        "IPY_MODEL_7b64427904d84dcc92d3a3de536e54fb",
        "IPY_MODEL_f973154f821249a2be1693da9fe704e4"
       ],
       "layout": "IPY_MODEL_ff13a9aef6924e11b105ca8e0cfe0cca"
      }
     },
     "1f8936ea6cbc49428a3a9251a3d73368": {
      "model_module": "@jupyter-widgets/controls",
      "model_module_version": "1.5.0",
      "model_name": "ProgressStyleModel",
      "state": {
       "description_width": "initial"
      }
     },
     "1fabf10f4f164131b2917078bf3b9e56": {
      "model_module": "@jupyter-widgets/controls",
      "model_module_version": "1.5.0",
      "model_name": "ProgressStyleModel",
      "state": {
       "description_width": "initial"
      }
     },
     "1fe5bee8b79047b38174d5d2bd894ab7": {
      "model_module": "@jupyter-widgets/controls",
      "model_module_version": "1.5.0",
      "model_name": "FloatProgressModel",
      "state": {
       "description": "evaluation progress: ",
       "layout": "IPY_MODEL_e7a72ad46f144ca19b1143eb3338d6f3",
       "max": 78,
       "style": "IPY_MODEL_551b06e026354be98c1581c7200a42a3",
       "value": 78
      }
     },
     "1febb62c56904ad3a516747be458414a": {
      "model_module": "@jupyter-widgets/controls",
      "model_module_version": "1.5.0",
      "model_name": "FloatProgressModel",
      "state": {
       "bar_style": "danger",
       "description": "  0%",
       "layout": "IPY_MODEL_0cf81953ce6f42e6999e7981b8d855ca",
       "max": 8,
       "style": "IPY_MODEL_f5d315902ffc4fecb5712a56dd35aca7"
      }
     },
     "201aee5fa72840eb8c4753f2b6a5ee26": {
      "model_module": "@jupyter-widgets/controls",
      "model_module_version": "1.5.0",
      "model_name": "DescriptionStyleModel",
      "state": {
       "description_width": ""
      }
     },
     "207fd05e76844cbf876baa374781e7e8": {
      "model_module": "@jupyter-widgets/controls",
      "model_module_version": "1.5.0",
      "model_name": "DescriptionStyleModel",
      "state": {
       "description_width": ""
      }
     },
     "20a8e42440e44b989116778611526e03": {
      "model_module": "@jupyter-widgets/controls",
      "model_module_version": "1.5.0",
      "model_name": "FloatProgressModel",
      "state": {
       "bar_style": "danger",
       "description": "  0%",
       "layout": "IPY_MODEL_bc535e65167046038c8ff73f50a25610",
       "max": 8,
       "style": "IPY_MODEL_90e8e562718c4ea0857778990e869c40"
      }
     },
     "20b1411040ae4dcdb90ef9b9ec7427c4": {
      "model_module": "@jupyter-widgets/controls",
      "model_module_version": "1.5.0",
      "model_name": "HBoxModel",
      "state": {
       "children": [
        "IPY_MODEL_d22b46d9daa34aa28e4b32bb4baea78c",
        "IPY_MODEL_9648e52aaad745a492ef4c6c4844fe34"
       ],
       "layout": "IPY_MODEL_296f054840fa4396b65f6b4ffd59f2cb"
      }
     },
     "20f2eee221cc45f2b601e467de599c05": {
      "model_module": "@jupyter-widgets/base",
      "model_module_version": "1.2.0",
      "model_name": "LayoutModel",
      "state": {}
     },
     "20fdc564000e4d938c3747b9b729020d": {
      "model_module": "@jupyter-widgets/controls",
      "model_module_version": "1.5.0",
      "model_name": "DescriptionStyleModel",
      "state": {
       "description_width": ""
      }
     },
     "210125b7e79345b3be475b84a7e0538e": {
      "model_module": "@jupyter-widgets/controls",
      "model_module_version": "1.5.0",
      "model_name": "DescriptionStyleModel",
      "state": {
       "description_width": ""
      }
     },
     "21ab940f72034caaa7ceb2e3685b3cd5": {
      "model_module": "@jupyter-widgets/base",
      "model_module_version": "1.2.0",
      "model_name": "LayoutModel",
      "state": {}
     },
     "225ce54e281c440f929aa5698de7a523": {
      "model_module": "@jupyter-widgets/controls",
      "model_module_version": "1.5.0",
      "model_name": "FloatProgressModel",
      "state": {
       "description": "evaluation progress: ",
       "layout": "IPY_MODEL_7bf254838d0c4530b853aed00ccbaa9f",
       "max": 78,
       "style": "IPY_MODEL_c55d6b76515a41bcab5a066e8813d459",
       "value": 78
      }
     },
     "22cb1b906c104af8bd1fe1f02950b81c": {
      "model_module": "@jupyter-widgets/controls",
      "model_module_version": "1.5.0",
      "model_name": "FloatProgressModel",
      "state": {
       "description": "evaluation progress: ",
       "layout": "IPY_MODEL_aedcd795daf6476990bbe62b67ed5400",
       "max": 78,
       "style": "IPY_MODEL_6e64dd600799448ca1eeb4e94d73a03a",
       "value": 78
      }
     },
     "23f1530c0d0947f3b80514b8cc71eab8": {
      "model_module": "@jupyter-widgets/controls",
      "model_module_version": "1.5.0",
      "model_name": "FloatProgressModel",
      "state": {
       "description": "evaluation progress: ",
       "layout": "IPY_MODEL_095933bc44d34dfb923925cbe65140d8",
       "max": 7,
       "style": "IPY_MODEL_3bb50f011f2e453fb7c9e8f14cf42110",
       "value": 7
      }
     },
     "2441d2c8acf74a89ade979e0b00bd511": {
      "model_module": "@jupyter-widgets/controls",
      "model_module_version": "1.5.0",
      "model_name": "ProgressStyleModel",
      "state": {
       "description_width": "initial"
      }
     },
     "245452590066435480ead9efcaf00883": {
      "model_module": "@jupyter-widgets/base",
      "model_module_version": "1.2.0",
      "model_name": "LayoutModel",
      "state": {}
     },
     "24db84fa057540b8b8eecc241e1e7fb5": {
      "model_module": "@jupyter-widgets/controls",
      "model_module_version": "1.5.0",
      "model_name": "ProgressStyleModel",
      "state": {
       "description_width": "initial"
      }
     },
     "24f8453c69e54b038becc5fd0cb7c785": {
      "model_module": "@jupyter-widgets/base",
      "model_module_version": "1.2.0",
      "model_name": "LayoutModel",
      "state": {}
     },
     "253feef7d53d4e2489432b246a64cc32": {
      "model_module": "@jupyter-widgets/controls",
      "model_module_version": "1.5.0",
      "model_name": "ProgressStyleModel",
      "state": {
       "description_width": "initial"
      }
     },
     "2590094a5c464dcb9a85d730c5b7e604": {
      "model_module": "@jupyter-widgets/controls",
      "model_module_version": "1.5.0",
      "model_name": "HTMLModel",
      "state": {
       "layout": "IPY_MODEL_772696a32f674bd6b8f55900c344db7f",
       "style": "IPY_MODEL_cf5a443b5f41422184b1e163a5176766",
       "value": " 79/? [00:12&lt;00:00,  7.33it/s]"
      }
     },
     "25e88506ed56463b9139169e55526c5c": {
      "model_module": "@jupyter-widgets/controls",
      "model_module_version": "1.5.0",
      "model_name": "HTMLModel",
      "state": {
       "layout": "IPY_MODEL_5481365deafe41baacb58b9ea6af8d0f",
       "style": "IPY_MODEL_670c744f78c94424afa641f763138b65",
       "value": " 0/4488 [00:00&lt;?, ?it/s]"
      }
     },
     "260c831f37a4435bb282afb9723a1569": {
      "model_module": "@jupyter-widgets/controls",
      "model_module_version": "1.5.0",
      "model_name": "ProgressStyleModel",
      "state": {
       "description_width": "initial"
      }
     },
     "2619e93fb5af46e786af29a87d59d420": {
      "model_module": "@jupyter-widgets/base",
      "model_module_version": "1.2.0",
      "model_name": "LayoutModel",
      "state": {}
     },
     "262845e2016643dd8544bebf197d6783": {
      "model_module": "@jupyter-widgets/base",
      "model_module_version": "1.2.0",
      "model_name": "LayoutModel",
      "state": {}
     },
     "26cf83e6e5f647489277555cd327c9ca": {
      "model_module": "@jupyter-widgets/controls",
      "model_module_version": "1.5.0",
      "model_name": "FloatProgressModel",
      "state": {
       "description": "training_routine:   0%",
       "layout": "IPY_MODEL_a31a3b6ee75b42cd8894c1c8ea1cff3a",
       "max": 50,
       "style": "IPY_MODEL_2daa2c6311f548c98975461d0cee28bc"
      }
     },
     "27de25e51c47458a9c9ed780566e9625": {
      "model_module": "@jupyter-widgets/base",
      "model_module_version": "1.2.0",
      "model_name": "LayoutModel",
      "state": {}
     },
     "27e05530afbc4efe8e3f7dfbf2f559e4": {
      "model_module": "@jupyter-widgets/controls",
      "model_module_version": "1.5.0",
      "model_name": "HTMLModel",
      "state": {
       "layout": "IPY_MODEL_8e0bfea5414543a184208e6a4aa6a07e",
       "style": "IPY_MODEL_2cb98b5892034e5aa9fae5a8e07689eb",
       "value": " 79/? [00:12&lt;00:00,  7.31it/s]"
      }
     },
     "283b6b0dbd4b4cb6843ede3824debd53": {
      "model_module": "@jupyter-widgets/controls",
      "model_module_version": "1.5.0",
      "model_name": "ProgressStyleModel",
      "state": {
       "description_width": "initial"
      }
     },
     "2883872ff2fc4c42b565fea768b81bab": {
      "model_module": "@jupyter-widgets/controls",
      "model_module_version": "1.5.0",
      "model_name": "HTMLModel",
      "state": {
       "layout": "IPY_MODEL_0dedac04bd2d458e88d984b71523b873",
       "style": "IPY_MODEL_b212ae5d9ae64e8bab101170c4cd7fe5",
       "value": " 79/? [00:12&lt;00:00,  7.31it/s]"
      }
     },
     "28b34dd785f1457dbdaa744e1c2a1a1f": {
      "model_module": "@jupyter-widgets/base",
      "model_module_version": "1.2.0",
      "model_name": "LayoutModel",
      "state": {}
     },
     "28e1a3bcf541412f9c132e28d86a377e": {
      "model_module": "@jupyter-widgets/controls",
      "model_module_version": "1.5.0",
      "model_name": "HTMLModel",
      "state": {
       "layout": "IPY_MODEL_7d69bc6587ec4702a241b594a57eadb6",
       "style": "IPY_MODEL_308d5941a332408796c94b4b5af3fa36",
       "value": " 79/? [00:12&lt;00:00,  7.31it/s]"
      }
     },
     "28e4b83ecf8f460ab1d9e0e088c37662": {
      "model_module": "@jupyter-widgets/base",
      "model_module_version": "1.2.0",
      "model_name": "LayoutModel",
      "state": {}
     },
     "2915ecfc84d9464b9075dfac446ea814": {
      "model_module": "@jupyter-widgets/controls",
      "model_module_version": "1.5.0",
      "model_name": "ProgressStyleModel",
      "state": {
       "description_width": "initial"
      }
     },
     "296f054840fa4396b65f6b4ffd59f2cb": {
      "model_module": "@jupyter-widgets/base",
      "model_module_version": "1.2.0",
      "model_name": "LayoutModel",
      "state": {}
     },
     "2acf8e608cc54ffe8c0839b1fad69e84": {
      "model_module": "@jupyter-widgets/controls",
      "model_module_version": "1.5.0",
      "model_name": "DescriptionStyleModel",
      "state": {
       "description_width": ""
      }
     },
     "2ad2ddca55454e07b11fb34a3b65411a": {
      "model_module": "@jupyter-widgets/controls",
      "model_module_version": "1.5.0",
      "model_name": "HTMLModel",
      "state": {
       "layout": "IPY_MODEL_0ea86e1f036d40529e104c77a0d82296",
       "style": "IPY_MODEL_201aee5fa72840eb8c4753f2b6a5ee26",
       "value": " 0/8 [00:00&lt;?, ?it/s]"
      }
     },
     "2afb03e910f54a298fe1826b4582c196": {
      "model_module": "@jupyter-widgets/base",
      "model_module_version": "1.2.0",
      "model_name": "LayoutModel",
      "state": {}
     },
     "2b20b0151f884e24b928d3376d384b93": {
      "model_module": "@jupyter-widgets/base",
      "model_module_version": "1.2.0",
      "model_name": "LayoutModel",
      "state": {}
     },
     "2b22c81656cd48028acc47ed1768e8d7": {
      "model_module": "@jupyter-widgets/controls",
      "model_module_version": "1.5.0",
      "model_name": "HTMLModel",
      "state": {
       "layout": "IPY_MODEL_28b34dd785f1457dbdaa744e1c2a1a1f",
       "style": "IPY_MODEL_e9fb2803390446b0aae0c9bfee44aa5f",
       "value": " 6/6 [01:49&lt;00:00, 18.30s/it]"
      }
     },
     "2b9b7a23794e442e96990bb116d42bb1": {
      "model_module": "@jupyter-widgets/base",
      "model_module_version": "1.2.0",
      "model_name": "LayoutModel",
      "state": {}
     },
     "2bbd6a7ca5244bfb89ee00e3cbfae50b": {
      "model_module": "@jupyter-widgets/base",
      "model_module_version": "1.2.0",
      "model_name": "LayoutModel",
      "state": {}
     },
     "2bfb4e1814f24a159d8c00eb61342e34": {
      "model_module": "@jupyter-widgets/base",
      "model_module_version": "1.2.0",
      "model_name": "LayoutModel",
      "state": {}
     },
     "2c009fbdd7864ea59a245124bfe3d213": {
      "model_module": "@jupyter-widgets/base",
      "model_module_version": "1.2.0",
      "model_name": "LayoutModel",
      "state": {}
     },
     "2c3d3486cb834cb09ac1be043fa77f5d": {
      "model_module": "@jupyter-widgets/base",
      "model_module_version": "1.2.0",
      "model_name": "LayoutModel",
      "state": {}
     },
     "2cb98b5892034e5aa9fae5a8e07689eb": {
      "model_module": "@jupyter-widgets/controls",
      "model_module_version": "1.5.0",
      "model_name": "DescriptionStyleModel",
      "state": {
       "description_width": ""
      }
     },
     "2cd9a64d4f584817acc0ef76d60f0bf9": {
      "model_module": "@jupyter-widgets/controls",
      "model_module_version": "1.5.0",
      "model_name": "DescriptionStyleModel",
      "state": {
       "description_width": ""
      }
     },
     "2daa2c6311f548c98975461d0cee28bc": {
      "model_module": "@jupyter-widgets/controls",
      "model_module_version": "1.5.0",
      "model_name": "ProgressStyleModel",
      "state": {
       "description_width": "initial"
      }
     },
     "2e7704dc310b4135994c5af1079f5d13": {
      "model_module": "@jupyter-widgets/base",
      "model_module_version": "1.2.0",
      "model_name": "LayoutModel",
      "state": {}
     },
     "2ea3dd9cbf0048438f5b76b1ef67e6a8": {
      "model_module": "@jupyter-widgets/base",
      "model_module_version": "1.2.0",
      "model_name": "LayoutModel",
      "state": {}
     },
     "2eba702bd84542aa84e51c8db4b7a149": {
      "model_module": "@jupyter-widgets/controls",
      "model_module_version": "1.5.0",
      "model_name": "FloatProgressModel",
      "state": {
       "description": "evaluation progress: ",
       "layout": "IPY_MODEL_a4bbffeaa5b74eeba5875b133f149d1e",
       "max": 78,
       "style": "IPY_MODEL_4fd592b7895f49028c20c91df1b4bbed",
       "value": 78
      }
     },
     "2f2cc1a3f1044be0a1c6f4dab5918d06": {
      "model_module": "@jupyter-widgets/controls",
      "model_module_version": "1.5.0",
      "model_name": "ProgressStyleModel",
      "state": {
       "description_width": "initial"
      }
     },
     "2f342f7a1b7441409f10477b50862230": {
      "model_module": "@jupyter-widgets/controls",
      "model_module_version": "1.5.0",
      "model_name": "HTMLModel",
      "state": {
       "layout": "IPY_MODEL_2bbd6a7ca5244bfb89ee00e3cbfae50b",
       "style": "IPY_MODEL_52a0545532fb4806ae02d05b1c8472ef",
       "value": " 79/? [00:12&lt;00:00,  7.32it/s]"
      }
     },
     "2f535589cdef4aaeb6786002c8b1b532": {
      "model_module": "@jupyter-widgets/base",
      "model_module_version": "1.2.0",
      "model_name": "LayoutModel",
      "state": {}
     },
     "2fef22c2fb98421cb8e36fe79eb2aacf": {
      "model_module": "@jupyter-widgets/controls",
      "model_module_version": "1.5.0",
      "model_name": "ProgressStyleModel",
      "state": {
       "description_width": "initial"
      }
     },
     "308d5941a332408796c94b4b5af3fa36": {
      "model_module": "@jupyter-widgets/controls",
      "model_module_version": "1.5.0",
      "model_name": "DescriptionStyleModel",
      "state": {
       "description_width": ""
      }
     },
     "3090ba9468664fa88261497783997ca9": {
      "model_module": "@jupyter-widgets/base",
      "model_module_version": "1.2.0",
      "model_name": "LayoutModel",
      "state": {}
     },
     "30c35ea2f67d4d33a2bc932fe3567efa": {
      "model_module": "@jupyter-widgets/base",
      "model_module_version": "1.2.0",
      "model_name": "LayoutModel",
      "state": {}
     },
     "30f74c73cb25436eb21ed303ceb14b3c": {
      "model_module": "@jupyter-widgets/base",
      "model_module_version": "1.2.0",
      "model_name": "LayoutModel",
      "state": {}
     },
     "312f1742cb7344558a9a3850d9562621": {
      "model_module": "@jupyter-widgets/controls",
      "model_module_version": "1.5.0",
      "model_name": "ProgressStyleModel",
      "state": {
       "description_width": "initial"
      }
     },
     "31b9d1345399401398ba594c5a5cf772": {
      "model_module": "@jupyter-widgets/controls",
      "model_module_version": "1.5.0",
      "model_name": "HTMLModel",
      "state": {
       "layout": "IPY_MODEL_7f0221e98380412b899002aa16a46462",
       "style": "IPY_MODEL_7f222c36c7944b36bc65279c029bfacb",
       "value": " 1/50 [1:01:42&lt;50:23:37, 3702.40s/it, best_f1=0.729, current=0.729]"
      }
     },
     "3225bc94e686462f9dfd90d064e719c9": {
      "model_module": "@jupyter-widgets/base",
      "model_module_version": "1.2.0",
      "model_name": "LayoutModel",
      "state": {}
     },
     "3320662152bf4c7db9ee3e93cd6a9c11": {
      "model_module": "@jupyter-widgets/controls",
      "model_module_version": "1.5.0",
      "model_name": "FloatProgressModel",
      "state": {
       "description": "evaluation progress: ",
       "layout": "IPY_MODEL_05facc4bcca845148d076517f21a7b03",
       "max": 78,
       "style": "IPY_MODEL_053c4eb926cc4728a33dc487e6691648",
       "value": 78
      }
     },
     "3323451f1f4a4727affdb97a677273d0": {
      "model_module": "@jupyter-widgets/controls",
      "model_module_version": "1.5.0",
      "model_name": "FloatProgressModel",
      "state": {
       "description": "evaluation progress: ",
       "layout": "IPY_MODEL_ec0069b542944c48b9fd295de10a6329",
       "max": 78,
       "style": "IPY_MODEL_24db84fa057540b8b8eecc241e1e7fb5",
       "value": 78
      }
     },
     "339ddd13f5d8428cbb9e93a845fadb47": {
      "model_module": "@jupyter-widgets/controls",
      "model_module_version": "1.5.0",
      "model_name": "HTMLModel",
      "state": {
       "layout": "IPY_MODEL_37efe8b0d5e0449b82c7679949fd11cd",
       "style": "IPY_MODEL_f9ec1819e50a4fab912b5ccdc6f8e1af",
       "value": " 8/? [00:01&lt;00:00,  6.68it/s]"
      }
     },
     "33b182999ddd4d1da841098fb2811f64": {
      "model_module": "@jupyter-widgets/base",
      "model_module_version": "1.2.0",
      "model_name": "LayoutModel",
      "state": {}
     },
     "33cdc8352b69417faca915abfaeb2c8c": {
      "model_module": "@jupyter-widgets/controls",
      "model_module_version": "1.5.0",
      "model_name": "DescriptionStyleModel",
      "state": {
       "description_width": ""
      }
     },
     "33f0b852ad204641b3cd187264c43ce7": {
      "model_module": "@jupyter-widgets/base",
      "model_module_version": "1.2.0",
      "model_name": "LayoutModel",
      "state": {}
     },
     "34306b0cd1a74ba38905e3c10d9b81df": {
      "model_module": "@jupyter-widgets/controls",
      "model_module_version": "1.5.0",
      "model_name": "FloatProgressModel",
      "state": {
       "bar_style": "info",
       "description": "evaluation progress:   0%",
       "layout": "IPY_MODEL_8a315098297b4e99a687a474fd7fba27",
       "max": 78,
       "style": "IPY_MODEL_9a46b7612ac0449ba7a893356683aed8"
      }
     },
     "345c42d3c3d942f795304738ba936c2a": {
      "model_module": "@jupyter-widgets/base",
      "model_module_version": "1.2.0",
      "model_name": "LayoutModel",
      "state": {}
     },
     "345f6c95614a442e8ca1a536196dd7e0": {
      "model_module": "@jupyter-widgets/base",
      "model_module_version": "1.2.0",
      "model_name": "LayoutModel",
      "state": {}
     },
     "34bc9a7d980348879708fec587a59bb5": {
      "model_module": "@jupyter-widgets/base",
      "model_module_version": "1.2.0",
      "model_name": "LayoutModel",
      "state": {}
     },
     "351de5280a6c4159ab2e56e0abef6167": {
      "model_module": "@jupyter-widgets/base",
      "model_module_version": "1.2.0",
      "model_name": "LayoutModel",
      "state": {}
     },
     "353f68c1fb4042438544299952b51e6e": {
      "model_module": "@jupyter-widgets/base",
      "model_module_version": "1.2.0",
      "model_name": "LayoutModel",
      "state": {}
     },
     "37260183c7704700a8c61ec7d312ffd1": {
      "model_module": "@jupyter-widgets/controls",
      "model_module_version": "1.5.0",
      "model_name": "HTMLModel",
      "state": {
       "layout": "IPY_MODEL_17daac9d5e9549bea00d657c7523d9ba",
       "style": "IPY_MODEL_1de050b77af044329c11925410f60a5d",
       "value": " 79/? [00:12&lt;00:00,  7.33it/s]"
      }
     },
     "37c5d0aac5a54fea82e9888d94c09953": {
      "model_module": "@jupyter-widgets/base",
      "model_module_version": "1.2.0",
      "model_name": "LayoutModel",
      "state": {}
     },
     "37efe8b0d5e0449b82c7679949fd11cd": {
      "model_module": "@jupyter-widgets/base",
      "model_module_version": "1.2.0",
      "model_name": "LayoutModel",
      "state": {}
     },
     "3885c71bcfa44b828ffe8dea32dcbeac": {
      "model_module": "@jupyter-widgets/controls",
      "model_module_version": "1.5.0",
      "model_name": "FloatProgressModel",
      "state": {
       "description": "evaluation progress: ",
       "layout": "IPY_MODEL_baafed98cec64c0d9ac5bb99b318961d",
       "max": 78,
       "style": "IPY_MODEL_312f1742cb7344558a9a3850d9562621",
       "value": 78
      }
     },
     "38d3b460b4fc4ec792507b48a382b31c": {
      "model_module": "@jupyter-widgets/base",
      "model_module_version": "1.2.0",
      "model_name": "LayoutModel",
      "state": {}
     },
     "39241654f470424699a8fa25aeb135aa": {
      "model_module": "@jupyter-widgets/controls",
      "model_module_version": "1.5.0",
      "model_name": "HTMLModel",
      "state": {
       "layout": "IPY_MODEL_10c57bfe92374bd093a0dfcfd7571fe6",
       "style": "IPY_MODEL_0e621ceb66994f1e9108483a0e4100af",
       "value": " 79/? [00:12&lt;00:00,  7.32it/s]"
      }
     },
     "3a6d3ab487fd4537aca78688267b28bf": {
      "model_module": "@jupyter-widgets/base",
      "model_module_version": "1.2.0",
      "model_name": "LayoutModel",
      "state": {}
     },
     "3ac887d4f2b1498d84ada67b4e2dec64": {
      "model_module": "@jupyter-widgets/base",
      "model_module_version": "1.2.0",
      "model_name": "LayoutModel",
      "state": {}
     },
     "3b38680b9fae409b886dd9f3a443b985": {
      "model_module": "@jupyter-widgets/controls",
      "model_module_version": "1.5.0",
      "model_name": "DescriptionStyleModel",
      "state": {
       "description_width": ""
      }
     },
     "3bb50f011f2e453fb7c9e8f14cf42110": {
      "model_module": "@jupyter-widgets/controls",
      "model_module_version": "1.5.0",
      "model_name": "ProgressStyleModel",
      "state": {
       "description_width": "initial"
      }
     },
     "3c6f61f0052343409c5bb33854f21e65": {
      "model_module": "@jupyter-widgets/base",
      "model_module_version": "1.2.0",
      "model_name": "LayoutModel",
      "state": {}
     },
     "3cff2f505bc34ecbab9d98772a50a582": {
      "model_module": "@jupyter-widgets/base",
      "model_module_version": "1.2.0",
      "model_name": "LayoutModel",
      "state": {}
     },
     "3da9184f57f049deac273aedc7223025": {
      "model_module": "@jupyter-widgets/controls",
      "model_module_version": "1.5.0",
      "model_name": "ProgressStyleModel",
      "state": {
       "description_width": "initial"
      }
     },
     "3dea21d0fab44d27bac34d90195a4c69": {
      "model_module": "@jupyter-widgets/controls",
      "model_module_version": "1.5.0",
      "model_name": "FloatProgressModel",
      "state": {
       "description": "evaluation progress: ",
       "layout": "IPY_MODEL_5b6013185f2c43019bdcfd33b916a8b0",
       "max": 78,
       "style": "IPY_MODEL_a0fbed9669d349af81157c40550a409d",
       "value": 78
      }
     },
     "3f8fc2f36a2249779a7fe438b77de202": {
      "model_module": "@jupyter-widgets/controls",
      "model_module_version": "1.5.0",
      "model_name": "FloatProgressModel",
      "state": {
       "description": "evaluation progress: ",
       "layout": "IPY_MODEL_90df39cb9ed144658100a593b262b0dd",
       "max": 78,
       "style": "IPY_MODEL_3da9184f57f049deac273aedc7223025",
       "value": 78
      }
     },
     "3f95a7ddcd334ec5bc1df293539c6aea": {
      "model_module": "@jupyter-widgets/base",
      "model_module_version": "1.2.0",
      "model_name": "LayoutModel",
      "state": {}
     },
     "3fc3e4a89fd2480084ef37edfcd168f9": {
      "model_module": "@jupyter-widgets/base",
      "model_module_version": "1.2.0",
      "model_name": "LayoutModel",
      "state": {}
     },
     "3fd54e64c75b4aabb6d54f311455f7f0": {
      "model_module": "@jupyter-widgets/base",
      "model_module_version": "1.2.0",
      "model_name": "LayoutModel",
      "state": {}
     },
     "3fd66fbb3ae04b54950acc5539756d0e": {
      "model_module": "@jupyter-widgets/controls",
      "model_module_version": "1.5.0",
      "model_name": "FloatProgressModel",
      "state": {
       "description": "split=train :   1%",
       "layout": "IPY_MODEL_d5acb8fe73b04395b0691575a670b178",
       "max": 5610,
       "style": "IPY_MODEL_b22db2a71c58416da71412f7cb7b0959",
       "value": 30
      }
     },
     "404131f57789416eabcd9b5ecc556b51": {
      "model_module": "@jupyter-widgets/base",
      "model_module_version": "1.2.0",
      "model_name": "LayoutModel",
      "state": {}
     },
     "415ef1685644488faab2c80b67630e52": {
      "model_module": "@jupyter-widgets/controls",
      "model_module_version": "1.5.0",
      "model_name": "DescriptionStyleModel",
      "state": {
       "description_width": ""
      }
     },
     "419f0cca213f49419bfce799e25bbd39": {
      "model_module": "@jupyter-widgets/base",
      "model_module_version": "1.2.0",
      "model_name": "LayoutModel",
      "state": {}
     },
     "41dd484b1a9d49feaedc5b84fe28f1ad": {
      "model_module": "@jupyter-widgets/base",
      "model_module_version": "1.2.0",
      "model_name": "LayoutModel",
      "state": {}
     },
     "41e6fb2c9e1b4978b60484f818f49b8d": {
      "model_module": "@jupyter-widgets/base",
      "model_module_version": "1.2.0",
      "model_name": "LayoutModel",
      "state": {}
     },
     "421d7180e08848ed8c099380d187f089": {
      "model_module": "@jupyter-widgets/controls",
      "model_module_version": "1.5.0",
      "model_name": "HTMLModel",
      "state": {
       "layout": "IPY_MODEL_28e4b83ecf8f460ab1d9e0e088c37662",
       "style": "IPY_MODEL_d5b925907d494c72b49770f67c5462ac",
       "value": " 148/? [00:31&lt;00:00,  5.31it/s, acc=0.9, epoch=0, f1=0.714, loss=0.264]"
      }
     },
     "426ffe8c054247778f486343923c75f6": {
      "model_module": "@jupyter-widgets/base",
      "model_module_version": "1.2.0",
      "model_name": "LayoutModel",
      "state": {}
     },
     "42cfafc7c80c4b969f7981fe28c838a0": {
      "model_module": "@jupyter-widgets/controls",
      "model_module_version": "1.5.0",
      "model_name": "DescriptionStyleModel",
      "state": {
       "description_width": ""
      }
     },
     "42d4dd3ef8b649049a786862720d81d0": {
      "model_module": "@jupyter-widgets/base",
      "model_module_version": "1.2.0",
      "model_name": "LayoutModel",
      "state": {}
     },
     "435e0c6d81b74588a5b5b7efb76e9e91": {
      "model_module": "@jupyter-widgets/controls",
      "model_module_version": "1.5.0",
      "model_name": "FloatProgressModel",
      "state": {
       "description": "evaluation progress: ",
       "layout": "IPY_MODEL_6e8aadf29ce84ba994a896ec0f59b9bc",
       "max": 78,
       "style": "IPY_MODEL_f29bab282a3148c4825c2531d90f63dc",
       "value": 78
      }
     },
     "43603faa72534e3b8f640a0ffaa8b1f6": {
      "model_module": "@jupyter-widgets/controls",
      "model_module_version": "1.5.0",
      "model_name": "FloatProgressModel",
      "state": {
       "description": "evaluation progress: ",
       "layout": "IPY_MODEL_0dea57db7dfd490698661a4e10095cc0",
       "max": 7,
       "style": "IPY_MODEL_0c928ab2f1324a8eaf1ea1d00e62dfe3",
       "value": 7
      }
     },
     "436066950dc84aeaa4aa227f99699936": {
      "model_module": "@jupyter-widgets/controls",
      "model_module_version": "1.5.0",
      "model_name": "HTMLModel",
      "state": {
       "layout": "IPY_MODEL_78d035d68c694d6498fbc91017327909",
       "style": "IPY_MODEL_cfd3b41d4302488ba1ffd4a82c4753e2",
       "value": " 79/? [00:12&lt;00:00,  7.32it/s]"
      }
     },
     "43b8426969ce406b842a115971a10a52": {
      "model_module": "@jupyter-widgets/controls",
      "model_module_version": "1.5.0",
      "model_name": "HTMLModel",
      "state": {
       "layout": "IPY_MODEL_dc6c585092d14ce295d210fa7c78aa72",
       "style": "IPY_MODEL_b71d17ba4bd54714aefdc049665a051a",
       "value": " 79/? [00:12&lt;00:00,  7.33it/s]"
      }
     },
     "43b9e3e98ce646f9b7af9a4c174dec9b": {
      "model_module": "@jupyter-widgets/base",
      "model_module_version": "1.2.0",
      "model_name": "LayoutModel",
      "state": {}
     },
     "44cc8840219940859c05f720af15450f": {
      "model_module": "@jupyter-widgets/base",
      "model_module_version": "1.2.0",
      "model_name": "LayoutModel",
      "state": {}
     },
     "4573623b8e174d77a3e272b8b2800a17": {
      "model_module": "@jupyter-widgets/controls",
      "model_module_version": "1.5.0",
      "model_name": "ProgressStyleModel",
      "state": {
       "description_width": "initial"
      }
     },
     "457366effc8d4674ae7241d01ca40d23": {
      "model_module": "@jupyter-widgets/controls",
      "model_module_version": "1.5.0",
      "model_name": "DescriptionStyleModel",
      "state": {
       "description_width": ""
      }
     },
     "462dfbca8c09401a80f093e17470eb12": {
      "model_module": "@jupyter-widgets/controls",
      "model_module_version": "1.5.0",
      "model_name": "FloatProgressModel",
      "state": {
       "description": "split=train : 100%",
       "layout": "IPY_MODEL_33f0b852ad204641b3cd187264c43ce7",
       "max": 1496,
       "style": "IPY_MODEL_4a5146d0b0a64d36b6d0104b4d5be5ae",
       "value": 1496
      }
     },
     "4669e6854aec488d98b6936b1b38f736": {
      "model_module": "@jupyter-widgets/controls",
      "model_module_version": "1.5.0",
      "model_name": "HBoxModel",
      "state": {
       "children": [
        "IPY_MODEL_7994c07b6f03404bbac63f37030477a8",
        "IPY_MODEL_b0af47c9683047f6bc83f7c96316943b"
       ],
       "layout": "IPY_MODEL_667af78d5aad4a378d00da5c93503ac4"
      }
     },
     "46c00b3937244277a39c34778065e0b3": {
      "model_module": "@jupyter-widgets/controls",
      "model_module_version": "1.5.0",
      "model_name": "ProgressStyleModel",
      "state": {
       "description_width": "initial"
      }
     },
     "476a759fa6794f4ca966d047229782d8": {
      "model_module": "@jupyter-widgets/controls",
      "model_module_version": "1.5.0",
      "model_name": "FloatProgressModel",
      "state": {
       "description": "evaluation progress: ",
       "layout": "IPY_MODEL_107d781bc9ee451195e48f766f4e46a8",
       "max": 78,
       "style": "IPY_MODEL_f922e74da8594724bbb62c162fe44d20",
       "value": 78
      }
     },
     "4774df2effc54325b3d49e9d3d812bc1": {
      "model_module": "@jupyter-widgets/base",
      "model_module_version": "1.2.0",
      "model_name": "LayoutModel",
      "state": {}
     },
     "47c155497fbb4ae38afc7b8091665cc8": {
      "model_module": "@jupyter-widgets/base",
      "model_module_version": "1.2.0",
      "model_name": "LayoutModel",
      "state": {}
     },
     "47cd685297be4822afe72799aa8eab0c": {
      "model_module": "@jupyter-widgets/base",
      "model_module_version": "1.2.0",
      "model_name": "LayoutModel",
      "state": {}
     },
     "48de600e719841cc93946f15fc08d9fd": {
      "model_module": "@jupyter-widgets/base",
      "model_module_version": "1.2.0",
      "model_name": "LayoutModel",
      "state": {}
     },
     "4946ae818c4e49d887e6921aa661a059": {
      "model_module": "@jupyter-widgets/controls",
      "model_module_version": "1.5.0",
      "model_name": "ProgressStyleModel",
      "state": {
       "description_width": "initial"
      }
     },
     "496b3da7329d477dbd2caecec14e1705": {
      "model_module": "@jupyter-widgets/controls",
      "model_module_version": "1.5.0",
      "model_name": "FloatProgressModel",
      "state": {
       "description": "evaluation progress: ",
       "layout": "IPY_MODEL_30c35ea2f67d4d33a2bc932fe3567efa",
       "max": 7,
       "style": "IPY_MODEL_66ff5ab5b5b14ce3bae15d797bc546b7",
       "value": 7
      }
     },
     "49cfbe2ad44b4f09b1702697238aa263": {
      "model_module": "@jupyter-widgets/base",
      "model_module_version": "1.2.0",
      "model_name": "LayoutModel",
      "state": {}
     },
     "4a5146d0b0a64d36b6d0104b4d5be5ae": {
      "model_module": "@jupyter-widgets/controls",
      "model_module_version": "1.5.0",
      "model_name": "ProgressStyleModel",
      "state": {
       "description_width": "initial"
      }
     },
     "4b1d4bd27d4a49799aef84eff4b2af00": {
      "model_module": "@jupyter-widgets/base",
      "model_module_version": "1.2.0",
      "model_name": "LayoutModel",
      "state": {}
     },
     "4ba2f0bc841a4afcafe878eee657fc03": {
      "model_module": "@jupyter-widgets/base",
      "model_module_version": "1.2.0",
      "model_name": "LayoutModel",
      "state": {}
     },
     "4bf39c9cbeb54d5aa7100ad904a062a5": {
      "model_module": "@jupyter-widgets/base",
      "model_module_version": "1.2.0",
      "model_name": "LayoutModel",
      "state": {}
     },
     "4c27ce734f56471aae0a2b36305cc7a8": {
      "model_module": "@jupyter-widgets/controls",
      "model_module_version": "1.5.0",
      "model_name": "DescriptionStyleModel",
      "state": {
       "description_width": ""
      }
     },
     "4cfd830a9e62489694abd5915e29763c": {
      "model_module": "@jupyter-widgets/controls",
      "model_module_version": "1.5.0",
      "model_name": "ProgressStyleModel",
      "state": {
       "description_width": "initial"
      }
     },
     "4d486e5b27f64c949554ccc2c743cecb": {
      "model_module": "@jupyter-widgets/controls",
      "model_module_version": "1.5.0",
      "model_name": "FloatProgressModel",
      "state": {
       "description": "evaluation progress: ",
       "layout": "IPY_MODEL_e64c17cc98484d89a809541e9a4a0c14",
       "max": 78,
       "style": "IPY_MODEL_d0c53412f9dc4b06a9c84c2c259008c2",
       "value": 78
      }
     },
     "4d4e71c9dc154276843c88319dd51ebc": {
      "model_module": "@jupyter-widgets/controls",
      "model_module_version": "1.5.0",
      "model_name": "HTMLModel",
      "state": {
       "layout": "IPY_MODEL_30f74c73cb25436eb21ed303ceb14b3c",
       "style": "IPY_MODEL_e2fe8a786b124f7094bf89db265af165",
       "value": " 79/? [00:11&lt;00:00,  7.32it/s]"
      }
     },
     "4db6086ab5274b99ab2010a14f1af6ad": {
      "model_module": "@jupyter-widgets/base",
      "model_module_version": "1.2.0",
      "model_name": "LayoutModel",
      "state": {}
     },
     "4dd58227e7df4119b8af99cc79ccdafc": {
      "model_module": "@jupyter-widgets/base",
      "model_module_version": "1.2.0",
      "model_name": "LayoutModel",
      "state": {}
     },
     "4e00caee983048d182695b027d7c4e81": {
      "model_module": "@jupyter-widgets/controls",
      "model_module_version": "1.5.0",
      "model_name": "HTMLModel",
      "state": {
       "layout": "IPY_MODEL_7abe46217b3d4ab590d4080b55f222f5",
       "style": "IPY_MODEL_031b8134790146678b676fa8a99698e5",
       "value": " 79/? [00:12&lt;00:00,  7.31it/s]"
      }
     },
     "4e5f50b7f6c74409b352e17b54ce33e7": {
      "model_module": "@jupyter-widgets/controls",
      "model_module_version": "1.5.0",
      "model_name": "HTMLModel",
      "state": {
       "layout": "IPY_MODEL_ada469167f254b589151a4d649b2b037",
       "style": "IPY_MODEL_dc7665e0fb0d497881a79b36e7140a8e",
       "value": " 0/78 [00:00&lt;?, ?it/s]"
      }
     },
     "4e914d49d2874413b2560fece37ab56f": {
      "model_module": "@jupyter-widgets/controls",
      "model_module_version": "1.5.0",
      "model_name": "DescriptionStyleModel",
      "state": {
       "description_width": ""
      }
     },
     "4ec5da84fe25457d8895960552c87209": {
      "model_module": "@jupyter-widgets/controls",
      "model_module_version": "1.5.0",
      "model_name": "FloatProgressModel",
      "state": {
       "description": "training_routine:   0%",
       "layout": "IPY_MODEL_5cae05f220b149ba8a52124610149412",
       "max": 50,
       "style": "IPY_MODEL_2441d2c8acf74a89ade979e0b00bd511"
      }
     },
     "4f42b060faad42f09b9fec37bfdc37f0": {
      "model_module": "@jupyter-widgets/controls",
      "model_module_version": "1.5.0",
      "model_name": "HTMLModel",
      "state": {
       "layout": "IPY_MODEL_58cb1e0b828a45858e6152b86b17f666",
       "style": "IPY_MODEL_c1a4006c74064bea88af767f6377c13d",
       "value": " 1390/1402 [21:55&lt;00:11,  1.06it/s, acc=0.935, epoch=5, f1=0.83, loss=0.171]"
      }
     },
     "4fc85dcaf1444f7eaf24a242586b6821": {
      "model_module": "@jupyter-widgets/base",
      "model_module_version": "1.2.0",
      "model_name": "LayoutModel",
      "state": {}
     },
     "4fd592b7895f49028c20c91df1b4bbed": {
      "model_module": "@jupyter-widgets/controls",
      "model_module_version": "1.5.0",
      "model_name": "ProgressStyleModel",
      "state": {
       "description_width": "initial"
      }
     },
     "4ffa484ce34643a6a3a8eaccd5410e31": {
      "model_module": "@jupyter-widgets/base",
      "model_module_version": "1.2.0",
      "model_name": "LayoutModel",
      "state": {}
     },
     "50297474a0cb42e2ae6d987e8e49ecdd": {
      "model_module": "@jupyter-widgets/controls",
      "model_module_version": "1.5.0",
      "model_name": "HTMLModel",
      "state": {
       "layout": "IPY_MODEL_01cc48e0a7d3419cb25b9e5c7f9ba8bd",
       "style": "IPY_MODEL_566c914ae992462ab4c5e9e4af620c55",
       "value": " 8/? [00:01&lt;00:00,  6.83it/s]"
      }
     },
     "5138cac058a2496b8cdba771389905db": {
      "model_module": "@jupyter-widgets/controls",
      "model_module_version": "1.5.0",
      "model_name": "ProgressStyleModel",
      "state": {
       "description_width": "initial"
      }
     },
     "51cf941181d741acb265e423dc6314b8": {
      "model_module": "@jupyter-widgets/controls",
      "model_module_version": "1.5.0",
      "model_name": "FloatProgressModel",
      "state": {
       "description": "evaluation progress: ",
       "layout": "IPY_MODEL_8aa17e2652c744cd97f81a7e0dd77901",
       "max": 7,
       "style": "IPY_MODEL_260c831f37a4435bb282afb9723a1569",
       "value": 7
      }
     },
     "51ed3680015c45eda3de81c0f205a081": {
      "model_module": "@jupyter-widgets/base",
      "model_module_version": "1.2.0",
      "model_name": "LayoutModel",
      "state": {}
     },
     "51fd37113e624b6ca53a20cac2f790d3": {
      "model_module": "@jupyter-widgets/base",
      "model_module_version": "1.2.0",
      "model_name": "LayoutModel",
      "state": {}
     },
     "52a0545532fb4806ae02d05b1c8472ef": {
      "model_module": "@jupyter-widgets/controls",
      "model_module_version": "1.5.0",
      "model_name": "DescriptionStyleModel",
      "state": {
       "description_width": ""
      }
     },
     "533eb80cc8624bfe9d70ea7376d6a1e1": {
      "model_module": "@jupyter-widgets/controls",
      "model_module_version": "1.5.0",
      "model_name": "ProgressStyleModel",
      "state": {
       "description_width": "initial"
      }
     },
     "5366f25eff2347b8a741c92e9ce39030": {
      "model_module": "@jupyter-widgets/controls",
      "model_module_version": "1.5.0",
      "model_name": "FloatProgressModel",
      "state": {
       "description": "evaluation progress: ",
       "layout": "IPY_MODEL_59693e88532d458d84c9d90a43a055ba",
       "max": 78,
       "style": "IPY_MODEL_d7fe03bcf4de4ed68426acf16b6894a3",
       "value": 78
      }
     },
     "5397c3ed85774f348a29cfc53f388ae2": {
      "model_module": "@jupyter-widgets/controls",
      "model_module_version": "1.5.0",
      "model_name": "FloatProgressModel",
      "state": {
       "bar_style": "danger",
       "description": "  0%",
       "layout": "IPY_MODEL_3cff2f505bc34ecbab9d98772a50a582",
       "max": 10,
       "style": "IPY_MODEL_7e6c7cc2f85948408f8c052380d1bb04"
      }
     },
     "53bd367209c940988b54f53f68ca9e9e": {
      "model_module": "@jupyter-widgets/base",
      "model_module_version": "1.2.0",
      "model_name": "LayoutModel",
      "state": {}
     },
     "53c9ea957176446a982b0e1e9bb3bdb4": {
      "model_module": "@jupyter-widgets/base",
      "model_module_version": "1.2.0",
      "model_name": "LayoutModel",
      "state": {}
     },
     "53d0faa405bd4753b227803d119f42e7": {
      "model_module": "@jupyter-widgets/base",
      "model_module_version": "1.2.0",
      "model_name": "LayoutModel",
      "state": {}
     },
     "540d9699c7614ac3bd6113aa0fed8ea0": {
      "model_module": "@jupyter-widgets/base",
      "model_module_version": "1.2.0",
      "model_name": "LayoutModel",
      "state": {}
     },
     "5481365deafe41baacb58b9ea6af8d0f": {
      "model_module": "@jupyter-widgets/base",
      "model_module_version": "1.2.0",
      "model_name": "LayoutModel",
      "state": {}
     },
     "54ba52b74a534ee883855307fe91c3ae": {
      "model_module": "@jupyter-widgets/controls",
      "model_module_version": "1.5.0",
      "model_name": "HTMLModel",
      "state": {
       "layout": "IPY_MODEL_d658e82799e145389ea4ee85058b19a0",
       "style": "IPY_MODEL_6a0e2a244d8f4d57bf467d1b7b0521c6",
       "value": " 79/? [00:12&lt;00:00,  7.27it/s]"
      }
     },
     "550672da5885418ebab9696956649e5d": {
      "model_module": "@jupyter-widgets/controls",
      "model_module_version": "1.5.0",
      "model_name": "HTMLModel",
      "state": {
       "layout": "IPY_MODEL_2afb03e910f54a298fe1826b4582c196",
       "style": "IPY_MODEL_d755e659c1aa4ecfb421ae4e34e84117",
       "value": " 0/50 [00:00&lt;?, ?it/s]"
      }
     },
     "551b06e026354be98c1581c7200a42a3": {
      "model_module": "@jupyter-widgets/controls",
      "model_module_version": "1.5.0",
      "model_name": "ProgressStyleModel",
      "state": {
       "description_width": "initial"
      }
     },
     "559d1ca594304669973753da5c7a4839": {
      "model_module": "@jupyter-widgets/controls",
      "model_module_version": "1.5.0",
      "model_name": "DescriptionStyleModel",
      "state": {
       "description_width": ""
      }
     },
     "5658159f970f413db7042aa9ac80da8d": {
      "model_module": "@jupyter-widgets/base",
      "model_module_version": "1.2.0",
      "model_name": "LayoutModel",
      "state": {}
     },
     "566c914ae992462ab4c5e9e4af620c55": {
      "model_module": "@jupyter-widgets/controls",
      "model_module_version": "1.5.0",
      "model_name": "DescriptionStyleModel",
      "state": {
       "description_width": ""
      }
     },
     "568f4ffdedf347279f1d2a06561331cd": {
      "model_module": "@jupyter-widgets/controls",
      "model_module_version": "1.5.0",
      "model_name": "ProgressStyleModel",
      "state": {
       "description_width": "initial"
      }
     },
     "57547e34926f4830a63c003dab14879e": {
      "model_module": "@jupyter-widgets/base",
      "model_module_version": "1.2.0",
      "model_name": "LayoutModel",
      "state": {}
     },
     "57d7c09c2ac041bc901c378dea628f53": {
      "model_module": "@jupyter-widgets/base",
      "model_module_version": "1.2.0",
      "model_name": "LayoutModel",
      "state": {}
     },
     "57d842b007fe4a0bbc14902adcede044": {
      "model_module": "@jupyter-widgets/base",
      "model_module_version": "1.2.0",
      "model_name": "LayoutModel",
      "state": {}
     },
     "5894c9a6be4d4352bf9e3b4c3e91c5ac": {
      "model_module": "@jupyter-widgets/controls",
      "model_module_version": "1.5.0",
      "model_name": "HTMLModel",
      "state": {
       "layout": "IPY_MODEL_9e882588c5d64a07bc7d75c37e812e8f",
       "style": "IPY_MODEL_5ba668c123e04bedbd39e03ebb45aa7e",
       "value": " 79/? [00:12&lt;00:00,  7.32it/s]"
      }
     },
     "589d9185d14e4602bf7f65a0c7c66ef2": {
      "model_module": "@jupyter-widgets/base",
      "model_module_version": "1.2.0",
      "model_name": "LayoutModel",
      "state": {}
     },
     "58cb1e0b828a45858e6152b86b17f666": {
      "model_module": "@jupyter-widgets/base",
      "model_module_version": "1.2.0",
      "model_name": "LayoutModel",
      "state": {}
     },
     "59622fc1597548c2abdf556e67dd147f": {
      "model_module": "@jupyter-widgets/controls",
      "model_module_version": "1.5.0",
      "model_name": "FloatProgressModel",
      "state": {
       "description": "evaluation progress: ",
       "layout": "IPY_MODEL_819cfc17a5ce45aca5b53cac611f64be",
       "max": 78,
       "style": "IPY_MODEL_0dbb558d5c6740218aaf375363dada89",
       "value": 78
      }
     },
     "59693e88532d458d84c9d90a43a055ba": {
      "model_module": "@jupyter-widgets/base",
      "model_module_version": "1.2.0",
      "model_name": "LayoutModel",
      "state": {}
     },
     "5987aac8a49544a2bb5f8dfbf6d687b5": {
      "model_module": "@jupyter-widgets/base",
      "model_module_version": "1.2.0",
      "model_name": "LayoutModel",
      "state": {}
     },
     "5a3c07469e3142b8bd4e20a69bcc5983": {
      "model_module": "@jupyter-widgets/base",
      "model_module_version": "1.2.0",
      "model_name": "LayoutModel",
      "state": {}
     },
     "5a5a98b7b80e42d3a67dca5a9d4a3878": {
      "model_module": "@jupyter-widgets/controls",
      "model_module_version": "1.5.0",
      "model_name": "HTMLModel",
      "state": {
       "layout": "IPY_MODEL_15c8fdc45bc84f6abdb95af902929d1f",
       "style": "IPY_MODEL_feaf4df108e646b1a80426911a4f7f53",
       "value": " 79/? [00:12&lt;00:00,  7.29it/s]"
      }
     },
     "5a7af5e8b8c148749f4d4b90d7a035e0": {
      "model_module": "@jupyter-widgets/controls",
      "model_module_version": "1.5.0",
      "model_name": "HTMLModel",
      "state": {
       "layout": "IPY_MODEL_6c5365ce6161468792eda1427a54cebd",
       "style": "IPY_MODEL_e1000c6b55be42628436eb0342f8ed2f",
       "value": " 0/8 [00:00&lt;?, ?it/s]"
      }
     },
     "5b6013185f2c43019bdcfd33b916a8b0": {
      "model_module": "@jupyter-widgets/base",
      "model_module_version": "1.2.0",
      "model_name": "LayoutModel",
      "state": {}
     },
     "5ba668c123e04bedbd39e03ebb45aa7e": {
      "model_module": "@jupyter-widgets/controls",
      "model_module_version": "1.5.0",
      "model_name": "DescriptionStyleModel",
      "state": {
       "description_width": ""
      }
     },
     "5bbfcd9910764ed7825ebf54644ba524": {
      "model_module": "@jupyter-widgets/controls",
      "model_module_version": "1.5.0",
      "model_name": "HTMLModel",
      "state": {
       "layout": "IPY_MODEL_cc3e932f6aa44b31bb8aa2e1ffa8dc0c",
       "style": "IPY_MODEL_c3016c8ccc454180803180102b8b834e",
       "value": " 79/? [00:12&lt;00:00,  7.27it/s]"
      }
     },
     "5cae05f220b149ba8a52124610149412": {
      "model_module": "@jupyter-widgets/base",
      "model_module_version": "1.2.0",
      "model_name": "LayoutModel",
      "state": {}
     },
     "5cc5dd1688ab447ea4d5317e5362f3ce": {
      "model_module": "@jupyter-widgets/controls",
      "model_module_version": "1.5.0",
      "model_name": "HTMLModel",
      "state": {
       "layout": "IPY_MODEL_3a6d3ab487fd4537aca78688267b28bf",
       "style": "IPY_MODEL_9755c28d03fc4b569b43b8ff9078b488",
       "value": " 8/? [00:01&lt;00:00,  6.69it/s]"
      }
     },
     "5cf8aa464a2842ac9e0f2f31ff6f7bb8": {
      "model_module": "@jupyter-widgets/base",
      "model_module_version": "1.2.0",
      "model_name": "LayoutModel",
      "state": {}
     },
     "5e26eee4dc6a47529020e672aa5bc41d": {
      "model_module": "@jupyter-widgets/controls",
      "model_module_version": "1.5.0",
      "model_name": "HBoxModel",
      "state": {
       "children": [
        "IPY_MODEL_4ec5da84fe25457d8895960552c87209",
        "IPY_MODEL_81ddbb4ca1b343459b301abfc30217a0"
       ],
       "layout": "IPY_MODEL_a7658b45381a4d309d093a310f0cca2d"
      }
     },
     "5e5006f9e988477391a4d4da6b5b8bc6": {
      "model_module": "@jupyter-widgets/controls",
      "model_module_version": "1.5.0",
      "model_name": "ProgressStyleModel",
      "state": {
       "description_width": "initial"
      }
     },
     "5e5162c51f0f424e86056a030b0d1e47": {
      "model_module": "@jupyter-widgets/controls",
      "model_module_version": "1.5.0",
      "model_name": "HTMLModel",
      "state": {
       "layout": "IPY_MODEL_ec36ba5cc58d48e8971bde65925b2dc7",
       "style": "IPY_MODEL_cd2a67f20d7d423abe0e98d33a1313a7",
       "value": " 79/? [00:12&lt;00:00,  7.32it/s]"
      }
     },
     "5e5b5443f4a542358539865ac1df1fa8": {
      "model_module": "@jupyter-widgets/base",
      "model_module_version": "1.2.0",
      "model_name": "LayoutModel",
      "state": {}
     },
     "5f13957c43b146c9ae1fd983bfdbb9c5": {
      "model_module": "@jupyter-widgets/base",
      "model_module_version": "1.2.0",
      "model_name": "LayoutModel",
      "state": {}
     },
     "5f1437151eb646f48eb8f910460b22f4": {
      "model_module": "@jupyter-widgets/controls",
      "model_module_version": "1.5.0",
      "model_name": "HTMLModel",
      "state": {
       "layout": "IPY_MODEL_94ed4ebd0833482fa14c03c8d6b15574",
       "style": "IPY_MODEL_e98490ec26f94bf7828e7d9d21480855",
       "value": " 8/? [00:01&lt;00:00,  6.66it/s]"
      }
     },
     "5f762120c65a4e0caf942bbab270e9f3": {
      "model_module": "@jupyter-widgets/base",
      "model_module_version": "1.2.0",
      "model_name": "LayoutModel",
      "state": {}
     },
     "6002fb194f8a462cacf99316f1f24798": {
      "model_module": "@jupyter-widgets/controls",
      "model_module_version": "1.5.0",
      "model_name": "HTMLModel",
      "state": {
       "layout": "IPY_MODEL_1d146b8615004b7f820ce1c35f60c13b",
       "style": "IPY_MODEL_c395b195ecf24cf2996896f59b591914",
       "value": " 0/73 [00:00&lt;?, ?it/s]"
      }
     },
     "60b8069845e24d438c53efc3f3e4fa2d": {
      "model_module": "@jupyter-widgets/controls",
      "model_module_version": "1.5.0",
      "model_name": "HBoxModel",
      "state": {
       "children": [
        "IPY_MODEL_68c4af60d5c94bdda86661cad2cee262",
        "IPY_MODEL_ef50571f43fb4f88ae746ec7d1346a59"
       ],
       "layout": "IPY_MODEL_6f6d177ea17b434ead513b391f0e618a"
      }
     },
     "610113d2f1de422997fc853d9be0c9a5": {
      "model_module": "@jupyter-widgets/controls",
      "model_module_version": "1.5.0",
      "model_name": "HTMLModel",
      "state": {
       "layout": "IPY_MODEL_e989339c109f433299a814ec62461d54",
       "style": "IPY_MODEL_d54ffb7334384061aba11889897ab619",
       "value": " 79/? [00:12&lt;00:00,  7.32it/s]"
      }
     },
     "612da969112b4e22843dbdb2c2330d23": {
      "model_module": "@jupyter-widgets/controls",
      "model_module_version": "1.5.0",
      "model_name": "HTMLModel",
      "state": {
       "layout": "IPY_MODEL_53bd367209c940988b54f53f68ca9e9e",
       "style": "IPY_MODEL_faf9be4abbfc4ba5a102c5daaa84c191",
       "value": " 79/? [00:12&lt;00:00,  7.33it/s]"
      }
     },
     "614ec531f7904717b771d9dc8d17d19a": {
      "model_module": "@jupyter-widgets/controls",
      "model_module_version": "1.5.0",
      "model_name": "HTMLModel",
      "state": {
       "layout": "IPY_MODEL_756cc4117ec54bf298259308dcb0f5bb",
       "style": "IPY_MODEL_9c7d98f69f614641b35bfc3e79ea9bfc",
       "value": " 74/? [00:23&lt;00:00,  3.34it/s, acc=0.91, epoch=4, f1=0.765, loss=0.242]"
      }
     },
     "627d2fa699e94e22869062414d58d663": {
      "model_module": "@jupyter-widgets/base",
      "model_module_version": "1.2.0",
      "model_name": "LayoutModel",
      "state": {}
     },
     "630b5fee2ea64cb08fea77e4305d317b": {
      "model_module": "@jupyter-widgets/base",
      "model_module_version": "1.2.0",
      "model_name": "LayoutModel",
      "state": {}
     },
     "6312e26e44ad42c7994fde9f7e36bcee": {
      "model_module": "@jupyter-widgets/base",
      "model_module_version": "1.2.0",
      "model_name": "LayoutModel",
      "state": {}
     },
     "641b48e468cf4e3ab24608a3f0ed3fb1": {
      "model_module": "@jupyter-widgets/controls",
      "model_module_version": "1.5.0",
      "model_name": "HTMLModel",
      "state": {
       "layout": "IPY_MODEL_bab9be2aaf5d40dfaf81ff90389e0ee7",
       "style": "IPY_MODEL_c676d8e9335b48f4936915104e49326e",
       "value": " 79/? [00:12&lt;00:00,  7.33it/s]"
      }
     },
     "655b85dbb77849f0a5b43718e0c55dd2": {
      "model_module": "@jupyter-widgets/base",
      "model_module_version": "1.2.0",
      "model_name": "LayoutModel",
      "state": {}
     },
     "65fbcd15de414ccdaac663f58e263ca9": {
      "model_module": "@jupyter-widgets/base",
      "model_module_version": "1.2.0",
      "model_name": "LayoutModel",
      "state": {}
     },
     "666f4a00e9104bc5aaf4fc043811c72d": {
      "model_module": "@jupyter-widgets/controls",
      "model_module_version": "1.5.0",
      "model_name": "ProgressStyleModel",
      "state": {
       "description_width": "initial"
      }
     },
     "667af78d5aad4a378d00da5c93503ac4": {
      "model_module": "@jupyter-widgets/base",
      "model_module_version": "1.2.0",
      "model_name": "LayoutModel",
      "state": {}
     },
     "669b4c7113274fffba988e3156f732c3": {
      "model_module": "@jupyter-widgets/controls",
      "model_module_version": "1.5.0",
      "model_name": "HBoxModel",
      "state": {
       "children": [
        "IPY_MODEL_f44a25bff64b44b397a68a35b6d3719b",
        "IPY_MODEL_bda60d54838e443693fbc063123ff001"
       ],
       "layout": "IPY_MODEL_d7788b634f4f424c9563b97155761ea8"
      }
     },
     "66f8d3233a8a4284a2bf8791a5bf6c02": {
      "model_module": "@jupyter-widgets/controls",
      "model_module_version": "1.5.0",
      "model_name": "HTMLModel",
      "state": {
       "layout": "IPY_MODEL_e511610c7d164f2b9a1a0bcf572b191e",
       "style": "IPY_MODEL_c57768d6ce7d4746892aa1be162cf0d1",
       "value": " 8/? [00:01&lt;00:00,  6.59it/s]"
      }
     },
     "66ff5ab5b5b14ce3bae15d797bc546b7": {
      "model_module": "@jupyter-widgets/controls",
      "model_module_version": "1.5.0",
      "model_name": "ProgressStyleModel",
      "state": {
       "description_width": "initial"
      }
     },
     "670c744f78c94424afa641f763138b65": {
      "model_module": "@jupyter-widgets/controls",
      "model_module_version": "1.5.0",
      "model_name": "DescriptionStyleModel",
      "state": {
       "description_width": ""
      }
     },
     "672c6b83e0164654ac9f2e6750563e87": {
      "model_module": "@jupyter-widgets/base",
      "model_module_version": "1.2.0",
      "model_name": "LayoutModel",
      "state": {}
     },
     "673efa41a5dc499dad81e6f9af998199": {
      "model_module": "@jupyter-widgets/controls",
      "model_module_version": "1.5.0",
      "model_name": "ProgressStyleModel",
      "state": {
       "description_width": "initial"
      }
     },
     "674eaf9ef990425b97585eae29b7ce14": {
      "model_module": "@jupyter-widgets/controls",
      "model_module_version": "1.5.0",
      "model_name": "FloatProgressModel",
      "state": {
       "description": "evaluation progress: ",
       "layout": "IPY_MODEL_cf8f8d57c7624a5b9b7cf35450973437",
       "max": 7,
       "style": "IPY_MODEL_0bb51df35b58445fab52b994669bef30",
       "value": 7
      }
     },
     "678818dc957046ecb71c07124815d1a1": {
      "model_module": "@jupyter-widgets/base",
      "model_module_version": "1.2.0",
      "model_name": "LayoutModel",
      "state": {}
     },
     "67d8c88449ec4a849da5e565ba65b6b6": {
      "model_module": "@jupyter-widgets/base",
      "model_module_version": "1.2.0",
      "model_name": "LayoutModel",
      "state": {}
     },
     "68279fbc4f344577a268c6c084b33815": {
      "model_module": "@jupyter-widgets/base",
      "model_module_version": "1.2.0",
      "model_name": "LayoutModel",
      "state": {}
     },
     "68a1ef86037c40a3bcd69451b1654914": {
      "model_module": "@jupyter-widgets/controls",
      "model_module_version": "1.5.0",
      "model_name": "HTMLModel",
      "state": {
       "layout": "IPY_MODEL_0b8a1b83ce2148cda8f82bd78a9dc498",
       "style": "IPY_MODEL_096165af6d654853ab98a06a97e337b2",
       "value": " 0/10 [00:12&lt;?, ?it/s]"
      }
     },
     "68c4af60d5c94bdda86661cad2cee262": {
      "model_module": "@jupyter-widgets/controls",
      "model_module_version": "1.5.0",
      "model_name": "FloatProgressModel",
      "state": {
       "description": "training_routine:  20%",
       "layout": "IPY_MODEL_e8d1841ebcf3436598762e8d45daf4c7",
       "max": 50,
       "style": "IPY_MODEL_2fef22c2fb98421cb8e36fe79eb2aacf",
       "value": 10
      }
     },
     "68eb50cbef44465bb1e505e9126a0dcb": {
      "model_module": "@jupyter-widgets/controls",
      "model_module_version": "1.5.0",
      "model_name": "FloatProgressModel",
      "state": {
       "description": "evaluation progress:  96%",
       "layout": "IPY_MODEL_e20a6681966d4adf8c0f93237efd772d",
       "max": 78,
       "style": "IPY_MODEL_db77a3713c8b4f0294a5ea7e0e8f5ac3",
       "value": 75
      }
     },
     "69c6f2a9b0f24825be7ede18f013f051": {
      "model_module": "@jupyter-widgets/controls",
      "model_module_version": "1.5.0",
      "model_name": "HTMLModel",
      "state": {
       "layout": "IPY_MODEL_c5b812c0e87e4427bdfc7213bf1a0f7d",
       "style": "IPY_MODEL_943615d43592437fb11b06073a0f4d14",
       "value": " 30/5610 [00:19&lt;1:00:57,  1.53it/s, acc=0.904, epoch=1, f1=0.691, loss=0.247]"
      }
     },
     "69fa802a0b4f45f18a4ccdd31c9fc7da": {
      "model_module": "@jupyter-widgets/controls",
      "model_module_version": "1.5.0",
      "model_name": "DescriptionStyleModel",
      "state": {
       "description_width": ""
      }
     },
     "6a0e2a244d8f4d57bf467d1b7b0521c6": {
      "model_module": "@jupyter-widgets/controls",
      "model_module_version": "1.5.0",
      "model_name": "DescriptionStyleModel",
      "state": {
       "description_width": ""
      }
     },
     "6a59738bea5045199ab2d9c0b23dcfe8": {
      "model_module": "@jupyter-widgets/controls",
      "model_module_version": "1.5.0",
      "model_name": "DescriptionStyleModel",
      "state": {
       "description_width": ""
      }
     },
     "6afcebf5c51e455083e4718cb3a370ab": {
      "model_module": "@jupyter-widgets/base",
      "model_module_version": "1.2.0",
      "model_name": "LayoutModel",
      "state": {}
     },
     "6b18f1048b5d4423bb788d143b8f4bea": {
      "model_module": "@jupyter-widgets/controls",
      "model_module_version": "1.5.0",
      "model_name": "ProgressStyleModel",
      "state": {
       "description_width": "initial"
      }
     },
     "6c37926350e04356979f7673938b7d60": {
      "model_module": "@jupyter-widgets/controls",
      "model_module_version": "1.5.0",
      "model_name": "DescriptionStyleModel",
      "state": {
       "description_width": ""
      }
     },
     "6c5365ce6161468792eda1427a54cebd": {
      "model_module": "@jupyter-widgets/base",
      "model_module_version": "1.2.0",
      "model_name": "LayoutModel",
      "state": {}
     },
     "6c99b058dafa489fb7b4213a90218fac": {
      "model_module": "@jupyter-widgets/controls",
      "model_module_version": "1.5.0",
      "model_name": "HBoxModel",
      "state": {
       "children": [
        "IPY_MODEL_a748c81829ea4e79a45c1711f5331d50",
        "IPY_MODEL_e6e04d92eda3468e9e2e57e7737f7011"
       ],
       "layout": "IPY_MODEL_cd0f6df860454a3a8ae65c8c5eb68f33"
      }
     },
     "6d2ed4d3e8d046a6a437f410e0a5b355": {
      "model_module": "@jupyter-widgets/base",
      "model_module_version": "1.2.0",
      "model_name": "LayoutModel",
      "state": {}
     },
     "6d8b5a1aa940448f888afef3e4a653cb": {
      "model_module": "@jupyter-widgets/controls",
      "model_module_version": "1.5.0",
      "model_name": "FloatProgressModel",
      "state": {
       "description": "split=train :   1%",
       "layout": "IPY_MODEL_a6ff29088d08435199fdb7393e66a4e4",
       "max": 5610,
       "style": "IPY_MODEL_533eb80cc8624bfe9d70ea7376d6a1e1",
       "value": 29
      }
     },
     "6da5e735a8bf4ef6a258a524ac2c2a05": {
      "model_module": "@jupyter-widgets/controls",
      "model_module_version": "1.5.0",
      "model_name": "DescriptionStyleModel",
      "state": {
       "description_width": ""
      }
     },
     "6db730e8ec8542d092b54e139c315cdc": {
      "model_module": "@jupyter-widgets/controls",
      "model_module_version": "1.5.0",
      "model_name": "HBoxModel",
      "state": {
       "children": [
        "IPY_MODEL_68eb50cbef44465bb1e505e9126a0dcb",
        "IPY_MODEL_89d44091bfc249eb8e4154caaa89f8d9"
       ],
       "layout": "IPY_MODEL_017eb7a21f81422ea33da6e15a97a4c5"
      }
     },
     "6df76b9ab4054171be7bcec48ac4d0be": {
      "model_module": "@jupyter-widgets/controls",
      "model_module_version": "1.5.0",
      "model_name": "FloatProgressModel",
      "state": {
       "description": "evaluation progress: ",
       "layout": "IPY_MODEL_d8fa2a23e08a43299140cd1e84fddf4e",
       "max": 78,
       "style": "IPY_MODEL_759fa50bdb7041af8d5ca931031d610d",
       "value": 78
      }
     },
     "6e2851454bb949b08cc777d84173d475": {
      "model_module": "@jupyter-widgets/base",
      "model_module_version": "1.2.0",
      "model_name": "LayoutModel",
      "state": {}
     },
     "6e64dd600799448ca1eeb4e94d73a03a": {
      "model_module": "@jupyter-widgets/controls",
      "model_module_version": "1.5.0",
      "model_name": "ProgressStyleModel",
      "state": {
       "description_width": "initial"
      }
     },
     "6e8aadf29ce84ba994a896ec0f59b9bc": {
      "model_module": "@jupyter-widgets/base",
      "model_module_version": "1.2.0",
      "model_name": "LayoutModel",
      "state": {}
     },
     "6f381b7d31114f1f81669d50312d0d3c": {
      "model_module": "@jupyter-widgets/controls",
      "model_module_version": "1.5.0",
      "model_name": "DescriptionStyleModel",
      "state": {
       "description_width": ""
      }
     },
     "6f4fe268284245a692c9307251c27abc": {
      "model_module": "@jupyter-widgets/base",
      "model_module_version": "1.2.0",
      "model_name": "LayoutModel",
      "state": {}
     },
     "6f531749ab9a4786bcb2fc8009ee1197": {
      "model_module": "@jupyter-widgets/base",
      "model_module_version": "1.2.0",
      "model_name": "LayoutModel",
      "state": {}
     },
     "6f6d177ea17b434ead513b391f0e618a": {
      "model_module": "@jupyter-widgets/base",
      "model_module_version": "1.2.0",
      "model_name": "LayoutModel",
      "state": {}
     },
     "70104a9c77364454bede697a316f1385": {
      "model_module": "@jupyter-widgets/controls",
      "model_module_version": "1.5.0",
      "model_name": "ProgressStyleModel",
      "state": {
       "description_width": "initial"
      }
     },
     "706fd4056fb34bc7a34a9d686445cd76": {
      "model_module": "@jupyter-widgets/controls",
      "model_module_version": "1.5.0",
      "model_name": "HTMLModel",
      "state": {
       "layout": "IPY_MODEL_c2c33249339b4b89bcbd35328b9d5d46",
       "style": "IPY_MODEL_f02980796cad47fc8f92d2a57f562f05",
       "value": " 79/? [00:12&lt;00:00,  7.32it/s]"
      }
     },
     "7076de772c854f35b08d2ffe0abca869": {
      "model_module": "@jupyter-widgets/base",
      "model_module_version": "1.2.0",
      "model_name": "LayoutModel",
      "state": {}
     },
     "7118c9970cd64a7f968dcd0b531c398b": {
      "model_module": "@jupyter-widgets/base",
      "model_module_version": "1.2.0",
      "model_name": "LayoutModel",
      "state": {}
     },
     "71b492231fe24233937054d70b4548a6": {
      "model_module": "@jupyter-widgets/controls",
      "model_module_version": "1.5.0",
      "model_name": "FloatProgressModel",
      "state": {
       "description": "evaluation progress: ",
       "layout": "IPY_MODEL_37c5d0aac5a54fea82e9888d94c09953",
       "max": 78,
       "style": "IPY_MODEL_f7f05d4be6c34b42b2ecdf23086f77b7",
       "value": 78
      }
     },
     "7240ebc8a6804998a927d9aa7132cbcf": {
      "model_module": "@jupyter-widgets/controls",
      "model_module_version": "1.5.0",
      "model_name": "FloatProgressModel",
      "state": {
       "description": "evaluation progress: ",
       "layout": "IPY_MODEL_0102dba56c98425da2321b3e7005ef98",
       "max": 78,
       "style": "IPY_MODEL_253feef7d53d4e2489432b246a64cc32",
       "value": 78
      }
     },
     "72b8808d55e94058946adb184808e2c9": {
      "model_module": "@jupyter-widgets/controls",
      "model_module_version": "1.5.0",
      "model_name": "ProgressStyleModel",
      "state": {
       "description_width": "initial"
      }
     },
     "73107225720a40118f1a5777d6e15d72": {
      "model_module": "@jupyter-widgets/controls",
      "model_module_version": "1.5.0",
      "model_name": "DescriptionStyleModel",
      "state": {
       "description_width": ""
      }
     },
     "73e9167b395f4e1dbaaa7f170b5fd357": {
      "model_module": "@jupyter-widgets/controls",
      "model_module_version": "1.5.0",
      "model_name": "DescriptionStyleModel",
      "state": {
       "description_width": ""
      }
     },
     "74fea6082f1643df868840977d2afc52": {
      "model_module": "@jupyter-widgets/base",
      "model_module_version": "1.2.0",
      "model_name": "LayoutModel",
      "state": {}
     },
     "750506a30c20428d8bca051454deb79b": {
      "model_module": "@jupyter-widgets/base",
      "model_module_version": "1.2.0",
      "model_name": "LayoutModel",
      "state": {}
     },
     "753b5bd8b9e74406b6c53aa3216e3ec6": {
      "model_module": "@jupyter-widgets/controls",
      "model_module_version": "1.5.0",
      "model_name": "ProgressStyleModel",
      "state": {
       "description_width": "initial"
      }
     },
     "756cc4117ec54bf298259308dcb0f5bb": {
      "model_module": "@jupyter-widgets/base",
      "model_module_version": "1.2.0",
      "model_name": "LayoutModel",
      "state": {}
     },
     "759fa50bdb7041af8d5ca931031d610d": {
      "model_module": "@jupyter-widgets/controls",
      "model_module_version": "1.5.0",
      "model_name": "ProgressStyleModel",
      "state": {
       "description_width": "initial"
      }
     },
     "75c7c6714f554d77905ca27f1e161b1e": {
      "model_module": "@jupyter-widgets/controls",
      "model_module_version": "1.5.0",
      "model_name": "HTMLModel",
      "state": {
       "layout": "IPY_MODEL_113e77bc1bd14a3d8f15ea745d7e256b",
       "style": "IPY_MODEL_2acf8e608cc54ffe8c0839b1fad69e84",
       "value": " 8/? [00:01&lt;00:00,  6.77it/s]"
      }
     },
     "76052b0b66b94f3f910f02327e326754": {
      "model_module": "@jupyter-widgets/controls",
      "model_module_version": "1.5.0",
      "model_name": "ProgressStyleModel",
      "state": {
       "description_width": "initial"
      }
     },
     "76a3beef5ec14ceda3e4761663516c04": {
      "model_module": "@jupyter-widgets/controls",
      "model_module_version": "1.5.0",
      "model_name": "FloatProgressModel",
      "state": {
       "description": "evaluation progress: ",
       "layout": "IPY_MODEL_53c9ea957176446a982b0e1e9bb3bdb4",
       "max": 78,
       "style": "IPY_MODEL_568f4ffdedf347279f1d2a06561331cd",
       "value": 78
      }
     },
     "772696a32f674bd6b8f55900c344db7f": {
      "model_module": "@jupyter-widgets/base",
      "model_module_version": "1.2.0",
      "model_name": "LayoutModel",
      "state": {}
     },
     "775ff0ef35794ec4bcbe61793195c12e": {
      "model_module": "@jupyter-widgets/controls",
      "model_module_version": "1.5.0",
      "model_name": "FloatProgressModel",
      "state": {
       "description": "evaluation progress: ",
       "layout": "IPY_MODEL_67d8c88449ec4a849da5e565ba65b6b6",
       "max": 7,
       "style": "IPY_MODEL_4cfd830a9e62489694abd5915e29763c",
       "value": 7
      }
     },
     "77d8e113dd1c45569236a24bdcead847": {
      "model_module": "@jupyter-widgets/controls",
      "model_module_version": "1.5.0",
      "model_name": "HTMLModel",
      "state": {
       "layout": "IPY_MODEL_b90911cd3a894b038c3b29537b6052e2",
       "style": "IPY_MODEL_d4dedc1582d94b8b87d79b715a9f1106",
       "value": " 79/? [00:12&lt;00:00,  7.33it/s]"
      }
     },
     "7843e75485b742a0b11578a1cdc49035": {
      "model_module": "@jupyter-widgets/controls",
      "model_module_version": "1.5.0",
      "model_name": "HBoxModel",
      "state": {
       "children": [
        "IPY_MODEL_161e576b85274b978ed4e25d33d5f087",
        "IPY_MODEL_4f42b060faad42f09b9fec37bfdc37f0"
       ],
       "layout": "IPY_MODEL_b1ef57a2d9c649f5a6a113e4bec26a17"
      }
     },
     "78528e53f6ab4dfa9687477c82acb81d": {
      "model_module": "@jupyter-widgets/controls",
      "model_module_version": "1.5.0",
      "model_name": "HBoxModel",
      "state": {
       "children": [
        "IPY_MODEL_462dfbca8c09401a80f093e17470eb12",
        "IPY_MODEL_87d403cc59e04586b61f2d9b08e15f89"
       ],
       "layout": "IPY_MODEL_bdbd62fd8cf6453794137fbee9cf08d6"
      }
     },
     "78868e316bc14c678fb414d4784ecc7d": {
      "model_module": "@jupyter-widgets/base",
      "model_module_version": "1.2.0",
      "model_name": "LayoutModel",
      "state": {}
     },
     "78d035d68c694d6498fbc91017327909": {
      "model_module": "@jupyter-widgets/base",
      "model_module_version": "1.2.0",
      "model_name": "LayoutModel",
      "state": {}
     },
     "7959378a99354bdaabfeecfbfe6ea2d1": {
      "model_module": "@jupyter-widgets/base",
      "model_module_version": "1.2.0",
      "model_name": "LayoutModel",
      "state": {}
     },
     "7981032767ed451d8e0aa5a53e8d5dcf": {
      "model_module": "@jupyter-widgets/controls",
      "model_module_version": "1.5.0",
      "model_name": "HBoxModel",
      "state": {
       "children": [
        "IPY_MODEL_d2b23324cd0043f09255a6ff08f66122",
        "IPY_MODEL_c97d0170b9bb4b458ba1f3a48f275daf"
       ],
       "layout": "IPY_MODEL_09aa84dbc0e5449985044252cd1ef020"
      }
     },
     "7994c07b6f03404bbac63f37030477a8": {
      "model_module": "@jupyter-widgets/controls",
      "model_module_version": "1.5.0",
      "model_name": "FloatProgressModel",
      "state": {
       "description": "split=train :   0%",
       "layout": "IPY_MODEL_47cd685297be4822afe72799aa8eab0c",
       "max": 2805,
       "style": "IPY_MODEL_cac9ddfc81274e678c7a6912160ac7e2",
       "value": 1
      }
     },
     "79caafdabfff4e77937b5e5540be4311": {
      "model_module": "@jupyter-widgets/base",
      "model_module_version": "1.2.0",
      "model_name": "LayoutModel",
      "state": {}
     },
     "79e4e247b4fb4d2c8c6afb527d6529e1": {
      "model_module": "@jupyter-widgets/controls",
      "model_module_version": "1.5.0",
      "model_name": "HTMLModel",
      "state": {
       "layout": "IPY_MODEL_d529fc6ad0664da1ae8dede9fb4af482",
       "style": "IPY_MODEL_b08b72a4f60b4ac29503f167b7d9db6f",
       "value": " 8/? [00:01&lt;00:00,  6.85it/s]"
      }
     },
     "79f8b7f269d940fea6f9dcb150796543": {
      "model_module": "@jupyter-widgets/base",
      "model_module_version": "1.2.0",
      "model_name": "LayoutModel",
      "state": {}
     },
     "7aa1d78c6487441093704271c2caef9e": {
      "model_module": "@jupyter-widgets/base",
      "model_module_version": "1.2.0",
      "model_name": "LayoutModel",
      "state": {}
     },
     "7ab4feb670654e21a82939b6321342c4": {
      "model_module": "@jupyter-widgets/controls",
      "model_module_version": "1.5.0",
      "model_name": "ProgressStyleModel",
      "state": {
       "description_width": "initial"
      }
     },
     "7abe46217b3d4ab590d4080b55f222f5": {
      "model_module": "@jupyter-widgets/base",
      "model_module_version": "1.2.0",
      "model_name": "LayoutModel",
      "state": {}
     },
     "7b448ff1855b4c35b7cb40cae09f70a9": {
      "model_module": "@jupyter-widgets/controls",
      "model_module_version": "1.5.0",
      "model_name": "HTMLModel",
      "state": {
       "layout": "IPY_MODEL_672c6b83e0164654ac9f2e6750563e87",
       "style": "IPY_MODEL_04dc036acc22433a8cc9efb66b7cdb26",
       "value": " 79/? [00:12&lt;00:00,  7.32it/s]"
      }
     },
     "7b64427904d84dcc92d3a3de536e54fb": {
      "model_module": "@jupyter-widgets/controls",
      "model_module_version": "1.5.0",
      "model_name": "FloatProgressModel",
      "state": {
       "description": "split=eval:   0%",
       "layout": "IPY_MODEL_d9fd1596c39f4dbe9f6d3655cd30b824",
       "max": 147,
       "style": "IPY_MODEL_1c923da2649848f9b07600e0e8bbf821"
      }
     },
     "7b7c949043c245a78218e6a419315b51": {
      "model_module": "@jupyter-widgets/controls",
      "model_module_version": "1.5.0",
      "model_name": "ProgressStyleModel",
      "state": {
       "description_width": "initial"
      }
     },
     "7bf254838d0c4530b853aed00ccbaa9f": {
      "model_module": "@jupyter-widgets/base",
      "model_module_version": "1.2.0",
      "model_name": "LayoutModel",
      "state": {}
     },
     "7c0eda68441d4c1a9426fa5b5cff6208": {
      "model_module": "@jupyter-widgets/base",
      "model_module_version": "1.2.0",
      "model_name": "LayoutModel",
      "state": {}
     },
     "7c1421662fbe45de83b8c79efd0107a5": {
      "model_module": "@jupyter-widgets/controls",
      "model_module_version": "1.5.0",
      "model_name": "HTMLModel",
      "state": {
       "layout": "IPY_MODEL_8480d8265cd948a0a07020e3fb993fb5",
       "style": "IPY_MODEL_bb7ff861ad2745bd9d601e524ca268dc",
       "value": " 79/? [00:12&lt;00:00,  7.32it/s]"
      }
     },
     "7c81d52e2ff047c1a141b5c132b0026a": {
      "model_module": "@jupyter-widgets/controls",
      "model_module_version": "1.5.0",
      "model_name": "HTMLModel",
      "state": {
       "layout": "IPY_MODEL_2f535589cdef4aaeb6786002c8b1b532",
       "style": "IPY_MODEL_ed688cc29ecd468783e72e9007e8e721",
       "value": " 8/? [00:01&lt;00:00,  6.86it/s]"
      }
     },
     "7cbb5e4703eb4858a85c8c586a60f668": {
      "model_module": "@jupyter-widgets/base",
      "model_module_version": "1.2.0",
      "model_name": "LayoutModel",
      "state": {}
     },
     "7d2ec235ba2642ec8401749c9931fa39": {
      "model_module": "@jupyter-widgets/base",
      "model_module_version": "1.2.0",
      "model_name": "LayoutModel",
      "state": {}
     },
     "7d553c68031a4c04abe5315d4a0d45b9": {
      "model_module": "@jupyter-widgets/controls",
      "model_module_version": "1.5.0",
      "model_name": "DescriptionStyleModel",
      "state": {
       "description_width": ""
      }
     },
     "7d69bc6587ec4702a241b594a57eadb6": {
      "model_module": "@jupyter-widgets/base",
      "model_module_version": "1.2.0",
      "model_name": "LayoutModel",
      "state": {}
     },
     "7e246d97b7fb4ed3ada7db48ea2f1334": {
      "model_module": "@jupyter-widgets/controls",
      "model_module_version": "1.5.0",
      "model_name": "FloatProgressModel",
      "state": {
       "description": "evaluation progress: ",
       "layout": "IPY_MODEL_21ab940f72034caaa7ceb2e3685b3cd5",
       "max": 78,
       "style": "IPY_MODEL_0ffcf5b846a6465aa1ac35065b973a41",
       "value": 78
      }
     },
     "7e6c7cc2f85948408f8c052380d1bb04": {
      "model_module": "@jupyter-widgets/controls",
      "model_module_version": "1.5.0",
      "model_name": "ProgressStyleModel",
      "state": {
       "description_width": "initial"
      }
     },
     "7ea75fe139ea4902bd71dc06f64540e9": {
      "model_module": "@jupyter-widgets/controls",
      "model_module_version": "1.5.0",
      "model_name": "FloatProgressModel",
      "state": {
       "description": "evaluation progress: ",
       "layout": "IPY_MODEL_49cfbe2ad44b4f09b1702697238aa263",
       "max": 78,
       "style": "IPY_MODEL_03c76503e8974f66a548b23f28a4e28e",
       "value": 78
      }
     },
     "7edb710956a24ef095292e7e1c4e3323": {
      "model_module": "@jupyter-widgets/controls",
      "model_module_version": "1.5.0",
      "model_name": "HBoxModel",
      "state": {
       "children": [
        "IPY_MODEL_c4e9a1765e044761af661d2bd517a360",
        "IPY_MODEL_dd9e5f512b9146d2b5b7c77470acb612"
       ],
       "layout": "IPY_MODEL_8d829029a46d4e1c8c3a69de9c04d58b"
      }
     },
     "7efc715859064427ba63b2362549209e": {
      "model_module": "@jupyter-widgets/controls",
      "model_module_version": "1.5.0",
      "model_name": "HTMLModel",
      "state": {
       "layout": "IPY_MODEL_03d316f4c64e4dbc824837db3682b843",
       "style": "IPY_MODEL_6c37926350e04356979f7673938b7d60",
       "value": " 79/? [00:12&lt;00:00,  7.33it/s]"
      }
     },
     "7f0221e98380412b899002aa16a46462": {
      "model_module": "@jupyter-widgets/base",
      "model_module_version": "1.2.0",
      "model_name": "LayoutModel",
      "state": {}
     },
     "7f222c36c7944b36bc65279c029bfacb": {
      "model_module": "@jupyter-widgets/controls",
      "model_module_version": "1.5.0",
      "model_name": "DescriptionStyleModel",
      "state": {
       "description_width": ""
      }
     },
     "7f61f5e90acc4f6d9f53edf580674e75": {
      "model_module": "@jupyter-widgets/controls",
      "model_module_version": "1.5.0",
      "model_name": "ProgressStyleModel",
      "state": {
       "description_width": "initial"
      }
     },
     "7fd75ce3fe85403c8251d8a4bdbe8678": {
      "model_module": "@jupyter-widgets/base",
      "model_module_version": "1.2.0",
      "model_name": "LayoutModel",
      "state": {}
     },
     "7fe5d785ab8b4c509e1e60b4bd27b86d": {
      "model_module": "@jupyter-widgets/controls",
      "model_module_version": "1.5.0",
      "model_name": "HTMLModel",
      "state": {
       "layout": "IPY_MODEL_78868e316bc14c678fb414d4784ecc7d",
       "style": "IPY_MODEL_42cfafc7c80c4b969f7981fe28c838a0",
       "value": " 8/8 [01:38&lt;00:00, 12.33s/it]"
      }
     },
     "80518c633afa42ccbeb3117b430cc194": {
      "model_module": "@jupyter-widgets/controls",
      "model_module_version": "1.5.0",
      "model_name": "DescriptionStyleModel",
      "state": {
       "description_width": ""
      }
     },
     "80eee5c2465f4833bd530f85a805fd58": {
      "model_module": "@jupyter-widgets/base",
      "model_module_version": "1.2.0",
      "model_name": "LayoutModel",
      "state": {}
     },
     "812ccc9841664e72af93c683ef0bbead": {
      "model_module": "@jupyter-widgets/base",
      "model_module_version": "1.2.0",
      "model_name": "LayoutModel",
      "state": {}
     },
     "813206e9ed5243b4871064d91d357019": {
      "model_module": "@jupyter-widgets/controls",
      "model_module_version": "1.5.0",
      "model_name": "FloatProgressModel",
      "state": {
       "description": "evaluation progress: ",
       "layout": "IPY_MODEL_9a3d3d92935741d185a848ce4e68e103",
       "max": 78,
       "style": "IPY_MODEL_de3bb6c12f554536aa1b6315daf54966",
       "value": 78
      }
     },
     "81538ed15c7a45c8a971105e5e802e00": {
      "model_module": "@jupyter-widgets/controls",
      "model_module_version": "1.5.0",
      "model_name": "ProgressStyleModel",
      "state": {
       "description_width": "initial"
      }
     },
     "819cfc17a5ce45aca5b53cac611f64be": {
      "model_module": "@jupyter-widgets/base",
      "model_module_version": "1.2.0",
      "model_name": "LayoutModel",
      "state": {}
     },
     "81ddbb4ca1b343459b301abfc30217a0": {
      "model_module": "@jupyter-widgets/controls",
      "model_module_version": "1.5.0",
      "model_name": "HTMLModel",
      "state": {
       "layout": "IPY_MODEL_57d842b007fe4a0bbc14902adcede044",
       "style": "IPY_MODEL_9f2acb95aec04901af4e24e930865544",
       "value": " 0/50 [00:00&lt;?, ?it/s]"
      }
     },
     "825d9bf6a03849edab3b3e550c3c95e0": {
      "model_module": "@jupyter-widgets/controls",
      "model_module_version": "1.5.0",
      "model_name": "DescriptionStyleModel",
      "state": {
       "description_width": ""
      }
     },
     "82ad963495bd4225b5620c5f5737fca7": {
      "model_module": "@jupyter-widgets/controls",
      "model_module_version": "1.5.0",
      "model_name": "HBoxModel",
      "state": {
       "children": [
        "IPY_MODEL_eb1203da62eb4e83b7c896feec77af64",
        "IPY_MODEL_a2ab484d01584f9281042582f291a597"
       ],
       "layout": "IPY_MODEL_d3332966ed524995ac15f1cfa7480846"
      }
     },
     "83a3adc05c224cdf97ba854d9847dd28": {
      "model_module": "@jupyter-widgets/controls",
      "model_module_version": "1.5.0",
      "model_name": "ProgressStyleModel",
      "state": {
       "description_width": "initial"
      }
     },
     "8480d8265cd948a0a07020e3fb993fb5": {
      "model_module": "@jupyter-widgets/base",
      "model_module_version": "1.2.0",
      "model_name": "LayoutModel",
      "state": {}
     },
     "850eeb38dee64e5aa149808090f0ac39": {
      "model_module": "@jupyter-widgets/controls",
      "model_module_version": "1.5.0",
      "model_name": "DescriptionStyleModel",
      "state": {
       "description_width": ""
      }
     },
     "85284dfe3c764a1bb6574ae20776e81f": {
      "model_module": "@jupyter-widgets/base",
      "model_module_version": "1.2.0",
      "model_name": "LayoutModel",
      "state": {}
     },
     "855e5f1499194680aeb96d86e6d587a9": {
      "model_module": "@jupyter-widgets/controls",
      "model_module_version": "1.5.0",
      "model_name": "HTMLModel",
      "state": {
       "layout": "IPY_MODEL_fd5e9312ea7b4995b1ab684e139c946a",
       "style": "IPY_MODEL_bf191f1993e644da92fc18692209d66d",
       "value": " 79/? [00:12&lt;00:00,  7.31it/s]"
      }
     },
     "85b9957850044653b4b03f1209c83e29": {
      "model_module": "@jupyter-widgets/controls",
      "model_module_version": "1.5.0",
      "model_name": "FloatProgressModel",
      "state": {
       "description": "evaluation progress: ",
       "layout": "IPY_MODEL_97a983217d9c4e1e8ac7f8646329b8ac",
       "max": 78,
       "style": "IPY_MODEL_753b5bd8b9e74406b6c53aa3216e3ec6",
       "value": 78
      }
     },
     "86b4828788314fa593f5cfa603ef12e7": {
      "model_module": "@jupyter-widgets/controls",
      "model_module_version": "1.5.0",
      "model_name": "DescriptionStyleModel",
      "state": {
       "description_width": ""
      }
     },
     "8721564e2bc849328a2ae1c94dcddb96": {
      "model_module": "@jupyter-widgets/base",
      "model_module_version": "1.2.0",
      "model_name": "LayoutModel",
      "state": {}
     },
     "87b67939070247a39b8645cb30f69254": {
      "model_module": "@jupyter-widgets/controls",
      "model_module_version": "1.5.0",
      "model_name": "FloatProgressModel",
      "state": {
       "description": "evaluation progress: ",
       "layout": "IPY_MODEL_d620e3384c1b47bfb3dd47645b8a8956",
       "max": 78,
       "style": "IPY_MODEL_c94862bf54d94c42b35bba68592b3803",
       "value": 78
      }
     },
     "87d403cc59e04586b61f2d9b08e15f89": {
      "model_module": "@jupyter-widgets/controls",
      "model_module_version": "1.5.0",
      "model_name": "HTMLModel",
      "state": {
       "layout": "IPY_MODEL_f78aa21aff8d4ee9b9f3485ad8519522",
       "style": "IPY_MODEL_09dffa9713924829b49bfe017fc2e754",
       "value": " 1496/1496 [22:05&lt;00:00,  1.13it/s, acc=0.955, epoch=9, f1=0.887, loss=0.124]"
      }
     },
     "87fbfe36adb443c1b1b394263e6cb9b2": {
      "model_module": "@jupyter-widgets/base",
      "model_module_version": "1.2.0",
      "model_name": "LayoutModel",
      "state": {}
     },
     "88ad1f7c92ed4a309f1f1bdf4a5ab1a2": {
      "model_module": "@jupyter-widgets/base",
      "model_module_version": "1.2.0",
      "model_name": "LayoutModel",
      "state": {}
     },
     "89bc8cecd7e146fba4aaf9f46c95a603": {
      "model_module": "@jupyter-widgets/controls",
      "model_module_version": "1.5.0",
      "model_name": "HBoxModel",
      "state": {
       "children": [
        "IPY_MODEL_1febb62c56904ad3a516747be458414a",
        "IPY_MODEL_2ad2ddca55454e07b11fb34a3b65411a"
       ],
       "layout": "IPY_MODEL_41dd484b1a9d49feaedc5b84fe28f1ad"
      }
     },
     "89d44091bfc249eb8e4154caaa89f8d9": {
      "model_module": "@jupyter-widgets/controls",
      "model_module_version": "1.5.0",
      "model_name": "HTMLModel",
      "state": {
       "layout": "IPY_MODEL_2619e93fb5af46e786af29a87d59d420",
       "style": "IPY_MODEL_a754c90794a44c2f95433582548e6c6c",
       "value": " 75/78 [00:11&lt;00:00,  6.77it/s]"
      }
     },
     "8a080ca463a840239a388075805886ef": {
      "model_module": "@jupyter-widgets/base",
      "model_module_version": "1.2.0",
      "model_name": "LayoutModel",
      "state": {}
     },
     "8a315098297b4e99a687a474fd7fba27": {
      "model_module": "@jupyter-widgets/base",
      "model_module_version": "1.2.0",
      "model_name": "LayoutModel",
      "state": {}
     },
     "8a76a4d60a3642dd91d0620ddd8ca2f8": {
      "model_module": "@jupyter-widgets/controls",
      "model_module_version": "1.5.0",
      "model_name": "HTMLModel",
      "state": {
       "layout": "IPY_MODEL_9c006a745c3a4cdea18b3e6c0c343e6a",
       "style": "IPY_MODEL_d8e99c8305774f7682fa76f479b5a447",
       "value": " 8/? [00:01&lt;00:00,  6.66it/s]"
      }
     },
     "8aa17e2652c744cd97f81a7e0dd77901": {
      "model_module": "@jupyter-widgets/base",
      "model_module_version": "1.2.0",
      "model_name": "LayoutModel",
      "state": {}
     },
     "8aa6b73791c94b0984928289a396ce15": {
      "model_module": "@jupyter-widgets/controls",
      "model_module_version": "1.5.0",
      "model_name": "ProgressStyleModel",
      "state": {
       "description_width": "initial"
      }
     },
     "8b5fe3a90f7c493da5e6bcd0b8c3aaaf": {
      "model_module": "@jupyter-widgets/controls",
      "model_module_version": "1.5.0",
      "model_name": "ProgressStyleModel",
      "state": {
       "description_width": "initial"
      }
     },
     "8b96c5bef4dc414bac6e8855ce1220c8": {
      "model_module": "@jupyter-widgets/controls",
      "model_module_version": "1.5.0",
      "model_name": "FloatProgressModel",
      "state": {
       "bar_style": "danger",
       "description": "  0%",
       "layout": "IPY_MODEL_6d2ed4d3e8d046a6a437f410e0a5b355",
       "max": 8,
       "style": "IPY_MODEL_1fabf10f4f164131b2917078bf3b9e56"
      }
     },
     "8bda54c11e5b42048581a79094ec702b": {
      "model_module": "@jupyter-widgets/controls",
      "model_module_version": "1.5.0",
      "model_name": "FloatProgressModel",
      "state": {
       "description": "evaluation progress: ",
       "layout": "IPY_MODEL_7aa1d78c6487441093704271c2caef9e",
       "max": 78,
       "style": "IPY_MODEL_922e0659e4f040a7bc35d21d09b75010",
       "value": 78
      }
     },
     "8be7b1e3b6834cbfabc28ad5001e5f6a": {
      "model_module": "@jupyter-widgets/base",
      "model_module_version": "1.2.0",
      "model_name": "LayoutModel",
      "state": {}
     },
     "8cb501b51ae241bcbb91be5eb3029685": {
      "model_module": "@jupyter-widgets/controls",
      "model_module_version": "1.5.0",
      "model_name": "FloatProgressModel",
      "state": {
       "description": "split=eval: ",
       "layout": "IPY_MODEL_c6257740d70e4b0fb2a9876076e19908",
       "max": 78,
       "style": "IPY_MODEL_a490efd37cb342aa94c960b32985c25f",
       "value": 78
      }
     },
     "8cf6112255db47ae9a3c6a9786fd3124": {
      "model_module": "@jupyter-widgets/base",
      "model_module_version": "1.2.0",
      "model_name": "LayoutModel",
      "state": {}
     },
     "8d829029a46d4e1c8c3a69de9c04d58b": {
      "model_module": "@jupyter-widgets/base",
      "model_module_version": "1.2.0",
      "model_name": "LayoutModel",
      "state": {}
     },
     "8e0bfea5414543a184208e6a4aa6a07e": {
      "model_module": "@jupyter-widgets/base",
      "model_module_version": "1.2.0",
      "model_name": "LayoutModel",
      "state": {}
     },
     "8e95c3ac6e0b47bb943269842ada7fdc": {
      "model_module": "@jupyter-widgets/controls",
      "model_module_version": "1.5.0",
      "model_name": "HTMLModel",
      "state": {
       "layout": "IPY_MODEL_c834a19f90cd4868a9facc8953b16a78",
       "style": "IPY_MODEL_b07d814ef30c4e2d881cbd2206b28e87",
       "value": " 5/20 [1:52:31&lt;5:37:35, 1350.36s/it, best_f1=0.771, current=0.771]"
      }
     },
     "8f2b55268e8d41198bbcea40f377a9c0": {
      "model_module": "@jupyter-widgets/controls",
      "model_module_version": "1.5.0",
      "model_name": "HTMLModel",
      "state": {
       "layout": "IPY_MODEL_7118c9970cd64a7f968dcd0b531c398b",
       "style": "IPY_MODEL_b353d67801274b579f8713f4ddfae566",
       "value": " 79/? [00:12&lt;00:00,  7.32it/s]"
      }
     },
     "8f4ed843a2ac43b1ac5c83a118afb1c2": {
      "model_module": "@jupyter-widgets/controls",
      "model_module_version": "1.5.0",
      "model_name": "HBoxModel",
      "state": {
       "children": [
        "IPY_MODEL_a140f19d760c4778966c154d5f3104f1",
        "IPY_MODEL_421d7180e08848ed8c099380d187f089"
       ],
       "layout": "IPY_MODEL_c5443dbbbc8c459dafb5dcd04a304315"
      }
     },
     "8f82436dcb3344bf8d73beaf8f7cf7c1": {
      "model_module": "@jupyter-widgets/controls",
      "model_module_version": "1.5.0",
      "model_name": "FloatProgressModel",
      "state": {
       "description": "evaluation progress: ",
       "layout": "IPY_MODEL_4bf39c9cbeb54d5aa7100ad904a062a5",
       "max": 78,
       "style": "IPY_MODEL_5138cac058a2496b8cdba771389905db",
       "value": 78
      }
     },
     "8fb1a9cd1d5743eea5efc9ed29dc27d9": {
      "model_module": "@jupyter-widgets/base",
      "model_module_version": "1.2.0",
      "model_name": "LayoutModel",
      "state": {}
     },
     "8fcd1d3d333e43c3ab3f5fc048c0b305": {
      "model_module": "@jupyter-widgets/controls",
      "model_module_version": "1.5.0",
      "model_name": "HTMLModel",
      "state": {
       "layout": "IPY_MODEL_bc8daaae79884b41a5de69b80d180b1d",
       "style": "IPY_MODEL_33cdc8352b69417faca915abfaeb2c8c",
       "value": " 79/? [00:23&lt;00:00,  3.68it/s, acc=0.902, epoch=9, f1=0.751, loss=0.372]"
      }
     },
     "901fbd742ae84c438e3a92fe644d98e7": {
      "model_module": "@jupyter-widgets/controls",
      "model_module_version": "1.5.0",
      "model_name": "ProgressStyleModel",
      "state": {
       "description_width": "initial"
      }
     },
     "90df39cb9ed144658100a593b262b0dd": {
      "model_module": "@jupyter-widgets/base",
      "model_module_version": "1.2.0",
      "model_name": "LayoutModel",
      "state": {}
     },
     "90e27151973f4436953a15cfca4257fc": {
      "model_module": "@jupyter-widgets/base",
      "model_module_version": "1.2.0",
      "model_name": "LayoutModel",
      "state": {}
     },
     "90e8e562718c4ea0857778990e869c40": {
      "model_module": "@jupyter-widgets/controls",
      "model_module_version": "1.5.0",
      "model_name": "ProgressStyleModel",
      "state": {
       "description_width": "initial"
      }
     },
     "91034a21537e4d1389ec307fe96a06f6": {
      "model_module": "@jupyter-widgets/controls",
      "model_module_version": "1.5.0",
      "model_name": "FloatProgressModel",
      "state": {
       "description": "evaluation progress: ",
       "layout": "IPY_MODEL_aea4e69297464fd2867aaef4bd925dc2",
       "max": 78,
       "style": "IPY_MODEL_d23b92e1637d4d5ab52df40a6d6903e9",
       "value": 78
      }
     },
     "910e5316f00c476392d83e18d27dbb31": {
      "model_module": "@jupyter-widgets/controls",
      "model_module_version": "1.5.0",
      "model_name": "ProgressStyleModel",
      "state": {
       "description_width": "initial"
      }
     },
     "91d6ac762ba84a618501cc9c9f6a0237": {
      "model_module": "@jupyter-widgets/base",
      "model_module_version": "1.2.0",
      "model_name": "LayoutModel",
      "state": {}
     },
     "922e0659e4f040a7bc35d21d09b75010": {
      "model_module": "@jupyter-widgets/controls",
      "model_module_version": "1.5.0",
      "model_name": "ProgressStyleModel",
      "state": {
       "description_width": "initial"
      }
     },
     "92a78eef62614250a4d83cf0a3009bec": {
      "model_module": "@jupyter-widgets/base",
      "model_module_version": "1.2.0",
      "model_name": "LayoutModel",
      "state": {}
     },
     "92d47a5c07b64b70ba2657750e1618d4": {
      "model_module": "@jupyter-widgets/controls",
      "model_module_version": "1.5.0",
      "model_name": "FloatProgressModel",
      "state": {
       "description": "evaluation progress: ",
       "layout": "IPY_MODEL_2c009fbdd7864ea59a245124bfe3d213",
       "max": 78,
       "style": "IPY_MODEL_b4e6b08859b24be4b37b903fda3f1fe1",
       "value": 78
      }
     },
     "9341dba98aea49bc8a74b1156864401d": {
      "model_module": "@jupyter-widgets/controls",
      "model_module_version": "1.5.0",
      "model_name": "FloatProgressModel",
      "state": {
       "description": "evaluation progress: ",
       "layout": "IPY_MODEL_fe15a6adfdda41cc92bd6bccb6efe65c",
       "max": 7,
       "style": "IPY_MODEL_bbe9483b11fb42c88d0474bdf039a5d1",
       "value": 7
      }
     },
     "93dbf1fc06bc4988b7ccfd6a35c9fd79": {
      "model_module": "@jupyter-widgets/base",
      "model_module_version": "1.2.0",
      "model_name": "LayoutModel",
      "state": {}
     },
     "93e02d44fe314b9c80ff1dbef6f0e81a": {
      "model_module": "@jupyter-widgets/controls",
      "model_module_version": "1.5.0",
      "model_name": "FloatProgressModel",
      "state": {
       "bar_style": "success",
       "description": "100%",
       "layout": "IPY_MODEL_97a29ceaa0524bef93e7e9e3837281f7",
       "max": 6,
       "style": "IPY_MODEL_b9e72e18a85d4dc589059f91b077eb8f",
       "value": 6
      }
     },
     "943615d43592437fb11b06073a0f4d14": {
      "model_module": "@jupyter-widgets/controls",
      "model_module_version": "1.5.0",
      "model_name": "DescriptionStyleModel",
      "state": {
       "description_width": ""
      }
     },
     "9444dd3e4ed64e3faef2effb4ed41ed1": {
      "model_module": "@jupyter-widgets/controls",
      "model_module_version": "1.5.0",
      "model_name": "ProgressStyleModel",
      "state": {
       "description_width": "initial"
      }
     },
     "94ed4ebd0833482fa14c03c8d6b15574": {
      "model_module": "@jupyter-widgets/base",
      "model_module_version": "1.2.0",
      "model_name": "LayoutModel",
      "state": {}
     },
     "951abc7b6a01420db66627e00ae1db73": {
      "model_module": "@jupyter-widgets/controls",
      "model_module_version": "1.5.0",
      "model_name": "FloatProgressModel",
      "state": {
       "description": "evaluation progress: ",
       "layout": "IPY_MODEL_4ffa484ce34643a6a3a8eaccd5410e31",
       "max": 78,
       "style": "IPY_MODEL_8aa6b73791c94b0984928289a396ce15",
       "value": 78
      }
     },
     "9521ab93510048e68d73ad80f5d5fcb2": {
      "model_module": "@jupyter-widgets/controls",
      "model_module_version": "1.5.0",
      "model_name": "ProgressStyleModel",
      "state": {
       "description_width": "initial"
      }
     },
     "958fa284b8f14701a3bc334f43722e8c": {
      "model_module": "@jupyter-widgets/controls",
      "model_module_version": "1.5.0",
      "model_name": "DescriptionStyleModel",
      "state": {
       "description_width": ""
      }
     },
     "9648e52aaad745a492ef4c6c4844fe34": {
      "model_module": "@jupyter-widgets/controls",
      "model_module_version": "1.5.0",
      "model_name": "HTMLModel",
      "state": {
       "layout": "IPY_MODEL_fcdc263d69594156b3892461778deac2",
       "style": "IPY_MODEL_c510d9a09fcd4cf8b63e522095a204f0",
       "value": " 6/6 [00:08&lt;00:00,  1.48s/it]"
      }
     },
     "97005b2879c24e978d1fe7123a786020": {
      "model_module": "@jupyter-widgets/base",
      "model_module_version": "1.2.0",
      "model_name": "LayoutModel",
      "state": {}
     },
     "9723e088bd384d42bae18ce0e1a82fef": {
      "model_module": "@jupyter-widgets/base",
      "model_module_version": "1.2.0",
      "model_name": "LayoutModel",
      "state": {}
     },
     "974680366c8e464ba4103e88b2c73815": {
      "model_module": "@jupyter-widgets/controls",
      "model_module_version": "1.5.0",
      "model_name": "HTMLModel",
      "state": {
       "layout": "IPY_MODEL_2bfb4e1814f24a159d8c00eb61342e34",
       "style": "IPY_MODEL_73107225720a40118f1a5777d6e15d72",
       "value": " 79/? [00:12&lt;00:00,  7.33it/s]"
      }
     },
     "9755c28d03fc4b569b43b8ff9078b488": {
      "model_module": "@jupyter-widgets/controls",
      "model_module_version": "1.5.0",
      "model_name": "DescriptionStyleModel",
      "state": {
       "description_width": ""
      }
     },
     "975b369046e142beaa7652be3dccaa3a": {
      "model_module": "@jupyter-widgets/controls",
      "model_module_version": "1.5.0",
      "model_name": "HBoxModel",
      "state": {
       "children": [
        "IPY_MODEL_34306b0cd1a74ba38905e3c10d9b81df",
        "IPY_MODEL_4e5f50b7f6c74409b352e17b54ce33e7"
       ],
       "layout": "IPY_MODEL_0ef1548de823458a9637b792c25564eb"
      }
     },
     "97a29ceaa0524bef93e7e9e3837281f7": {
      "model_module": "@jupyter-widgets/base",
      "model_module_version": "1.2.0",
      "model_name": "LayoutModel",
      "state": {}
     },
     "97a983217d9c4e1e8ac7f8646329b8ac": {
      "model_module": "@jupyter-widgets/base",
      "model_module_version": "1.2.0",
      "model_name": "LayoutModel",
      "state": {}
     },
     "97aba415b460411c8ce6272902dfce32": {
      "model_module": "@jupyter-widgets/base",
      "model_module_version": "1.2.0",
      "model_name": "LayoutModel",
      "state": {}
     },
     "982ec189393c4a6cafd040992cf61bcf": {
      "model_module": "@jupyter-widgets/controls",
      "model_module_version": "1.5.0",
      "model_name": "ProgressStyleModel",
      "state": {
       "description_width": "initial"
      }
     },
     "991c48fd28be46b3bd0628ca9f04543a": {
      "model_module": "@jupyter-widgets/controls",
      "model_module_version": "1.5.0",
      "model_name": "FloatProgressModel",
      "state": {
       "description": "evaluation progress: ",
       "layout": "IPY_MODEL_f5aa78b626a3431a8e6d485c4d166116",
       "max": 78,
       "style": "IPY_MODEL_9f28c6b2dbb64033ac9732927fca15fe",
       "value": 78
      }
     },
     "994c7bc4296047019859d2519191ce53": {
      "model_module": "@jupyter-widgets/controls",
      "model_module_version": "1.5.0",
      "model_name": "DescriptionStyleModel",
      "state": {
       "description_width": ""
      }
     },
     "9a26435c5b124274bdde684889a0673e": {
      "model_module": "@jupyter-widgets/controls",
      "model_module_version": "1.5.0",
      "model_name": "HTMLModel",
      "state": {
       "layout": "IPY_MODEL_f6f85d3a86ef4824814e57b315e9089b",
       "style": "IPY_MODEL_b016d8cb033e4bf8b202c83ad15d2d57",
       "value": " 8/8 [01:38&lt;00:00, 12.33s/it]"
      }
     },
     "9a3a581e23ac419f96f00e5edb916902": {
      "model_module": "@jupyter-widgets/controls",
      "model_module_version": "1.5.0",
      "model_name": "ProgressStyleModel",
      "state": {
       "description_width": "initial"
      }
     },
     "9a3d3d92935741d185a848ce4e68e103": {
      "model_module": "@jupyter-widgets/base",
      "model_module_version": "1.2.0",
      "model_name": "LayoutModel",
      "state": {}
     },
     "9a46b7612ac0449ba7a893356683aed8": {
      "model_module": "@jupyter-widgets/controls",
      "model_module_version": "1.5.0",
      "model_name": "ProgressStyleModel",
      "state": {
       "description_width": "initial"
      }
     },
     "9ab075d951b845fcb1d94efabf6d4cd2": {
      "model_module": "@jupyter-widgets/controls",
      "model_module_version": "1.5.0",
      "model_name": "FloatProgressModel",
      "state": {
       "description": "evaluation progress: ",
       "layout": "IPY_MODEL_e44369952de5472a89e00e94fb8b905e",
       "max": 78,
       "style": "IPY_MODEL_5e5006f9e988477391a4d4da6b5b8bc6",
       "value": 78
      }
     },
     "9b2ce9b6fd8e484e84e0539da2162be0": {
      "model_module": "@jupyter-widgets/base",
      "model_module_version": "1.2.0",
      "model_name": "LayoutModel",
      "state": {}
     },
     "9c006a745c3a4cdea18b3e6c0c343e6a": {
      "model_module": "@jupyter-widgets/base",
      "model_module_version": "1.2.0",
      "model_name": "LayoutModel",
      "state": {}
     },
     "9c7d98f69f614641b35bfc3e79ea9bfc": {
      "model_module": "@jupyter-widgets/controls",
      "model_module_version": "1.5.0",
      "model_name": "DescriptionStyleModel",
      "state": {
       "description_width": ""
      }
     },
     "9d7f588ba5694575a62d812f490e9ddc": {
      "model_module": "@jupyter-widgets/base",
      "model_module_version": "1.2.0",
      "model_name": "LayoutModel",
      "state": {}
     },
     "9dcd02bfafaf4e3da18e4f6e12b7f62d": {
      "model_module": "@jupyter-widgets/base",
      "model_module_version": "1.2.0",
      "model_name": "LayoutModel",
      "state": {}
     },
     "9e3a05c90d9b46de8c9570205f6882e5": {
      "model_module": "@jupyter-widgets/controls",
      "model_module_version": "1.5.0",
      "model_name": "HTMLModel",
      "state": {
       "layout": "IPY_MODEL_c7a2caf7234b405b98896d9ab3b7363d",
       "style": "IPY_MODEL_850eeb38dee64e5aa149808090f0ac39",
       "value": " 0/118 [00:00&lt;?, ?it/s]"
      }
     },
     "9e882588c5d64a07bc7d75c37e812e8f": {
      "model_module": "@jupyter-widgets/base",
      "model_module_version": "1.2.0",
      "model_name": "LayoutModel",
      "state": {}
     },
     "9f0f10f701864978836a77d5dda30bb5": {
      "model_module": "@jupyter-widgets/base",
      "model_module_version": "1.2.0",
      "model_name": "LayoutModel",
      "state": {}
     },
     "9f140a4fb19d417ca7873a698fe5cb34": {
      "model_module": "@jupyter-widgets/controls",
      "model_module_version": "1.5.0",
      "model_name": "FloatProgressModel",
      "state": {
       "description": "evaluation progress: ",
       "layout": "IPY_MODEL_a63941c32cb5488087c74383a229fc50",
       "max": 78,
       "style": "IPY_MODEL_af020f1ad89249088a4ab40b150f28e0",
       "value": 78
      }
     },
     "9f28c6b2dbb64033ac9732927fca15fe": {
      "model_module": "@jupyter-widgets/controls",
      "model_module_version": "1.5.0",
      "model_name": "ProgressStyleModel",
      "state": {
       "description_width": "initial"
      }
     },
     "9f2acb95aec04901af4e24e930865544": {
      "model_module": "@jupyter-widgets/controls",
      "model_module_version": "1.5.0",
      "model_name": "DescriptionStyleModel",
      "state": {
       "description_width": ""
      }
     },
     "9f38870c750a4e9c9ad305197ad99efd": {
      "model_module": "@jupyter-widgets/controls",
      "model_module_version": "1.5.0",
      "model_name": "FloatProgressModel",
      "state": {
       "description": "evaluation progress: ",
       "layout": "IPY_MODEL_88ad1f7c92ed4a309f1f1bdf4a5ab1a2",
       "max": 78,
       "style": "IPY_MODEL_0102df6a46c24b3c999239b91a319db3",
       "value": 78
      }
     },
     "9f7365351c694cf380ddc11b03e2db07": {
      "model_module": "@jupyter-widgets/controls",
      "model_module_version": "1.5.0",
      "model_name": "DescriptionStyleModel",
      "state": {
       "description_width": ""
      }
     },
     "9f8be6043168417e9854f2a2b7a688d1": {
      "model_module": "@jupyter-widgets/base",
      "model_module_version": "1.2.0",
      "model_name": "LayoutModel",
      "state": {}
     },
     "a0cca9545a9b4879ac54817b8f60bd76": {
      "model_module": "@jupyter-widgets/controls",
      "model_module_version": "1.5.0",
      "model_name": "HTMLModel",
      "state": {
       "layout": "IPY_MODEL_3c6f61f0052343409c5bb33854f21e65",
       "style": "IPY_MODEL_03bb3238af92495d9349184b98124c60",
       "value": " 79/? [00:12&lt;00:00,  7.31it/s]"
      }
     },
     "a0fbed9669d349af81157c40550a409d": {
      "model_module": "@jupyter-widgets/controls",
      "model_module_version": "1.5.0",
      "model_name": "ProgressStyleModel",
      "state": {
       "description_width": "initial"
      }
     },
     "a140f19d760c4778966c154d5f3104f1": {
      "model_module": "@jupyter-widgets/controls",
      "model_module_version": "1.5.0",
      "model_name": "FloatProgressModel",
      "state": {
       "description": "split=eval: ",
       "layout": "IPY_MODEL_3fc3e4a89fd2480084ef37edfcd168f9",
       "max": 147,
       "style": "IPY_MODEL_2915ecfc84d9464b9075dfac446ea814",
       "value": 147
      }
     },
     "a1b96c6c268a4303a681afdddf682ab9": {
      "model_module": "@jupyter-widgets/controls",
      "model_module_version": "1.5.0",
      "model_name": "FloatProgressModel",
      "state": {
       "description": "evaluation progress: ",
       "layout": "IPY_MODEL_2e7704dc310b4135994c5af1079f5d13",
       "max": 7,
       "style": "IPY_MODEL_008a5a23b322466e8f9a12d87d621938",
       "value": 7
      }
     },
     "a27ec80a16c24e5f9af31fc6b7082fc6": {
      "model_module": "@jupyter-widgets/controls",
      "model_module_version": "1.5.0",
      "model_name": "HBoxModel",
      "state": {
       "children": [
        "IPY_MODEL_d9db3b91e61443008e24197e815ec6ec",
        "IPY_MODEL_9e3a05c90d9b46de8c9570205f6882e5"
       ],
       "layout": "IPY_MODEL_345c42d3c3d942f795304738ba936c2a"
      }
     },
     "a2ab484d01584f9281042582f291a597": {
      "model_module": "@jupyter-widgets/controls",
      "model_module_version": "1.5.0",
      "model_name": "HTMLModel",
      "state": {
       "layout": "IPY_MODEL_750506a30c20428d8bca051454deb79b",
       "style": "IPY_MODEL_e744327bd44e45ab87867c81f1bf91db",
       "value": " 10/10 [02:03&lt;00:00, 12.31s/it]"
      }
     },
     "a2b9a8d985894982bdfc02c33c511102": {
      "model_module": "@jupyter-widgets/controls",
      "model_module_version": "1.5.0",
      "model_name": "HBoxModel",
      "state": {
       "children": [
        "IPY_MODEL_b1ba83bf274a4026895af9c97a8d6f6c",
        "IPY_MODEL_25e88506ed56463b9139169e55526c5c"
       ],
       "layout": "IPY_MODEL_e75fd560d0404a45b923328cab61f7b8"
      }
     },
     "a31a3b6ee75b42cd8894c1c8ea1cff3a": {
      "model_module": "@jupyter-widgets/base",
      "model_module_version": "1.2.0",
      "model_name": "LayoutModel",
      "state": {}
     },
     "a35d33a5a9d543bd9c4e7c5d75563205": {
      "model_module": "@jupyter-widgets/controls",
      "model_module_version": "1.5.0",
      "model_name": "FloatProgressModel",
      "state": {
       "description": "evaluation progress: ",
       "layout": "IPY_MODEL_ddd79796b6214aa49fbd8d3d185b8eeb",
       "max": 78,
       "style": "IPY_MODEL_a78389aff6b84eeea8db125880cf6cd7",
       "value": 78
      }
     },
     "a360a95556dd4048844f7694d378b4a8": {
      "model_module": "@jupyter-widgets/controls",
      "model_module_version": "1.5.0",
      "model_name": "FloatProgressModel",
      "state": {
       "description": "evaluation progress: ",
       "layout": "IPY_MODEL_1c0529c845804117b3861979d5b7f6ad",
       "max": 78,
       "style": "IPY_MODEL_4573623b8e174d77a3e272b8b2800a17",
       "value": 78
      }
     },
     "a3669da9fec844a38cc19e7c93595011": {
      "model_module": "@jupyter-widgets/controls",
      "model_module_version": "1.5.0",
      "model_name": "FloatProgressModel",
      "state": {
       "description": "training_routine:  25%",
       "layout": "IPY_MODEL_8fb1a9cd1d5743eea5efc9ed29dc27d9",
       "max": 20,
       "style": "IPY_MODEL_bf51ff3511e7471d84a72e57529fa6f5",
       "value": 5
      }
     },
     "a3eda8481e60476fb35c96f689ff03f6": {
      "model_module": "@jupyter-widgets/controls",
      "model_module_version": "1.5.0",
      "model_name": "HBoxModel",
      "state": {
       "children": [
        "IPY_MODEL_87b67939070247a39b8645cb30f69254",
        "IPY_MODEL_1b79c077bb3141fe93316f19817e5346"
       ],
       "layout": "IPY_MODEL_01b64ccc019a45768e866c5e8ac81982"
      }
     },
     "a40a50db73514afbb14bfbbf45dfb41d": {
      "model_module": "@jupyter-widgets/base",
      "model_module_version": "1.2.0",
      "model_name": "LayoutModel",
      "state": {}
     },
     "a48058627665413caa04e773bd84da1e": {
      "model_module": "@jupyter-widgets/controls",
      "model_module_version": "1.5.0",
      "model_name": "DescriptionStyleModel",
      "state": {
       "description_width": ""
      }
     },
     "a490efd37cb342aa94c960b32985c25f": {
      "model_module": "@jupyter-widgets/controls",
      "model_module_version": "1.5.0",
      "model_name": "ProgressStyleModel",
      "state": {
       "description_width": "initial"
      }
     },
     "a4bbffeaa5b74eeba5875b133f149d1e": {
      "model_module": "@jupyter-widgets/base",
      "model_module_version": "1.2.0",
      "model_name": "LayoutModel",
      "state": {}
     },
     "a4f8fab3f9c74d698d5eb317cf31a337": {
      "model_module": "@jupyter-widgets/controls",
      "model_module_version": "1.5.0",
      "model_name": "HBoxModel",
      "state": {
       "children": [
        "IPY_MODEL_26cf83e6e5f647489277555cd327c9ca",
        "IPY_MODEL_a67b7b54bd284a7f86f0555b25b9f10c"
       ],
       "layout": "IPY_MODEL_d474d53c18fd4381a05a1be10b75ba7e"
      }
     },
     "a63941c32cb5488087c74383a229fc50": {
      "model_module": "@jupyter-widgets/base",
      "model_module_version": "1.2.0",
      "model_name": "LayoutModel",
      "state": {}
     },
     "a651c546dd2d44baa9497ee45cd1b48b": {
      "model_module": "@jupyter-widgets/base",
      "model_module_version": "1.2.0",
      "model_name": "LayoutModel",
      "state": {}
     },
     "a67b7b54bd284a7f86f0555b25b9f10c": {
      "model_module": "@jupyter-widgets/controls",
      "model_module_version": "1.5.0",
      "model_name": "HTMLModel",
      "state": {
       "layout": "IPY_MODEL_7d2ec235ba2642ec8401749c9931fa39",
       "style": "IPY_MODEL_6a59738bea5045199ab2d9c0b23dcfe8",
       "value": " 0/50 [00:00&lt;?, ?it/s]"
      }
     },
     "a67d8bbf32514053a2648a36f1c22365": {
      "model_module": "@jupyter-widgets/controls",
      "model_module_version": "1.5.0",
      "model_name": "HTMLModel",
      "state": {
       "layout": "IPY_MODEL_97aba415b460411c8ce6272902dfce32",
       "style": "IPY_MODEL_d8ba757869b74592b6f84523fcfd4c61",
       "value": " 0/8 [00:00&lt;?, ?it/s]"
      }
     },
     "a6f2afe589af417aa8add8dbc13f0246": {
      "model_module": "@jupyter-widgets/controls",
      "model_module_version": "1.5.0",
      "model_name": "HBoxModel",
      "state": {
       "children": [
        "IPY_MODEL_fc2c7807e9664c85a3fceeabdb5fb46e",
        "IPY_MODEL_7fe5d785ab8b4c509e1e60b4bd27b86d"
       ],
       "layout": "IPY_MODEL_f8a446fc27044030820bfebe169fd34a"
      }
     },
     "a6f3cc8e8251421fbd6172c74f9a021a": {
      "model_module": "@jupyter-widgets/base",
      "model_module_version": "1.2.0",
      "model_name": "LayoutModel",
      "state": {}
     },
     "a6ff29088d08435199fdb7393e66a4e4": {
      "model_module": "@jupyter-widgets/base",
      "model_module_version": "1.2.0",
      "model_name": "LayoutModel",
      "state": {}
     },
     "a748c81829ea4e79a45c1711f5331d50": {
      "model_module": "@jupyter-widgets/controls",
      "model_module_version": "1.5.0",
      "model_name": "FloatProgressModel",
      "state": {
       "description": "evaluation progress:  33%",
       "layout": "IPY_MODEL_6f531749ab9a4786bcb2fc8009ee1197",
       "max": 78,
       "style": "IPY_MODEL_1a987d0364b445e7b3d47a33cd41b391",
       "value": 26
      }
     },
     "a754c90794a44c2f95433582548e6c6c": {
      "model_module": "@jupyter-widgets/controls",
      "model_module_version": "1.5.0",
      "model_name": "DescriptionStyleModel",
      "state": {
       "description_width": ""
      }
     },
     "a7658b45381a4d309d093a310f0cca2d": {
      "model_module": "@jupyter-widgets/base",
      "model_module_version": "1.2.0",
      "model_name": "LayoutModel",
      "state": {}
     },
     "a78389aff6b84eeea8db125880cf6cd7": {
      "model_module": "@jupyter-widgets/controls",
      "model_module_version": "1.5.0",
      "model_name": "ProgressStyleModel",
      "state": {
       "description_width": "initial"
      }
     },
     "a8aeee9d27474ee6b6251c80d7f992f8": {
      "model_module": "@jupyter-widgets/controls",
      "model_module_version": "1.5.0",
      "model_name": "FloatProgressModel",
      "state": {
       "description": "evaluation progress: ",
       "layout": "IPY_MODEL_00c08dec528b4c99b02444ad046393e2",
       "max": 78,
       "style": "IPY_MODEL_e629b8cf0cce4909969696ae6ba2942a",
       "value": 78
      }
     },
     "a8b4eba49fb743adad9e47ef6b690ce1": {
      "model_module": "@jupyter-widgets/controls",
      "model_module_version": "1.5.0",
      "model_name": "FloatProgressModel",
      "state": {
       "description": "evaluation progress: ",
       "layout": "IPY_MODEL_9f0f10f701864978836a77d5dda30bb5",
       "max": 7,
       "style": "IPY_MODEL_4946ae818c4e49d887e6921aa661a059",
       "value": 7
      }
     },
     "a91ffb0bae9345389d9c91c175af53ad": {
      "model_module": "@jupyter-widgets/base",
      "model_module_version": "1.2.0",
      "model_name": "LayoutModel",
      "state": {}
     },
     "aa04e3887df945779be9f2ae6766f4eb": {
      "model_module": "@jupyter-widgets/controls",
      "model_module_version": "1.5.0",
      "model_name": "HBoxModel",
      "state": {
       "children": [
        "IPY_MODEL_18aef5752674464dbc03db8a9450b01c",
        "IPY_MODEL_c08975038be046ddb5dfd6fded9ee8f2"
       ],
       "layout": "IPY_MODEL_91d6ac762ba84a618501cc9c9f6a0237"
      }
     },
     "aa5c75badf1e4602b3e263f84c71ced1": {
      "model_module": "@jupyter-widgets/controls",
      "model_module_version": "1.5.0",
      "model_name": "DescriptionStyleModel",
      "state": {
       "description_width": ""
      }
     },
     "ab112a30cb58418c96ff67ba270ff009": {
      "model_module": "@jupyter-widgets/controls",
      "model_module_version": "1.5.0",
      "model_name": "DescriptionStyleModel",
      "state": {
       "description_width": ""
      }
     },
     "ab7302dbdc164eb295f951c18b2d249f": {
      "model_module": "@jupyter-widgets/controls",
      "model_module_version": "1.5.0",
      "model_name": "HTMLModel",
      "state": {
       "layout": "IPY_MODEL_7cbb5e4703eb4858a85c8c586a60f668",
       "style": "IPY_MODEL_ab112a30cb58418c96ff67ba270ff009",
       "value": " 79/? [00:12&lt;00:00,  7.32it/s]"
      }
     },
     "ac1674f56f5040da8337c57537f7f546": {
      "model_module": "@jupyter-widgets/controls",
      "model_module_version": "1.5.0",
      "model_name": "HTMLModel",
      "state": {
       "layout": "IPY_MODEL_2ea3dd9cbf0048438f5b76b1ef67e6a8",
       "style": "IPY_MODEL_cd891a8f9ebb4624b752ba20a778934e",
       "value": " 79/? [00:12&lt;00:00,  7.31it/s]"
      }
     },
     "ac576d77645a4826aabde9bd98ddc72e": {
      "model_module": "@jupyter-widgets/controls",
      "model_module_version": "1.5.0",
      "model_name": "HTMLModel",
      "state": {
       "layout": "IPY_MODEL_8be7b1e3b6834cbfabc28ad5001e5f6a",
       "style": "IPY_MODEL_207fd05e76844cbf876baa374781e7e8",
       "value": " 79/? [00:12&lt;00:00,  7.33it/s]"
      }
     },
     "ac9840dba36e44fb8997b62afb788f4c": {
      "model_module": "@jupyter-widgets/base",
      "model_module_version": "1.2.0",
      "model_name": "LayoutModel",
      "state": {}
     },
     "ada469167f254b589151a4d649b2b037": {
      "model_module": "@jupyter-widgets/base",
      "model_module_version": "1.2.0",
      "model_name": "LayoutModel",
      "state": {}
     },
     "ae2631039e8f43aa9da374b93e9ac4cc": {
      "model_module": "@jupyter-widgets/controls",
      "model_module_version": "1.5.0",
      "model_name": "HBoxModel",
      "state": {
       "children": [
        "IPY_MODEL_c1d26cf6a6794e30a56be51bc4abdde7",
        "IPY_MODEL_614ec531f7904717b771d9dc8d17d19a"
       ],
       "layout": "IPY_MODEL_10a2ce59992d4da6a597bca0a1483057"
      }
     },
     "aea4e69297464fd2867aaef4bd925dc2": {
      "model_module": "@jupyter-widgets/base",
      "model_module_version": "1.2.0",
      "model_name": "LayoutModel",
      "state": {}
     },
     "aedcd795daf6476990bbe62b67ed5400": {
      "model_module": "@jupyter-widgets/base",
      "model_module_version": "1.2.0",
      "model_name": "LayoutModel",
      "state": {}
     },
     "af020f1ad89249088a4ab40b150f28e0": {
      "model_module": "@jupyter-widgets/controls",
      "model_module_version": "1.5.0",
      "model_name": "ProgressStyleModel",
      "state": {
       "description_width": "initial"
      }
     },
     "af4b5db8f4ae42fda4de9ff4a546d861": {
      "model_module": "@jupyter-widgets/base",
      "model_module_version": "1.2.0",
      "model_name": "LayoutModel",
      "state": {}
     },
     "af76d800d3fd46b6accc9a8d9894705b": {
      "model_module": "@jupyter-widgets/controls",
      "model_module_version": "1.5.0",
      "model_name": "FloatProgressModel",
      "state": {
       "description": "evaluation progress: ",
       "layout": "IPY_MODEL_419f0cca213f49419bfce799e25bbd39",
       "max": 7,
       "style": "IPY_MODEL_7ab4feb670654e21a82939b6321342c4",
       "value": 7
      }
     },
     "afd8adbf7cec47ceab74179fa5991d06": {
      "model_module": "@jupyter-widgets/base",
      "model_module_version": "1.2.0",
      "model_name": "LayoutModel",
      "state": {}
     },
     "b016d8cb033e4bf8b202c83ad15d2d57": {
      "model_module": "@jupyter-widgets/controls",
      "model_module_version": "1.5.0",
      "model_name": "DescriptionStyleModel",
      "state": {
       "description_width": ""
      }
     },
     "b07d814ef30c4e2d881cbd2206b28e87": {
      "model_module": "@jupyter-widgets/controls",
      "model_module_version": "1.5.0",
      "model_name": "DescriptionStyleModel",
      "state": {
       "description_width": ""
      }
     },
     "b08b72a4f60b4ac29503f167b7d9db6f": {
      "model_module": "@jupyter-widgets/controls",
      "model_module_version": "1.5.0",
      "model_name": "DescriptionStyleModel",
      "state": {
       "description_width": ""
      }
     },
     "b08dc686ddb04b53b78871409499f9dc": {
      "model_module": "@jupyter-widgets/base",
      "model_module_version": "1.2.0",
      "model_name": "LayoutModel",
      "state": {}
     },
     "b0af47c9683047f6bc83f7c96316943b": {
      "model_module": "@jupyter-widgets/controls",
      "model_module_version": "1.5.0",
      "model_name": "HTMLModel",
      "state": {
       "layout": "IPY_MODEL_24f8453c69e54b038becc5fd0cb7c785",
       "style": "IPY_MODEL_6f381b7d31114f1f81669d50312d0d3c",
       "value": " 1/2805 [00:01&lt;1:30:55,  1.95s/it, acc=0.0938, epoch=0, f1=0.129, loss=1.22]"
      }
     },
     "b0d6c0f068c4434a8fc25c92df8db3fd": {
      "model_module": "@jupyter-widgets/base",
      "model_module_version": "1.2.0",
      "model_name": "LayoutModel",
      "state": {}
     },
     "b1ba83bf274a4026895af9c97a8d6f6c": {
      "model_module": "@jupyter-widgets/controls",
      "model_module_version": "1.5.0",
      "model_name": "FloatProgressModel",
      "state": {
       "description": "split=train :   0%",
       "layout": "IPY_MODEL_cc436892ffe4424cbabf84ff0be87559",
       "max": 4488,
       "style": "IPY_MODEL_673efa41a5dc499dad81e6f9af998199"
      }
     },
     "b1ef57a2d9c649f5a6a113e4bec26a17": {
      "model_module": "@jupyter-widgets/base",
      "model_module_version": "1.2.0",
      "model_name": "LayoutModel",
      "state": {}
     },
     "b212ae5d9ae64e8bab101170c4cd7fe5": {
      "model_module": "@jupyter-widgets/controls",
      "model_module_version": "1.5.0",
      "model_name": "DescriptionStyleModel",
      "state": {
       "description_width": ""
      }
     },
     "b22a4d65457d4520a65d9ee0779574c2": {
      "model_module": "@jupyter-widgets/base",
      "model_module_version": "1.2.0",
      "model_name": "LayoutModel",
      "state": {}
     },
     "b22db2a71c58416da71412f7cb7b0959": {
      "model_module": "@jupyter-widgets/controls",
      "model_module_version": "1.5.0",
      "model_name": "ProgressStyleModel",
      "state": {
       "description_width": "initial"
      }
     },
     "b2a6231811874c139a4f4116138e647a": {
      "model_module": "@jupyter-widgets/controls",
      "model_module_version": "1.5.0",
      "model_name": "ProgressStyleModel",
      "state": {
       "description_width": "initial"
      }
     },
     "b2c09907c7364455a64e2379a0bf9f1d": {
      "model_module": "@jupyter-widgets/controls",
      "model_module_version": "1.5.0",
      "model_name": "DescriptionStyleModel",
      "state": {
       "description_width": ""
      }
     },
     "b353d67801274b579f8713f4ddfae566": {
      "model_module": "@jupyter-widgets/controls",
      "model_module_version": "1.5.0",
      "model_name": "DescriptionStyleModel",
      "state": {
       "description_width": ""
      }
     },
     "b4d5970141914e26aa15b49b6ea1af11": {
      "model_module": "@jupyter-widgets/controls",
      "model_module_version": "1.5.0",
      "model_name": "HBoxModel",
      "state": {
       "children": [
        "IPY_MODEL_dea75806de7947418bf420538aae9ff5",
        "IPY_MODEL_6002fb194f8a462cacf99316f1f24798"
       ],
       "layout": "IPY_MODEL_6afcebf5c51e455083e4718cb3a370ab"
      }
     },
     "b4e6b08859b24be4b37b903fda3f1fe1": {
      "model_module": "@jupyter-widgets/controls",
      "model_module_version": "1.5.0",
      "model_name": "ProgressStyleModel",
      "state": {
       "description_width": "initial"
      }
     },
     "b6861b9d18e94f339c1d727006363cbc": {
      "model_module": "@jupyter-widgets/base",
      "model_module_version": "1.2.0",
      "model_name": "LayoutModel",
      "state": {}
     },
     "b6a11655e3a24cf280099f5bed3781eb": {
      "model_module": "@jupyter-widgets/base",
      "model_module_version": "1.2.0",
      "model_name": "LayoutModel",
      "state": {}
     },
     "b71d17ba4bd54714aefdc049665a051a": {
      "model_module": "@jupyter-widgets/controls",
      "model_module_version": "1.5.0",
      "model_name": "DescriptionStyleModel",
      "state": {
       "description_width": ""
      }
     },
     "b73d32c6130e4786bd75c220308a9ec5": {
      "model_module": "@jupyter-widgets/controls",
      "model_module_version": "1.5.0",
      "model_name": "DescriptionStyleModel",
      "state": {
       "description_width": ""
      }
     },
     "b74c702207934e09b46b6eef398a933c": {
      "model_module": "@jupyter-widgets/base",
      "model_module_version": "1.2.0",
      "model_name": "LayoutModel",
      "state": {}
     },
     "b815962e385547d08a7ca9552d1d328b": {
      "model_module": "@jupyter-widgets/base",
      "model_module_version": "1.2.0",
      "model_name": "LayoutModel",
      "state": {}
     },
     "b84eea4913b04a5fb8c8d1c4ccd6c2d2": {
      "model_module": "@jupyter-widgets/controls",
      "model_module_version": "1.5.0",
      "model_name": "HTMLModel",
      "state": {
       "layout": "IPY_MODEL_6f4fe268284245a692c9307251c27abc",
       "style": "IPY_MODEL_a48058627665413caa04e773bd84da1e",
       "value": " 79/? [00:12&lt;00:00,  7.32it/s]"
      }
     },
     "b90911cd3a894b038c3b29537b6052e2": {
      "model_module": "@jupyter-widgets/base",
      "model_module_version": "1.2.0",
      "model_name": "LayoutModel",
      "state": {}
     },
     "b9e72e18a85d4dc589059f91b077eb8f": {
      "model_module": "@jupyter-widgets/controls",
      "model_module_version": "1.5.0",
      "model_name": "ProgressStyleModel",
      "state": {
       "description_width": "initial"
      }
     },
     "baa9c05be03149a595f69d828846f018": {
      "model_module": "@jupyter-widgets/base",
      "model_module_version": "1.2.0",
      "model_name": "LayoutModel",
      "state": {}
     },
     "baafed98cec64c0d9ac5bb99b318961d": {
      "model_module": "@jupyter-widgets/base",
      "model_module_version": "1.2.0",
      "model_name": "LayoutModel",
      "state": {}
     },
     "bab9be2aaf5d40dfaf81ff90389e0ee7": {
      "model_module": "@jupyter-widgets/base",
      "model_module_version": "1.2.0",
      "model_name": "LayoutModel",
      "state": {}
     },
     "bb7ff861ad2745bd9d601e524ca268dc": {
      "model_module": "@jupyter-widgets/controls",
      "model_module_version": "1.5.0",
      "model_name": "DescriptionStyleModel",
      "state": {
       "description_width": ""
      }
     },
     "bbe9483b11fb42c88d0474bdf039a5d1": {
      "model_module": "@jupyter-widgets/controls",
      "model_module_version": "1.5.0",
      "model_name": "ProgressStyleModel",
      "state": {
       "description_width": "initial"
      }
     },
     "bc535e65167046038c8ff73f50a25610": {
      "model_module": "@jupyter-widgets/base",
      "model_module_version": "1.2.0",
      "model_name": "LayoutModel",
      "state": {}
     },
     "bc8daaae79884b41a5de69b80d180b1d": {
      "model_module": "@jupyter-widgets/base",
      "model_module_version": "1.2.0",
      "model_name": "LayoutModel",
      "state": {}
     },
     "bd5821f0be9b450b95b3cfec6e36a111": {
      "model_module": "@jupyter-widgets/controls",
      "model_module_version": "1.5.0",
      "model_name": "DescriptionStyleModel",
      "state": {
       "description_width": ""
      }
     },
     "bd9055c0edfe4abf8f6e6895df64e412": {
      "model_module": "@jupyter-widgets/controls",
      "model_module_version": "1.5.0",
      "model_name": "FloatProgressModel",
      "state": {
       "description": "evaluation progress: ",
       "layout": "IPY_MODEL_e0b0c9f9cab74af781c68178c9f01505",
       "max": 78,
       "style": "IPY_MODEL_108de67423ad4a3ca5c772c841edaa15",
       "value": 78
      }
     },
     "bd9e86fad83142bea143e9adb8c0328e": {
      "model_module": "@jupyter-widgets/controls",
      "model_module_version": "1.5.0",
      "model_name": "HTMLModel",
      "state": {
       "layout": "IPY_MODEL_e1393361fe8c4be796de91fe0170bb3b",
       "style": "IPY_MODEL_e341393de5644aca903b829f95a43ef1",
       "value": " 79/? [00:12&lt;00:00,  7.32it/s]"
      }
     },
     "bda60d54838e443693fbc063123ff001": {
      "model_module": "@jupyter-widgets/controls",
      "model_module_version": "1.5.0",
      "model_name": "HTMLModel",
      "state": {
       "layout": "IPY_MODEL_589d9185d14e4602bf7f65a0c7c66ef2",
       "style": "IPY_MODEL_4c27ce734f56471aae0a2b36305cc7a8",
       "value": " 0/8 [00:11&lt;?, ?it/s]"
      }
     },
     "bdbd62fd8cf6453794137fbee9cf08d6": {
      "model_module": "@jupyter-widgets/base",
      "model_module_version": "1.2.0",
      "model_name": "LayoutModel",
      "state": {}
     },
     "be19d357d24e4e639256e7eafb11f180": {
      "model_module": "@jupyter-widgets/controls",
      "model_module_version": "1.5.0",
      "model_name": "ProgressStyleModel",
      "state": {
       "description_width": "initial"
      }
     },
     "be9d07c0a07049c58536f4eeb8ae44f5": {
      "model_module": "@jupyter-widgets/controls",
      "model_module_version": "1.5.0",
      "model_name": "HTMLModel",
      "state": {
       "layout": "IPY_MODEL_5f13957c43b146c9ae1fd983bfdbb9c5",
       "style": "IPY_MODEL_86b4828788314fa593f5cfa603ef12e7",
       "value": " 79/? [00:12&lt;00:00,  7.33it/s]"
      }
     },
     "bf191f1993e644da92fc18692209d66d": {
      "model_module": "@jupyter-widgets/controls",
      "model_module_version": "1.5.0",
      "model_name": "DescriptionStyleModel",
      "state": {
       "description_width": ""
      }
     },
     "bf206f7d065c40c9ae5646dd28187e1d": {
      "model_module": "@jupyter-widgets/base",
      "model_module_version": "1.2.0",
      "model_name": "LayoutModel",
      "state": {}
     },
     "bf32a7f658d94e81a34993e01e611364": {
      "model_module": "@jupyter-widgets/controls",
      "model_module_version": "1.5.0",
      "model_name": "DescriptionStyleModel",
      "state": {
       "description_width": ""
      }
     },
     "bf51ff3511e7471d84a72e57529fa6f5": {
      "model_module": "@jupyter-widgets/controls",
      "model_module_version": "1.5.0",
      "model_name": "ProgressStyleModel",
      "state": {
       "description_width": "initial"
      }
     },
     "bf5ac8d9cbc443eb89311e78b45c73ae": {
      "model_module": "@jupyter-widgets/controls",
      "model_module_version": "1.5.0",
      "model_name": "FloatProgressModel",
      "state": {
       "description": "evaluation progress: ",
       "layout": "IPY_MODEL_812ccc9841664e72af93c683ef0bbead",
       "max": 78,
       "style": "IPY_MODEL_7f61f5e90acc4f6d9f53edf580674e75",
       "value": 78
      }
     },
     "bf950e57d96247a9a1a565d72358ab98": {
      "model_module": "@jupyter-widgets/controls",
      "model_module_version": "1.5.0",
      "model_name": "FloatProgressModel",
      "state": {
       "description": "evaluation progress: ",
       "layout": "IPY_MODEL_06ae7287304b4201ade65204aa13fbbf",
       "max": 78,
       "style": "IPY_MODEL_6b18f1048b5d4423bb788d143b8f4bea",
       "value": 78
      }
     },
     "bf96b6e377c04b83b993bf530142e1c2": {
      "model_module": "@jupyter-widgets/controls",
      "model_module_version": "1.5.0",
      "model_name": "FloatProgressModel",
      "state": {
       "description": "evaluation progress: ",
       "layout": "IPY_MODEL_9723e088bd384d42bae18ce0e1a82fef",
       "max": 78,
       "style": "IPY_MODEL_9a3a581e23ac419f96f00e5edb916902",
       "value": 78
      }
     },
     "c08975038be046ddb5dfd6fded9ee8f2": {
      "model_module": "@jupyter-widgets/controls",
      "model_module_version": "1.5.0",
      "model_name": "HTMLModel",
      "state": {
       "layout": "IPY_MODEL_4ba2f0bc841a4afcafe878eee657fc03",
       "style": "IPY_MODEL_056f03b21862441a9a105ad748c8f5cd",
       "value": " 1/8 [00:16&lt;01:26, 12.36s/it]"
      }
     },
     "c136a5b6972347d59f3bca4dbdd2c66b": {
      "model_module": "@jupyter-widgets/controls",
      "model_module_version": "1.5.0",
      "model_name": "DescriptionStyleModel",
      "state": {
       "description_width": ""
      }
     },
     "c143981b47504aeca0b8dae27a5c3d6e": {
      "model_module": "@jupyter-widgets/controls",
      "model_module_version": "1.5.0",
      "model_name": "FloatProgressModel",
      "state": {
       "description": "evaluation progress: ",
       "layout": "IPY_MODEL_c72c74938b764159af6995eeba8668de",
       "max": 78,
       "style": "IPY_MODEL_1eee9b667ae440629955021c00fca1a6",
       "value": 78
      }
     },
     "c14a053feace47f0acabb328d0dc18f2": {
      "model_module": "@jupyter-widgets/base",
      "model_module_version": "1.2.0",
      "model_name": "LayoutModel",
      "state": {}
     },
     "c1a4006c74064bea88af767f6377c13d": {
      "model_module": "@jupyter-widgets/controls",
      "model_module_version": "1.5.0",
      "model_name": "DescriptionStyleModel",
      "state": {
       "description_width": ""
      }
     },
     "c1d26cf6a6794e30a56be51bc4abdde7": {
      "model_module": "@jupyter-widgets/controls",
      "model_module_version": "1.5.0",
      "model_name": "FloatProgressModel",
      "state": {
       "description": "split=eval: ",
       "layout": "IPY_MODEL_b6a11655e3a24cf280099f5bed3781eb",
       "max": 73,
       "style": "IPY_MODEL_910e5316f00c476392d83e18d27dbb31",
       "value": 73
      }
     },
     "c209ddbbcc5241bf83b75bccceaa47fe": {
      "model_module": "@jupyter-widgets/base",
      "model_module_version": "1.2.0",
      "model_name": "LayoutModel",
      "state": {}
     },
     "c20f0b0f6e0340a182c502400222daa6": {
      "model_module": "@jupyter-widgets/base",
      "model_module_version": "1.2.0",
      "model_name": "LayoutModel",
      "state": {}
     },
     "c25ca6d2c49945e1aaeb35a8e6ca05d0": {
      "model_module": "@jupyter-widgets/base",
      "model_module_version": "1.2.0",
      "model_name": "LayoutModel",
      "state": {}
     },
     "c29bc7e0e2ac42ce894e230367c59a7d": {
      "model_module": "@jupyter-widgets/controls",
      "model_module_version": "1.5.0",
      "model_name": "ProgressStyleModel",
      "state": {
       "description_width": "initial"
      }
     },
     "c2c33249339b4b89bcbd35328b9d5d46": {
      "model_module": "@jupyter-widgets/base",
      "model_module_version": "1.2.0",
      "model_name": "LayoutModel",
      "state": {}
     },
     "c2faa45f5ba24fb08177e4c91ab43caf": {
      "model_module": "@jupyter-widgets/controls",
      "model_module_version": "1.5.0",
      "model_name": "DescriptionStyleModel",
      "state": {
       "description_width": ""
      }
     },
     "c3016c8ccc454180803180102b8b834e": {
      "model_module": "@jupyter-widgets/controls",
      "model_module_version": "1.5.0",
      "model_name": "DescriptionStyleModel",
      "state": {
       "description_width": ""
      }
     },
     "c35ad2f827ee49cdba0e7262d6d15d95": {
      "model_module": "@jupyter-widgets/base",
      "model_module_version": "1.2.0",
      "model_name": "LayoutModel",
      "state": {}
     },
     "c3882f9dc9e54f8db20f67a1d472f0e2": {
      "model_module": "@jupyter-widgets/base",
      "model_module_version": "1.2.0",
      "model_name": "LayoutModel",
      "state": {}
     },
     "c395b195ecf24cf2996896f59b591914": {
      "model_module": "@jupyter-widgets/controls",
      "model_module_version": "1.5.0",
      "model_name": "DescriptionStyleModel",
      "state": {
       "description_width": ""
      }
     },
     "c3e19ae539d74c7aa55445bb328619d6": {
      "model_module": "@jupyter-widgets/base",
      "model_module_version": "1.2.0",
      "model_name": "LayoutModel",
      "state": {}
     },
     "c4e9a1765e044761af661d2bd517a360": {
      "model_module": "@jupyter-widgets/controls",
      "model_module_version": "1.5.0",
      "model_name": "FloatProgressModel",
      "state": {
       "bar_style": "success",
       "description": "100%",
       "layout": "IPY_MODEL_a651c546dd2d44baa9497ee45cd1b48b",
       "max": 8,
       "style": "IPY_MODEL_d60bc4f677c546d089288d11a68dfd7a",
       "value": 8
      }
     },
     "c50811ec679647cfa3f1a8ff056ed9ac": {
      "model_module": "@jupyter-widgets/base",
      "model_module_version": "1.2.0",
      "model_name": "LayoutModel",
      "state": {}
     },
     "c510d9a09fcd4cf8b63e522095a204f0": {
      "model_module": "@jupyter-widgets/controls",
      "model_module_version": "1.5.0",
      "model_name": "DescriptionStyleModel",
      "state": {
       "description_width": ""
      }
     },
     "c5443dbbbc8c459dafb5dcd04a304315": {
      "model_module": "@jupyter-widgets/base",
      "model_module_version": "1.2.0",
      "model_name": "LayoutModel",
      "state": {}
     },
     "c55d6b76515a41bcab5a066e8813d459": {
      "model_module": "@jupyter-widgets/controls",
      "model_module_version": "1.5.0",
      "model_name": "ProgressStyleModel",
      "state": {
       "description_width": "initial"
      }
     },
     "c57768d6ce7d4746892aa1be162cf0d1": {
      "model_module": "@jupyter-widgets/controls",
      "model_module_version": "1.5.0",
      "model_name": "DescriptionStyleModel",
      "state": {
       "description_width": ""
      }
     },
     "c5a3086d736e4bb6a3320d4a408ab1be": {
      "model_module": "@jupyter-widgets/base",
      "model_module_version": "1.2.0",
      "model_name": "LayoutModel",
      "state": {}
     },
     "c5b812c0e87e4427bdfc7213bf1a0f7d": {
      "model_module": "@jupyter-widgets/base",
      "model_module_version": "1.2.0",
      "model_name": "LayoutModel",
      "state": {}
     },
     "c6257740d70e4b0fb2a9876076e19908": {
      "model_module": "@jupyter-widgets/base",
      "model_module_version": "1.2.0",
      "model_name": "LayoutModel",
      "state": {}
     },
     "c676d8e9335b48f4936915104e49326e": {
      "model_module": "@jupyter-widgets/controls",
      "model_module_version": "1.5.0",
      "model_name": "DescriptionStyleModel",
      "state": {
       "description_width": ""
      }
     },
     "c72c74938b764159af6995eeba8668de": {
      "model_module": "@jupyter-widgets/base",
      "model_module_version": "1.2.0",
      "model_name": "LayoutModel",
      "state": {}
     },
     "c7859825f3844a9f9e0de851f90ad024": {
      "model_module": "@jupyter-widgets/controls",
      "model_module_version": "1.5.0",
      "model_name": "HTMLModel",
      "state": {
       "layout": "IPY_MODEL_c20f0b0f6e0340a182c502400222daa6",
       "style": "IPY_MODEL_00d397d6d0eb41b6b3ffacc1a0dc1d7d",
       "value": " 79/? [00:12&lt;00:00,  7.32it/s]"
      }
     },
     "c7a2caf7234b405b98896d9ab3b7363d": {
      "model_module": "@jupyter-widgets/base",
      "model_module_version": "1.2.0",
      "model_name": "LayoutModel",
      "state": {}
     },
     "c834a19f90cd4868a9facc8953b16a78": {
      "model_module": "@jupyter-widgets/base",
      "model_module_version": "1.2.0",
      "model_name": "LayoutModel",
      "state": {}
     },
     "c94862bf54d94c42b35bba68592b3803": {
      "model_module": "@jupyter-widgets/controls",
      "model_module_version": "1.5.0",
      "model_name": "ProgressStyleModel",
      "state": {
       "description_width": "initial"
      }
     },
     "c97bfb5bcdab4daba62d8bc168777425": {
      "model_module": "@jupyter-widgets/base",
      "model_module_version": "1.2.0",
      "model_name": "LayoutModel",
      "state": {}
     },
     "c97d0170b9bb4b458ba1f3a48f275daf": {
      "model_module": "@jupyter-widgets/controls",
      "model_module_version": "1.5.0",
      "model_name": "HTMLModel",
      "state": {
       "layout": "IPY_MODEL_678818dc957046ecb71c07124815d1a1",
       "style": "IPY_MODEL_e9094dba69c74c678c99ef26eb33e7ec",
       "value": " 10/10 [09:56&lt;00:00, 59.66s/it]"
      }
     },
     "ca47da3da2f44e729af4e17598e87a1f": {
      "model_module": "@jupyter-widgets/base",
      "model_module_version": "1.2.0",
      "model_name": "LayoutModel",
      "state": {}
     },
     "ca555f1563d64a4e8ab5af624f1be723": {
      "model_module": "@jupyter-widgets/controls",
      "model_module_version": "1.5.0",
      "model_name": "HBoxModel",
      "state": {
       "children": [
        "IPY_MODEL_20a8e42440e44b989116778611526e03",
        "IPY_MODEL_5a7af5e8b8c148749f4d4b90d7a035e0"
       ],
       "layout": "IPY_MODEL_93dbf1fc06bc4988b7ccfd6a35c9fd79"
      }
     },
     "cac9ddfc81274e678c7a6912160ac7e2": {
      "model_module": "@jupyter-widgets/controls",
      "model_module_version": "1.5.0",
      "model_name": "ProgressStyleModel",
      "state": {
       "description_width": "initial"
      }
     },
     "cb41729630474768bfd63b9295e08712": {
      "model_module": "@jupyter-widgets/controls",
      "model_module_version": "1.5.0",
      "model_name": "FloatProgressModel",
      "state": {
       "description": "evaluation progress: ",
       "layout": "IPY_MODEL_5a3c07469e3142b8bd4e20a69bcc5983",
       "max": 7,
       "style": "IPY_MODEL_fad4e651ddeb4aaf82f66556f1b4d83c",
       "value": 7
      }
     },
     "cba34f30851d466f8f65dcbb2a683bb0": {
      "model_module": "@jupyter-widgets/controls",
      "model_module_version": "1.5.0",
      "model_name": "HBoxModel",
      "state": {
       "children": [
        "IPY_MODEL_0c2476e1ba604362a81142e49fca1427",
        "IPY_MODEL_550672da5885418ebab9696956649e5d"
       ],
       "layout": "IPY_MODEL_6312e26e44ad42c7994fde9f7e36bcee"
      }
     },
     "cc3e932f6aa44b31bb8aa2e1ffa8dc0c": {
      "model_module": "@jupyter-widgets/base",
      "model_module_version": "1.2.0",
      "model_name": "LayoutModel",
      "state": {}
     },
     "cc436892ffe4424cbabf84ff0be87559": {
      "model_module": "@jupyter-widgets/base",
      "model_module_version": "1.2.0",
      "model_name": "LayoutModel",
      "state": {}
     },
     "cc9134ce220546688b1461d2eb9c2c04": {
      "model_module": "@jupyter-widgets/controls",
      "model_module_version": "1.5.0",
      "model_name": "HTMLModel",
      "state": {
       "layout": "IPY_MODEL_1acc7425c0d742cdadd566485c6b2f82",
       "style": "IPY_MODEL_07c5e87ca945495b8b76e68f4179dcbf",
       "value": " 79/? [00:12&lt;00:00,  7.33it/s]"
      }
     },
     "cce7bd888a8a42a2b6caa9c8b50b0525": {
      "model_module": "@jupyter-widgets/controls",
      "model_module_version": "1.5.0",
      "model_name": "ProgressStyleModel",
      "state": {
       "description_width": "initial"
      }
     },
     "cd0bd4736e7543e282b9a87cb572efac": {
      "model_module": "@jupyter-widgets/controls",
      "model_module_version": "1.5.0",
      "model_name": "HBoxModel",
      "state": {
       "children": [
        "IPY_MODEL_3fd66fbb3ae04b54950acc5539756d0e",
        "IPY_MODEL_69c6f2a9b0f24825be7ede18f013f051"
       ],
       "layout": "IPY_MODEL_92a78eef62614250a4d83cf0a3009bec"
      }
     },
     "cd0f6df860454a3a8ae65c8c5eb68f33": {
      "model_module": "@jupyter-widgets/base",
      "model_module_version": "1.2.0",
      "model_name": "LayoutModel",
      "state": {}
     },
     "cd2a67f20d7d423abe0e98d33a1313a7": {
      "model_module": "@jupyter-widgets/controls",
      "model_module_version": "1.5.0",
      "model_name": "DescriptionStyleModel",
      "state": {
       "description_width": ""
      }
     },
     "cd2f8fcd3771423d87ca4db6eaf6e720": {
      "model_module": "@jupyter-widgets/base",
      "model_module_version": "1.2.0",
      "model_name": "LayoutModel",
      "state": {}
     },
     "cd891a8f9ebb4624b752ba20a778934e": {
      "model_module": "@jupyter-widgets/controls",
      "model_module_version": "1.5.0",
      "model_name": "DescriptionStyleModel",
      "state": {
       "description_width": ""
      }
     },
     "cdee7d8c32f345f8b4a3823564a6ad75": {
      "model_module": "@jupyter-widgets/controls",
      "model_module_version": "1.5.0",
      "model_name": "HBoxModel",
      "state": {
       "children": [
        "IPY_MODEL_93e02d44fe314b9c80ff1dbef6f0e81a",
        "IPY_MODEL_2b22c81656cd48028acc47ed1768e8d7"
       ],
       "layout": "IPY_MODEL_404131f57789416eabcd9b5ecc556b51"
      }
     },
     "cf4165c7049a4252b93159a5fd5b9cca": {
      "model_module": "@jupyter-widgets/controls",
      "model_module_version": "1.5.0",
      "model_name": "HTMLModel",
      "state": {
       "layout": "IPY_MODEL_a91ffb0bae9345389d9c91c175af53ad",
       "style": "IPY_MODEL_994c7bc4296047019859d2519191ce53",
       "value": " 0/78 [00:00&lt;?, ?it/s]"
      }
     },
     "cf584eb9ff484ef79108b2739a50dea8": {
      "model_module": "@jupyter-widgets/controls",
      "model_module_version": "1.5.0",
      "model_name": "HTMLModel",
      "state": {
       "layout": "IPY_MODEL_d8017dc69a284d67b8b1fdaa2ad62729",
       "style": "IPY_MODEL_3b38680b9fae409b886dd9f3a443b985",
       "value": " 79/? [00:12&lt;00:00,  7.33it/s]"
      }
     },
     "cf5a443b5f41422184b1e163a5176766": {
      "model_module": "@jupyter-widgets/controls",
      "model_module_version": "1.5.0",
      "model_name": "DescriptionStyleModel",
      "state": {
       "description_width": ""
      }
     },
     "cf8f8d57c7624a5b9b7cf35450973437": {
      "model_module": "@jupyter-widgets/base",
      "model_module_version": "1.2.0",
      "model_name": "LayoutModel",
      "state": {}
     },
     "cfd3b41d4302488ba1ffd4a82c4753e2": {
      "model_module": "@jupyter-widgets/controls",
      "model_module_version": "1.5.0",
      "model_name": "DescriptionStyleModel",
      "state": {
       "description_width": ""
      }
     },
     "cfd6f6073d6c445dbc88958ca5441f86": {
      "model_module": "@jupyter-widgets/controls",
      "model_module_version": "1.5.0",
      "model_name": "HTMLModel",
      "state": {
       "layout": "IPY_MODEL_1640777de0784c7992c979e6c0c21891",
       "style": "IPY_MODEL_9f7365351c694cf380ddc11b03e2db07",
       "value": " 79/? [00:12&lt;00:00,  7.33it/s]"
      }
     },
     "d0c53412f9dc4b06a9c84c2c259008c2": {
      "model_module": "@jupyter-widgets/controls",
      "model_module_version": "1.5.0",
      "model_name": "ProgressStyleModel",
      "state": {
       "description_width": "initial"
      }
     },
     "d0d34899487d4edf9d13b74613d03679": {
      "model_module": "@jupyter-widgets/base",
      "model_module_version": "1.2.0",
      "model_name": "LayoutModel",
      "state": {}
     },
     "d1b0de95ea4f42d583ce70e77d24d883": {
      "model_module": "@jupyter-widgets/base",
      "model_module_version": "1.2.0",
      "model_name": "LayoutModel",
      "state": {}
     },
     "d22b46d9daa34aa28e4b32bb4baea78c": {
      "model_module": "@jupyter-widgets/controls",
      "model_module_version": "1.5.0",
      "model_name": "FloatProgressModel",
      "state": {
       "bar_style": "success",
       "description": "100%",
       "layout": "IPY_MODEL_18f42ea5fe0b485ea0020dd6371c60bc",
       "max": 6,
       "style": "IPY_MODEL_0ba2e61c627d4a37bcf198893dc793f1",
       "value": 6
      }
     },
     "d23b92e1637d4d5ab52df40a6d6903e9": {
      "model_module": "@jupyter-widgets/controls",
      "model_module_version": "1.5.0",
      "model_name": "ProgressStyleModel",
      "state": {
       "description_width": "initial"
      }
     },
     "d2af32bcaf1443ffb1b0f8debc9a1e09": {
      "model_module": "@jupyter-widgets/controls",
      "model_module_version": "1.5.0",
      "model_name": "HTMLModel",
      "state": {
       "layout": "IPY_MODEL_c50811ec679647cfa3f1a8ff056ed9ac",
       "style": "IPY_MODEL_7d553c68031a4c04abe5315d4a0d45b9",
       "value": " 79/? [00:12&lt;00:00,  7.33it/s]"
      }
     },
     "d2b23324cd0043f09255a6ff08f66122": {
      "model_module": "@jupyter-widgets/controls",
      "model_module_version": "1.5.0",
      "model_name": "FloatProgressModel",
      "state": {
       "bar_style": "success",
       "description": "100%",
       "layout": "IPY_MODEL_eed2d34d58a341028595524790cde177",
       "max": 10,
       "style": "IPY_MODEL_1f8936ea6cbc49428a3a9251a3d73368",
       "value": 10
      }
     },
     "d32394c384c14753aa1a17d8db3d6e08": {
      "model_module": "@jupyter-widgets/base",
      "model_module_version": "1.2.0",
      "model_name": "LayoutModel",
      "state": {}
     },
     "d3332966ed524995ac15f1cfa7480846": {
      "model_module": "@jupyter-widgets/base",
      "model_module_version": "1.2.0",
      "model_name": "LayoutModel",
      "state": {}
     },
     "d474d53c18fd4381a05a1be10b75ba7e": {
      "model_module": "@jupyter-widgets/base",
      "model_module_version": "1.2.0",
      "model_name": "LayoutModel",
      "state": {}
     },
     "d494a723abcf4cac876fd0dbac62de75": {
      "model_module": "@jupyter-widgets/controls",
      "model_module_version": "1.5.0",
      "model_name": "FloatProgressModel",
      "state": {
       "description": "evaluation progress: ",
       "layout": "IPY_MODEL_5658159f970f413db7042aa9ac80da8d",
       "max": 7,
       "style": "IPY_MODEL_76052b0b66b94f3f910f02327e326754",
       "value": 7
      }
     },
     "d4dedc1582d94b8b87d79b715a9f1106": {
      "model_module": "@jupyter-widgets/controls",
      "model_module_version": "1.5.0",
      "model_name": "DescriptionStyleModel",
      "state": {
       "description_width": ""
      }
     },
     "d4fc82df74cc4461b5b004b924f9bea5": {
      "model_module": "@jupyter-widgets/controls",
      "model_module_version": "1.5.0",
      "model_name": "HBoxModel",
      "state": {
       "children": [
        "IPY_MODEL_8b96c5bef4dc414bac6e8855ce1220c8",
        "IPY_MODEL_a67d8bbf32514053a2648a36f1c22365"
       ],
       "layout": "IPY_MODEL_33b182999ddd4d1da841098fb2811f64"
      }
     },
     "d529fc6ad0664da1ae8dede9fb4af482": {
      "model_module": "@jupyter-widgets/base",
      "model_module_version": "1.2.0",
      "model_name": "LayoutModel",
      "state": {}
     },
     "d54ffb7334384061aba11889897ab619": {
      "model_module": "@jupyter-widgets/controls",
      "model_module_version": "1.5.0",
      "model_name": "DescriptionStyleModel",
      "state": {
       "description_width": ""
      }
     },
     "d5acb8fe73b04395b0691575a670b178": {
      "model_module": "@jupyter-widgets/base",
      "model_module_version": "1.2.0",
      "model_name": "LayoutModel",
      "state": {}
     },
     "d5b925907d494c72b49770f67c5462ac": {
      "model_module": "@jupyter-widgets/controls",
      "model_module_version": "1.5.0",
      "model_name": "DescriptionStyleModel",
      "state": {
       "description_width": ""
      }
     },
     "d60bc4f677c546d089288d11a68dfd7a": {
      "model_module": "@jupyter-widgets/controls",
      "model_module_version": "1.5.0",
      "model_name": "ProgressStyleModel",
      "state": {
       "description_width": "initial"
      }
     },
     "d620e3384c1b47bfb3dd47645b8a8956": {
      "model_module": "@jupyter-widgets/base",
      "model_module_version": "1.2.0",
      "model_name": "LayoutModel",
      "state": {}
     },
     "d658e82799e145389ea4ee85058b19a0": {
      "model_module": "@jupyter-widgets/base",
      "model_module_version": "1.2.0",
      "model_name": "LayoutModel",
      "state": {}
     },
     "d665d0f9d5e64cbabc9897b177e20d8b": {
      "model_module": "@jupyter-widgets/controls",
      "model_module_version": "1.5.0",
      "model_name": "ProgressStyleModel",
      "state": {
       "description_width": "initial"
      }
     },
     "d7128c7b3b5c47558d82e9d6a312c5b5": {
      "model_module": "@jupyter-widgets/controls",
      "model_module_version": "1.5.0",
      "model_name": "DescriptionStyleModel",
      "state": {
       "description_width": ""
      }
     },
     "d7489b4cf2f14d75a4906ba293cc75b6": {
      "model_module": "@jupyter-widgets/base",
      "model_module_version": "1.2.0",
      "model_name": "LayoutModel",
      "state": {}
     },
     "d755e659c1aa4ecfb421ae4e34e84117": {
      "model_module": "@jupyter-widgets/controls",
      "model_module_version": "1.5.0",
      "model_name": "DescriptionStyleModel",
      "state": {
       "description_width": ""
      }
     },
     "d7788b634f4f424c9563b97155761ea8": {
      "model_module": "@jupyter-widgets/base",
      "model_module_version": "1.2.0",
      "model_name": "LayoutModel",
      "state": {}
     },
     "d7fe03bcf4de4ed68426acf16b6894a3": {
      "model_module": "@jupyter-widgets/controls",
      "model_module_version": "1.5.0",
      "model_name": "ProgressStyleModel",
      "state": {
       "description_width": "initial"
      }
     },
     "d8017dc69a284d67b8b1fdaa2ad62729": {
      "model_module": "@jupyter-widgets/base",
      "model_module_version": "1.2.0",
      "model_name": "LayoutModel",
      "state": {}
     },
     "d894d2643b814d058ad44b8f26e5552f": {
      "model_module": "@jupyter-widgets/base",
      "model_module_version": "1.2.0",
      "model_name": "LayoutModel",
      "state": {}
     },
     "d8ba757869b74592b6f84523fcfd4c61": {
      "model_module": "@jupyter-widgets/controls",
      "model_module_version": "1.5.0",
      "model_name": "DescriptionStyleModel",
      "state": {
       "description_width": ""
      }
     },
     "d8e99c8305774f7682fa76f479b5a447": {
      "model_module": "@jupyter-widgets/controls",
      "model_module_version": "1.5.0",
      "model_name": "DescriptionStyleModel",
      "state": {
       "description_width": ""
      }
     },
     "d8fa2a23e08a43299140cd1e84fddf4e": {
      "model_module": "@jupyter-widgets/base",
      "model_module_version": "1.2.0",
      "model_name": "LayoutModel",
      "state": {}
     },
     "d98d57510d314837bce63c75e7c4e8d7": {
      "model_module": "@jupyter-widgets/controls",
      "model_module_version": "1.5.0",
      "model_name": "DescriptionStyleModel",
      "state": {
       "description_width": ""
      }
     },
     "d9a9b4aeb3b04fd6ba7ffa2a2bb38860": {
      "model_module": "@jupyter-widgets/controls",
      "model_module_version": "1.5.0",
      "model_name": "ProgressStyleModel",
      "state": {
       "description_width": "initial"
      }
     },
     "d9db3b91e61443008e24197e815ec6ec": {
      "model_module": "@jupyter-widgets/controls",
      "model_module_version": "1.5.0",
      "model_name": "FloatProgressModel",
      "state": {
       "description": "split=eval:   0%",
       "layout": "IPY_MODEL_a6f3cc8e8251421fbd6172c74f9a021a",
       "max": 118,
       "style": "IPY_MODEL_9444dd3e4ed64e3faef2effb4ed41ed1"
      }
     },
     "d9fd1596c39f4dbe9f6d3655cd30b824": {
      "model_module": "@jupyter-widgets/base",
      "model_module_version": "1.2.0",
      "model_name": "LayoutModel",
      "state": {}
     },
     "da093e5f2aea431caca97d2db1566030": {
      "model_module": "@jupyter-widgets/base",
      "model_module_version": "1.2.0",
      "model_name": "LayoutModel",
      "state": {}
     },
     "da998c55faed42d297ea8ce417a13db7": {
      "model_module": "@jupyter-widgets/base",
      "model_module_version": "1.2.0",
      "model_name": "LayoutModel",
      "state": {}
     },
     "db77a3713c8b4f0294a5ea7e0e8f5ac3": {
      "model_module": "@jupyter-widgets/controls",
      "model_module_version": "1.5.0",
      "model_name": "ProgressStyleModel",
      "state": {
       "description_width": "initial"
      }
     },
     "dbc242a3a0c24a1d862dde92cecc1524": {
      "model_module": "@jupyter-widgets/controls",
      "model_module_version": "1.5.0",
      "model_name": "HTMLModel",
      "state": {
       "layout": "IPY_MODEL_87fbfe36adb443c1b1b394263e6cb9b2",
       "style": "IPY_MODEL_c2faa45f5ba24fb08177e4c91ab43caf",
       "value": " 79/? [00:12&lt;00:00,  7.32it/s]"
      }
     },
     "dc104f3827eb440fb771fc448f7cabb6": {
      "model_module": "@jupyter-widgets/base",
      "model_module_version": "1.2.0",
      "model_name": "LayoutModel",
      "state": {}
     },
     "dc6c585092d14ce295d210fa7c78aa72": {
      "model_module": "@jupyter-widgets/base",
      "model_module_version": "1.2.0",
      "model_name": "LayoutModel",
      "state": {}
     },
     "dc71323b713d4ec7b61a26cf74b9d202": {
      "model_module": "@jupyter-widgets/base",
      "model_module_version": "1.2.0",
      "model_name": "LayoutModel",
      "state": {}
     },
     "dc7665e0fb0d497881a79b36e7140a8e": {
      "model_module": "@jupyter-widgets/controls",
      "model_module_version": "1.5.0",
      "model_name": "DescriptionStyleModel",
      "state": {
       "description_width": ""
      }
     },
     "dd324e677a60425db4f81881cb5166c9": {
      "model_module": "@jupyter-widgets/controls",
      "model_module_version": "1.5.0",
      "model_name": "ProgressStyleModel",
      "state": {
       "description_width": "initial"
      }
     },
     "dd9e5f512b9146d2b5b7c77470acb612": {
      "model_module": "@jupyter-widgets/controls",
      "model_module_version": "1.5.0",
      "model_name": "HTMLModel",
      "state": {
       "layout": "IPY_MODEL_57547e34926f4830a63c003dab14879e",
       "style": "IPY_MODEL_457366effc8d4674ae7241d01ca40d23",
       "value": " 8/8 [01:38&lt;00:00, 12.32s/it]"
      }
     },
     "ddd79796b6214aa49fbd8d3d185b8eeb": {
      "model_module": "@jupyter-widgets/base",
      "model_module_version": "1.2.0",
      "model_name": "LayoutModel",
      "state": {}
     },
     "de01d9a64d1c4e3baa935eaa55ef83e6": {
      "model_module": "@jupyter-widgets/controls",
      "model_module_version": "1.5.0",
      "model_name": "HTMLModel",
      "state": {
       "layout": "IPY_MODEL_fcc233bda1124906a3ed7246bc89d6bf",
       "style": "IPY_MODEL_559d1ca594304669973753da5c7a4839",
       "value": " 79/? [00:12&lt;00:00,  7.32it/s]"
      }
     },
     "de3bb6c12f554536aa1b6315daf54966": {
      "model_module": "@jupyter-widgets/controls",
      "model_module_version": "1.5.0",
      "model_name": "ProgressStyleModel",
      "state": {
       "description_width": "initial"
      }
     },
     "dea75806de7947418bf420538aae9ff5": {
      "model_module": "@jupyter-widgets/controls",
      "model_module_version": "1.5.0",
      "model_name": "FloatProgressModel",
      "state": {
       "description": "split=eval:   0%",
       "layout": "IPY_MODEL_2b20b0151f884e24b928d3376d384b93",
       "max": 73,
       "style": "IPY_MODEL_666f4a00e9104bc5aaf4fc043811c72d"
      }
     },
     "df0b93adea414528a1067e6817e25cca": {
      "model_module": "@jupyter-widgets/controls",
      "model_module_version": "1.5.0",
      "model_name": "FloatProgressModel",
      "state": {
       "description": "evaluation progress: ",
       "layout": "IPY_MODEL_dc104f3827eb440fb771fc448f7cabb6",
       "max": 78,
       "style": "IPY_MODEL_901fbd742ae84c438e3a92fe644d98e7",
       "value": 78
      }
     },
     "df6228bf1b434746bedf46d5b7b2407e": {
      "model_module": "@jupyter-widgets/base",
      "model_module_version": "1.2.0",
      "model_name": "LayoutModel",
      "state": {}
     },
     "e00501b137564b3a980b462e3121a3d1": {
      "model_module": "@jupyter-widgets/base",
      "model_module_version": "1.2.0",
      "model_name": "LayoutModel",
      "state": {}
     },
     "e031649f89344650805b29f140f2e075": {
      "model_module": "@jupyter-widgets/base",
      "model_module_version": "1.2.0",
      "model_name": "LayoutModel",
      "state": {}
     },
     "e0b0c9f9cab74af781c68178c9f01505": {
      "model_module": "@jupyter-widgets/base",
      "model_module_version": "1.2.0",
      "model_name": "LayoutModel",
      "state": {}
     },
     "e0dcebc7297e478e97460a83d656d9b3": {
      "model_module": "@jupyter-widgets/base",
      "model_module_version": "1.2.0",
      "model_name": "LayoutModel",
      "state": {}
     },
     "e0facbd749d9456e88750e948d0c5095": {
      "model_module": "@jupyter-widgets/controls",
      "model_module_version": "1.5.0",
      "model_name": "FloatProgressModel",
      "state": {
       "bar_style": "success",
       "description": "100%",
       "layout": "IPY_MODEL_262845e2016643dd8544bebf197d6783",
       "max": 10,
       "style": "IPY_MODEL_be19d357d24e4e639256e7eafb11f180",
       "value": 10
      }
     },
     "e1000c6b55be42628436eb0342f8ed2f": {
      "model_module": "@jupyter-widgets/controls",
      "model_module_version": "1.5.0",
      "model_name": "DescriptionStyleModel",
      "state": {
       "description_width": ""
      }
     },
     "e1393361fe8c4be796de91fe0170bb3b": {
      "model_module": "@jupyter-widgets/base",
      "model_module_version": "1.2.0",
      "model_name": "LayoutModel",
      "state": {}
     },
     "e204761e39e34e3bb8edc7724f30a2d4": {
      "model_module": "@jupyter-widgets/controls",
      "model_module_version": "1.5.0",
      "model_name": "ProgressStyleModel",
      "state": {
       "description_width": "initial"
      }
     },
     "e20a6681966d4adf8c0f93237efd772d": {
      "model_module": "@jupyter-widgets/base",
      "model_module_version": "1.2.0",
      "model_name": "LayoutModel",
      "state": {}
     },
     "e2fe8a786b124f7094bf89db265af165": {
      "model_module": "@jupyter-widgets/controls",
      "model_module_version": "1.5.0",
      "model_name": "DescriptionStyleModel",
      "state": {
       "description_width": ""
      }
     },
     "e341393de5644aca903b829f95a43ef1": {
      "model_module": "@jupyter-widgets/controls",
      "model_module_version": "1.5.0",
      "model_name": "DescriptionStyleModel",
      "state": {
       "description_width": ""
      }
     },
     "e43ae6d343ec4e9c8482901e9343b68c": {
      "model_module": "@jupyter-widgets/controls",
      "model_module_version": "1.5.0",
      "model_name": "HBoxModel",
      "state": {
       "children": [
        "IPY_MODEL_5397c3ed85774f348a29cfc53f388ae2",
        "IPY_MODEL_68a1ef86037c40a3bcd69451b1654914"
       ],
       "layout": "IPY_MODEL_bf206f7d065c40c9ae5646dd28187e1d"
      }
     },
     "e43c0548148d4507b64d02559b388946": {
      "model_module": "@jupyter-widgets/controls",
      "model_module_version": "1.5.0",
      "model_name": "DescriptionStyleModel",
      "state": {
       "description_width": ""
      }
     },
     "e44369952de5472a89e00e94fb8b905e": {
      "model_module": "@jupyter-widgets/base",
      "model_module_version": "1.2.0",
      "model_name": "LayoutModel",
      "state": {}
     },
     "e511610c7d164f2b9a1a0bcf572b191e": {
      "model_module": "@jupyter-widgets/base",
      "model_module_version": "1.2.0",
      "model_name": "LayoutModel",
      "state": {}
     },
     "e52d5b4482a543068e4e4ce37730259f": {
      "model_module": "@jupyter-widgets/controls",
      "model_module_version": "1.5.0",
      "model_name": "HTMLModel",
      "state": {
       "layout": "IPY_MODEL_ca47da3da2f44e729af4e17598e87a1f",
       "style": "IPY_MODEL_958fa284b8f14701a3bc334f43722e8c",
       "value": " 79/? [00:12&lt;00:00,  7.31it/s]"
      }
     },
     "e629b8cf0cce4909969696ae6ba2942a": {
      "model_module": "@jupyter-widgets/controls",
      "model_module_version": "1.5.0",
      "model_name": "ProgressStyleModel",
      "state": {
       "description_width": "initial"
      }
     },
     "e64c17cc98484d89a809541e9a4a0c14": {
      "model_module": "@jupyter-widgets/base",
      "model_module_version": "1.2.0",
      "model_name": "LayoutModel",
      "state": {}
     },
     "e6e04d92eda3468e9e2e57e7737f7011": {
      "model_module": "@jupyter-widgets/controls",
      "model_module_version": "1.5.0",
      "model_name": "HTMLModel",
      "state": {
       "layout": "IPY_MODEL_0be7c864f70a497b93c6c24f156285aa",
       "style": "IPY_MODEL_bf32a7f658d94e81a34993e01e611364",
       "value": " 26/78 [00:04&lt;00:07,  6.74it/s]"
      }
     },
     "e744327bd44e45ab87867c81f1bf91db": {
      "model_module": "@jupyter-widgets/controls",
      "model_module_version": "1.5.0",
      "model_name": "DescriptionStyleModel",
      "state": {
       "description_width": ""
      }
     },
     "e75fd560d0404a45b923328cab61f7b8": {
      "model_module": "@jupyter-widgets/base",
      "model_module_version": "1.2.0",
      "model_name": "LayoutModel",
      "state": {}
     },
     "e78f6ee870354a50b1cc4626328b52b9": {
      "model_module": "@jupyter-widgets/controls",
      "model_module_version": "1.5.0",
      "model_name": "HTMLModel",
      "state": {
       "layout": "IPY_MODEL_7fd75ce3fe85403c8251d8a4bdbe8678",
       "style": "IPY_MODEL_e43c0548148d4507b64d02559b388946",
       "value": " 79/? [00:12&lt;00:00,  7.33it/s]"
      }
     },
     "e7a72ad46f144ca19b1143eb3338d6f3": {
      "model_module": "@jupyter-widgets/base",
      "model_module_version": "1.2.0",
      "model_name": "LayoutModel",
      "state": {}
     },
     "e8a430b935cf40569c880e7d874c0c26": {
      "model_module": "@jupyter-widgets/controls",
      "model_module_version": "1.5.0",
      "model_name": "ProgressStyleModel",
      "state": {
       "description_width": "initial"
      }
     },
     "e8d024843ca34f9995cbcb172c54ea84": {
      "model_module": "@jupyter-widgets/controls",
      "model_module_version": "1.5.0",
      "model_name": "DescriptionStyleModel",
      "state": {
       "description_width": ""
      }
     },
     "e8d1841ebcf3436598762e8d45daf4c7": {
      "model_module": "@jupyter-widgets/base",
      "model_module_version": "1.2.0",
      "model_name": "LayoutModel",
      "state": {}
     },
     "e9094dba69c74c678c99ef26eb33e7ec": {
      "model_module": "@jupyter-widgets/controls",
      "model_module_version": "1.5.0",
      "model_name": "DescriptionStyleModel",
      "state": {
       "description_width": ""
      }
     },
     "e982a13093a34d17add674b16c48c42f": {
      "model_module": "@jupyter-widgets/controls",
      "model_module_version": "1.5.0",
      "model_name": "FloatProgressModel",
      "state": {
       "description": "evaluation progress: ",
       "layout": "IPY_MODEL_1004680e4f7348b595db3f2ec9ea422e",
       "max": 78,
       "style": "IPY_MODEL_2f2cc1a3f1044be0a1c6f4dab5918d06",
       "value": 78
      }
     },
     "e98490ec26f94bf7828e7d9d21480855": {
      "model_module": "@jupyter-widgets/controls",
      "model_module_version": "1.5.0",
      "model_name": "DescriptionStyleModel",
      "state": {
       "description_width": ""
      }
     },
     "e989339c109f433299a814ec62461d54": {
      "model_module": "@jupyter-widgets/base",
      "model_module_version": "1.2.0",
      "model_name": "LayoutModel",
      "state": {}
     },
     "e9b1504b31894260a0c518cd376da3a0": {
      "model_module": "@jupyter-widgets/controls",
      "model_module_version": "1.5.0",
      "model_name": "HBoxModel",
      "state": {
       "children": [
        "IPY_MODEL_8cb501b51ae241bcbb91be5eb3029685",
        "IPY_MODEL_8fcd1d3d333e43c3ab3f5fc048c0b305"
       ],
       "layout": "IPY_MODEL_540d9699c7614ac3bd6113aa0fed8ea0"
      }
     },
     "e9dc052e76bc4771875fa914f9034735": {
      "model_module": "@jupyter-widgets/controls",
      "model_module_version": "1.5.0",
      "model_name": "HTMLModel",
      "state": {
       "layout": "IPY_MODEL_fca88c3ba1814c759e1d008c43f735ec",
       "style": "IPY_MODEL_825d9bf6a03849edab3b3e550c3c95e0",
       "value": " 79/? [00:12&lt;00:00,  7.32it/s]"
      }
     },
     "e9fb2803390446b0aae0c9bfee44aa5f": {
      "model_module": "@jupyter-widgets/controls",
      "model_module_version": "1.5.0",
      "model_name": "DescriptionStyleModel",
      "state": {
       "description_width": ""
      }
     },
     "eb1203da62eb4e83b7c896feec77af64": {
      "model_module": "@jupyter-widgets/controls",
      "model_module_version": "1.5.0",
      "model_name": "FloatProgressModel",
      "state": {
       "bar_style": "success",
       "description": "100%",
       "layout": "IPY_MODEL_74fea6082f1643df868840977d2afc52",
       "max": 10,
       "style": "IPY_MODEL_b2a6231811874c139a4f4116138e647a",
       "value": 10
      }
     },
     "eb44a41099624e8c997a5cf988d2e917": {
      "model_module": "@jupyter-widgets/base",
      "model_module_version": "1.2.0",
      "model_name": "LayoutModel",
      "state": {}
     },
     "ebb2585dacbd468dab24ec3cb39dc589": {
      "model_module": "@jupyter-widgets/controls",
      "model_module_version": "1.5.0",
      "model_name": "HBoxModel",
      "state": {
       "children": [
        "IPY_MODEL_174cd35cf82e4016beea8bc1f4100976",
        "IPY_MODEL_9a26435c5b124274bdde684889a0673e"
       ],
       "layout": "IPY_MODEL_44cc8840219940859c05f720af15450f"
      }
     },
     "ec0069b542944c48b9fd295de10a6329": {
      "model_module": "@jupyter-widgets/base",
      "model_module_version": "1.2.0",
      "model_name": "LayoutModel",
      "state": {}
     },
     "ec2d6eacc9984a4186ad6747c8686288": {
      "model_module": "@jupyter-widgets/base",
      "model_module_version": "1.2.0",
      "model_name": "LayoutModel",
      "state": {}
     },
     "ec36ba5cc58d48e8971bde65925b2dc7": {
      "model_module": "@jupyter-widgets/base",
      "model_module_version": "1.2.0",
      "model_name": "LayoutModel",
      "state": {}
     },
     "ec7d0002cea04631aec705e446b904b3": {
      "model_module": "@jupyter-widgets/base",
      "model_module_version": "1.2.0",
      "model_name": "LayoutModel",
      "state": {}
     },
     "ecbbcb05bac14e1a9c5b3a2912e20b98": {
      "model_module": "@jupyter-widgets/base",
      "model_module_version": "1.2.0",
      "model_name": "LayoutModel",
      "state": {}
     },
     "ed33778ac371456d9d07001008b9bfc8": {
      "model_module": "@jupyter-widgets/base",
      "model_module_version": "1.2.0",
      "model_name": "LayoutModel",
      "state": {}
     },
     "ed688cc29ecd468783e72e9007e8e721": {
      "model_module": "@jupyter-widgets/controls",
      "model_module_version": "1.5.0",
      "model_name": "DescriptionStyleModel",
      "state": {
       "description_width": ""
      }
     },
     "ee89124b32b24c2593ded8d113d64aac": {
      "model_module": "@jupyter-widgets/controls",
      "model_module_version": "1.5.0",
      "model_name": "HTMLModel",
      "state": {
       "layout": "IPY_MODEL_1c4c2074309d4d75920a4a4e7f178c03",
       "style": "IPY_MODEL_aa5c75badf1e4602b3e263f84c71ced1",
       "value": " 79/? [00:12&lt;00:00,  7.33it/s]"
      }
     },
     "ee93c742392142c3906819c32037e1fb": {
      "model_module": "@jupyter-widgets/base",
      "model_module_version": "1.2.0",
      "model_name": "LayoutModel",
      "state": {}
     },
     "eed2d34d58a341028595524790cde177": {
      "model_module": "@jupyter-widgets/base",
      "model_module_version": "1.2.0",
      "model_name": "LayoutModel",
      "state": {}
     },
     "ef50571f43fb4f88ae746ec7d1346a59": {
      "model_module": "@jupyter-widgets/controls",
      "model_module_version": "1.5.0",
      "model_name": "HTMLModel",
      "state": {
       "layout": "IPY_MODEL_85284dfe3c764a1bb6574ae20776e81f",
       "style": "IPY_MODEL_b2c09907c7364455a64e2379a0bf9f1d",
       "value": " 10/50 [3:45:04&lt;15:00:00, 1350.01s/it, best_f1=0.778, current=0.76]"
      }
     },
     "ef8049a68a56468eb0fa8028be4282da": {
      "model_module": "@jupyter-widgets/base",
      "model_module_version": "1.2.0",
      "model_name": "LayoutModel",
      "state": {}
     },
     "efdad168851e46ada4d87a04fb9b0b05": {
      "model_module": "@jupyter-widgets/controls",
      "model_module_version": "1.5.0",
      "model_name": "HBoxModel",
      "state": {
       "children": [
        "IPY_MODEL_f034690595de489bbb9a80b6ff319084",
        "IPY_MODEL_31b9d1345399401398ba594c5a5cf772"
       ],
       "layout": "IPY_MODEL_ec2d6eacc9984a4186ad6747c8686288"
      }
     },
     "f02980796cad47fc8f92d2a57f562f05": {
      "model_module": "@jupyter-widgets/controls",
      "model_module_version": "1.5.0",
      "model_name": "DescriptionStyleModel",
      "state": {
       "description_width": ""
      }
     },
     "f034690595de489bbb9a80b6ff319084": {
      "model_module": "@jupyter-widgets/controls",
      "model_module_version": "1.5.0",
      "model_name": "FloatProgressModel",
      "state": {
       "description": "training_routine:   2%",
       "layout": "IPY_MODEL_0d8fc6d67fc248b0a29280f442c20451",
       "max": 50,
       "style": "IPY_MODEL_d9a9b4aeb3b04fd6ba7ffa2a2bb38860",
       "value": 1
      }
     },
     "f07157eb56f94470b049f46870423da5": {
      "model_module": "@jupyter-widgets/controls",
      "model_module_version": "1.5.0",
      "model_name": "HTMLModel",
      "state": {
       "layout": "IPY_MODEL_06eed71c602c43edb415d355caa58e1c",
       "style": "IPY_MODEL_20fdc564000e4d938c3747b9b729020d",
       "value": " 79/? [00:12&lt;00:00,  7.34it/s]"
      }
     },
     "f171657f70144add8d053f63a6d6b3c5": {
      "model_module": "@jupyter-widgets/base",
      "model_module_version": "1.2.0",
      "model_name": "LayoutModel",
      "state": {}
     },
     "f187fb6ab1804b9c810275da41ff3e80": {
      "model_module": "@jupyter-widgets/controls",
      "model_module_version": "1.5.0",
      "model_name": "HTMLModel",
      "state": {
       "layout": "IPY_MODEL_f2faec7a843944bf82a56fc5bcb653cf",
       "style": "IPY_MODEL_69fa802a0b4f45f18a4ccdd31c9fc7da",
       "value": " 79/? [00:12&lt;00:00,  7.31it/s]"
      }
     },
     "f1f63e4b971b448bb567325105dc1703": {
      "model_module": "@jupyter-widgets/controls",
      "model_module_version": "1.5.0",
      "model_name": "HTMLModel",
      "state": {
       "layout": "IPY_MODEL_34bc9a7d980348879708fec587a59bb5",
       "style": "IPY_MODEL_73e9167b395f4e1dbaaa7f170b5fd357",
       "value": " 79/? [00:12&lt;00:00,  7.27it/s]"
      }
     },
     "f29bab282a3148c4825c2531d90f63dc": {
      "model_module": "@jupyter-widgets/controls",
      "model_module_version": "1.5.0",
      "model_name": "ProgressStyleModel",
      "state": {
       "description_width": "initial"
      }
     },
     "f2faec7a843944bf82a56fc5bcb653cf": {
      "model_module": "@jupyter-widgets/base",
      "model_module_version": "1.2.0",
      "model_name": "LayoutModel",
      "state": {}
     },
     "f3467560d51343b0929f8ab16fe70b3c": {
      "model_module": "@jupyter-widgets/controls",
      "model_module_version": "1.5.0",
      "model_name": "FloatProgressModel",
      "state": {
       "description": "evaluation progress: ",
       "layout": "IPY_MODEL_f171657f70144add8d053f63a6d6b3c5",
       "max": 78,
       "style": "IPY_MODEL_70104a9c77364454bede697a316f1385",
       "value": 78
      }
     },
     "f44a25bff64b44b397a68a35b6d3719b": {
      "model_module": "@jupyter-widgets/controls",
      "model_module_version": "1.5.0",
      "model_name": "FloatProgressModel",
      "state": {
       "bar_style": "danger",
       "description": "  0%",
       "layout": "IPY_MODEL_ef8049a68a56468eb0fa8028be4282da",
       "max": 8,
       "style": "IPY_MODEL_18ecc3aca92746159620391ae86bb2c7"
      }
     },
     "f5aa78b626a3431a8e6d485c4d166116": {
      "model_module": "@jupyter-widgets/base",
      "model_module_version": "1.2.0",
      "model_name": "LayoutModel",
      "state": {}
     },
     "f5d315902ffc4fecb5712a56dd35aca7": {
      "model_module": "@jupyter-widgets/controls",
      "model_module_version": "1.5.0",
      "model_name": "ProgressStyleModel",
      "state": {
       "description_width": "initial"
      }
     },
     "f6c98b5d73ac499fa299348e09597244": {
      "model_module": "@jupyter-widgets/controls",
      "model_module_version": "1.5.0",
      "model_name": "FloatProgressModel",
      "state": {
       "description": "evaluation progress: ",
       "layout": "IPY_MODEL_2b9b7a23794e442e96990bb116d42bb1",
       "max": 78,
       "style": "IPY_MODEL_18d35c72f8c14841837aceae60c95cf5",
       "value": 78
      }
     },
     "f6f85d3a86ef4824814e57b315e9089b": {
      "model_module": "@jupyter-widgets/base",
      "model_module_version": "1.2.0",
      "model_name": "LayoutModel",
      "state": {}
     },
     "f78aa21aff8d4ee9b9f3485ad8519522": {
      "model_module": "@jupyter-widgets/base",
      "model_module_version": "1.2.0",
      "model_name": "LayoutModel",
      "state": {}
     },
     "f7f05d4be6c34b42b2ecdf23086f77b7": {
      "model_module": "@jupyter-widgets/controls",
      "model_module_version": "1.5.0",
      "model_name": "ProgressStyleModel",
      "state": {
       "description_width": "initial"
      }
     },
     "f82076687ac84f699f667f16cd95b4db": {
      "model_module": "@jupyter-widgets/base",
      "model_module_version": "1.2.0",
      "model_name": "LayoutModel",
      "state": {}
     },
     "f8a446fc27044030820bfebe169fd34a": {
      "model_module": "@jupyter-widgets/base",
      "model_module_version": "1.2.0",
      "model_name": "LayoutModel",
      "state": {}
     },
     "f922e74da8594724bbb62c162fe44d20": {
      "model_module": "@jupyter-widgets/controls",
      "model_module_version": "1.5.0",
      "model_name": "ProgressStyleModel",
      "state": {
       "description_width": "initial"
      }
     },
     "f973154f821249a2be1693da9fe704e4": {
      "model_module": "@jupyter-widgets/controls",
      "model_module_version": "1.5.0",
      "model_name": "HTMLModel",
      "state": {
       "layout": "IPY_MODEL_4b1d4bd27d4a49799aef84eff4b2af00",
       "style": "IPY_MODEL_6da5e735a8bf4ef6a258a524ac2c2a05",
       "value": " 0/147 [00:00&lt;?, ?it/s]"
      }
     },
     "f9a65dd22f4949339b3ce2af8cbdbcce": {
      "model_module": "@jupyter-widgets/base",
      "model_module_version": "1.2.0",
      "model_name": "LayoutModel",
      "state": {}
     },
     "f9ec1819e50a4fab912b5ccdc6f8e1af": {
      "model_module": "@jupyter-widgets/controls",
      "model_module_version": "1.5.0",
      "model_name": "DescriptionStyleModel",
      "state": {
       "description_width": ""
      }
     },
     "fad4e651ddeb4aaf82f66556f1b4d83c": {
      "model_module": "@jupyter-widgets/controls",
      "model_module_version": "1.5.0",
      "model_name": "ProgressStyleModel",
      "state": {
       "description_width": "initial"
      }
     },
     "fad92f1bb39d46f79623db18e0323e74": {
      "model_module": "@jupyter-widgets/controls",
      "model_module_version": "1.5.0",
      "model_name": "HTMLModel",
      "state": {
       "layout": "IPY_MODEL_eb44a41099624e8c997a5cf988d2e917",
       "style": "IPY_MODEL_b73d32c6130e4786bd75c220308a9ec5",
       "value": " 8/? [00:01&lt;00:00,  6.76it/s]"
      }
     },
     "faf9be4abbfc4ba5a102c5daaa84c191": {
      "model_module": "@jupyter-widgets/controls",
      "model_module_version": "1.5.0",
      "model_name": "DescriptionStyleModel",
      "state": {
       "description_width": ""
      }
     },
     "fba707142a134e98a44500745d094958": {
      "model_module": "@jupyter-widgets/controls",
      "model_module_version": "1.5.0",
      "model_name": "FloatProgressModel",
      "state": {
       "description": "evaluation progress: ",
       "layout": "IPY_MODEL_b6861b9d18e94f339c1d727006363cbc",
       "max": 78,
       "style": "IPY_MODEL_0bd038324ff4420bbb9ac842f316b3b2",
       "value": 78
      }
     },
     "fbdc933d367e48ac8af2d2398e531d1f": {
      "model_module": "@jupyter-widgets/controls",
      "model_module_version": "1.5.0",
      "model_name": "DescriptionStyleModel",
      "state": {
       "description_width": ""
      }
     },
     "fc2c7807e9664c85a3fceeabdb5fb46e": {
      "model_module": "@jupyter-widgets/controls",
      "model_module_version": "1.5.0",
      "model_name": "FloatProgressModel",
      "state": {
       "bar_style": "success",
       "description": "100%",
       "layout": "IPY_MODEL_53d0faa405bd4753b227803d119f42e7",
       "max": 8,
       "style": "IPY_MODEL_81538ed15c7a45c8a971105e5e802e00",
       "value": 8
      }
     },
     "fca88c3ba1814c759e1d008c43f735ec": {
      "model_module": "@jupyter-widgets/base",
      "model_module_version": "1.2.0",
      "model_name": "LayoutModel",
      "state": {}
     },
     "fcc233bda1124906a3ed7246bc89d6bf": {
      "model_module": "@jupyter-widgets/base",
      "model_module_version": "1.2.0",
      "model_name": "LayoutModel",
      "state": {}
     },
     "fcc374f185a243f185a347fa389de6a8": {
      "model_module": "@jupyter-widgets/base",
      "model_module_version": "1.2.0",
      "model_name": "LayoutModel",
      "state": {}
     },
     "fcdc263d69594156b3892461778deac2": {
      "model_module": "@jupyter-widgets/base",
      "model_module_version": "1.2.0",
      "model_name": "LayoutModel",
      "state": {}
     },
     "fd0374f5a9c240cd92826bec05a89889": {
      "model_module": "@jupyter-widgets/base",
      "model_module_version": "1.2.0",
      "model_name": "LayoutModel",
      "state": {}
     },
     "fd5e9312ea7b4995b1ab684e139c946a": {
      "model_module": "@jupyter-widgets/base",
      "model_module_version": "1.2.0",
      "model_name": "LayoutModel",
      "state": {}
     },
     "fe15a6adfdda41cc92bd6bccb6efe65c": {
      "model_module": "@jupyter-widgets/base",
      "model_module_version": "1.2.0",
      "model_name": "LayoutModel",
      "state": {}
     },
     "feaf4df108e646b1a80426911a4f7f53": {
      "model_module": "@jupyter-widgets/controls",
      "model_module_version": "1.5.0",
      "model_name": "DescriptionStyleModel",
      "state": {
       "description_width": ""
      }
     },
     "fed1333d8689454487eb26b1eb54e2dd": {
      "model_module": "@jupyter-widgets/base",
      "model_module_version": "1.2.0",
      "model_name": "LayoutModel",
      "state": {}
     },
     "fed5c9a73e3c4d48b0af624d98b637cc": {
      "model_module": "@jupyter-widgets/controls",
      "model_module_version": "1.5.0",
      "model_name": "HBoxModel",
      "state": {
       "children": [
        "IPY_MODEL_a3669da9fec844a38cc19e7c93595011",
        "IPY_MODEL_8e95c3ac6e0b47bb943269842ada7fdc"
       ],
       "layout": "IPY_MODEL_ee93c742392142c3906819c32037e1fb"
      }
     },
     "fef22abfb4714088a2da2e0930c7fde9": {
      "model_module": "@jupyter-widgets/controls",
      "model_module_version": "1.5.0",
      "model_name": "HTMLModel",
      "state": {
       "layout": "IPY_MODEL_2c3d3486cb834cb09ac1be043fa77f5d",
       "style": "IPY_MODEL_19f0102ab32343cc9f24cf9762b5aa0a",
       "value": " 79/? [00:12&lt;00:00,  7.32it/s]"
      }
     },
     "ff13a9aef6924e11b105ca8e0cfe0cca": {
      "model_module": "@jupyter-widgets/base",
      "model_module_version": "1.2.0",
      "model_name": "LayoutModel",
      "state": {}
     }
    },
    "version_major": 2,
    "version_minor": 0
   }
  }
 },
 "nbformat": 4,
 "nbformat_minor": 4
}
